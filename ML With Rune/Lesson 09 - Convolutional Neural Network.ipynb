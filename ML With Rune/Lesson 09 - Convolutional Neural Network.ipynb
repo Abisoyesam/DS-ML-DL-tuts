{
 "cells": [
  {
   "cell_type": "markdown",
   "id": "b91ad528",
   "metadata": {},
   "source": [
    "# Convolutional Neural Network (CNN)\n",
    "<hr>\n",
    "- How to use it to detect handwriting\n",
    "- Extract features from pictures\n",
    "- Learn Convolution, Pooling, and Flatten\n",
    "- How to create a CNN\n",
    "\n",
    "## Computer Vision\n",
    "- Computational methods for analyzing and understanding digital images\n",
    "\n",
    "## Handwriting Detection\n",
    "![img](./images/handwritten.PNG)"
   ]
  },
  {
   "cell_type": "markdown",
   "id": "1bcea2bb",
   "metadata": {},
   "source": [
    "### Naive Approach\n",
    "\n",
    "Map one pixel to input network - have some hidden layer - then detect.\n",
    "\n",
    "![number pixel](./images/num_pixel.PNG)\n",
    "\n",
    "Creating the networks will be enormous causing loss o"
   ]
  },
  {
   "cell_type": "code",
   "execution_count": null,
   "id": "cc6bc638",
   "metadata": {},
   "outputs": [],
   "source": []
  }
 ],
 "metadata": {
  "kernelspec": {
   "display_name": "Python 3 (ipykernel)",
   "language": "python",
   "name": "python3"
  },
  "language_info": {
   "codemirror_mode": {
    "name": "ipython",
    "version": 3
   },
   "file_extension": ".py",
   "mimetype": "text/x-python",
   "name": "python",
   "nbconvert_exporter": "python",
   "pygments_lexer": "ipython3",
   "version": "3.9.13"
  }
 },
 "nbformat": 4,
 "nbformat_minor": 5
}
