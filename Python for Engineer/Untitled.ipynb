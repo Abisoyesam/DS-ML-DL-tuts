{
 "cells": [
  {
   "cell_type": "code",
   "execution_count": 1,
   "id": "23dd22b2",
   "metadata": {},
   "outputs": [
    {
     "name": "stdout",
     "output_type": "stream",
     "text": [
      "Hello world\n"
     ]
    }
   ],
   "source": [
    "print(\"Hello world\")"
   ]
  },
  {
   "cell_type": "code",
   "execution_count": 2,
   "id": "fdf51b22",
   "metadata": {},
   "outputs": [
    {
     "name": "stdout",
     "output_type": "stream",
     "text": [
      "abisoye rachael 18 200L\n"
     ]
    }
   ],
   "source": [
    "print(\"abisoye\",\"rachael\",\"18\",\"200L\")"
   ]
  },
  {
   "cell_type": "code",
   "execution_count": 3,
   "id": "0b1f4553",
   "metadata": {},
   "outputs": [
    {
     "name": "stdout",
     "output_type": "stream",
     "text": [
      "20\n",
      "40\n",
      "50\n"
     ]
    }
   ],
   "source": [
    "print(20)\n",
    "print(40)\n",
    "print(50)"
   ]
  },
  {
   "cell_type": "code",
   "execution_count": 4,
   "id": "97a06d9b",
   "metadata": {},
   "outputs": [
    {
     "name": "stdout",
     "output_type": "stream",
     "text": [
      "20 40 50\n"
     ]
    }
   ],
   "source": [
    "print(20,40,50)"
   ]
  },
  {
   "cell_type": "code",
   "execution_count": 5,
   "id": "5ea1856b",
   "metadata": {},
   "outputs": [
    {
     "name": "stdout",
     "output_type": "stream",
     "text": [
      "Hello World\n"
     ]
    }
   ],
   "source": [
    "print(\"Hello\",end=\" \")\n",
    "print(\"World\")"
   ]
  },
  {
   "cell_type": "code",
   "execution_count": 6,
   "id": "8c733f02",
   "metadata": {},
   "outputs": [
    {
     "name": "stdout",
     "output_type": "stream",
     "text": [
      "Hello,World\n"
     ]
    }
   ],
   "source": [
    "print(\"Hello\",end=\",\")\n",
    "print(\"World\")"
   ]
  },
  {
   "cell_type": "code",
   "execution_count": 7,
   "id": "5a0cb3c4",
   "metadata": {},
   "outputs": [
    {
     "name": "stdout",
     "output_type": "stream",
     "text": [
      "hello\n"
     ]
    }
   ],
   "source": [
    "# print hello\n",
    "print(\"hello\")"
   ]
  },
  {
   "cell_type": "code",
   "execution_count": 8,
   "id": "cbb2f6d3",
   "metadata": {},
   "outputs": [
    {
     "data": {
      "text/plain": [
       "'\\nThis is a multi-line\\ncomment by me.\\n\\nName: Abisoye Rachael\\n'"
      ]
     },
     "execution_count": 8,
     "metadata": {},
     "output_type": "execute_result"
    }
   ],
   "source": [
    "\"\"\"\n",
    "This is a multi-line\n",
    "comment by me.\n",
    "\n",
    "Name: Abisoye Rachael\n",
    "\"\"\""
   ]
  },
  {
   "cell_type": "code",
   "execution_count": 9,
   "id": "3a3655ef",
   "metadata": {},
   "outputs": [],
   "source": [
    "my_name = \"Abisoye Rachael\""
   ]
  },
  {
   "cell_type": "code",
   "execution_count": 10,
   "id": "64e756d1",
   "metadata": {},
   "outputs": [
    {
     "name": "stdout",
     "output_type": "stream",
     "text": [
      "Abisoye Rachael\n"
     ]
    }
   ],
   "source": [
    "print(my_name)"
   ]
  },
  {
   "cell_type": "code",
   "execution_count": 11,
   "id": "f79afafb",
   "metadata": {},
   "outputs": [],
   "source": [
    "def area_of_triangle(base, height):\n",
    "    return 0.5 * base * height"
   ]
  },
  {
   "cell_type": "code",
   "execution_count": 12,
   "id": "68a09538",
   "metadata": {},
   "outputs": [
    {
     "data": {
      "text/plain": [
       "5.0"
      ]
     },
     "execution_count": 12,
     "metadata": {},
     "output_type": "execute_result"
    }
   ],
   "source": [
    "area_of_triangle(2,5)"
   ]
  },
  {
   "cell_type": "code",
   "execution_count": 13,
   "id": "4d1fe772",
   "metadata": {},
   "outputs": [
    {
     "name": "stdout",
     "output_type": "stream",
     "text": [
      "Enter length: 4\n",
      "Enter width: 4\n",
      "The area of the room is 16.0 squared meter\n"
     ]
    }
   ],
   "source": [
    "length = float(input(\"Enter length: \"))\n",
    "width = float(input(\"Enter width: \"))\n",
    "area = width * length\n",
    "print(f'The area of the room is {area} squared meter')"
   ]
  },
  {
   "cell_type": "code",
   "execution_count": 14,
   "id": "b8f29aed",
   "metadata": {},
   "outputs": [
    {
     "name": "stdout",
     "output_type": "stream",
     "text": [
      "Enter any number: 2\n",
      "The summation of number from 1 to 2 is: 3.0\n"
     ]
    }
   ],
   "source": [
    "n = int(input(\"Enter any number: \"))\n",
    "summation = (n**2 + n)/2\n",
    "print(f'The summation of number from 1 to {n} is: {summation}')"
   ]
  },
  {
   "cell_type": "code",
   "execution_count": 15,
   "id": "7822ea8d",
   "metadata": {},
   "outputs": [
    {
     "name": "stdout",
     "output_type": "stream",
     "text": [
      "Enter length: 5\n",
      "Enter number of sides: 5\n",
      "The area is 22.704454000167523\n"
     ]
    }
   ],
   "source": [
    "from math import tan,pi\n",
    "n = int(input(\"Enter length: \"))\n",
    "s = int(input(\"Enter number of sides: \"))\n",
    "area = (n * s**2)/4*tan(pi/n)\n",
    "print(f\"The area is {area}\")"
   ]
  },
  {
   "cell_type": "code",
   "execution_count": 16,
   "id": "2360e3fd",
   "metadata": {},
   "outputs": [],
   "source": [
    "age = 18"
   ]
  },
  {
   "cell_type": "code",
   "execution_count": 17,
   "id": "8cecff95",
   "metadata": {},
   "outputs": [
    {
     "data": {
      "text/plain": [
       "(2+1j)"
      ]
     },
     "execution_count": 17,
     "metadata": {},
     "output_type": "execute_result"
    }
   ],
   "source": [
    "complex(2,1)"
   ]
  },
  {
   "cell_type": "code",
   "execution_count": 18,
   "id": "eea8de59",
   "metadata": {},
   "outputs": [
    {
     "data": {
      "text/plain": [
       "'a'"
      ]
     },
     "execution_count": 18,
     "metadata": {},
     "output_type": "execute_result"
    }
   ],
   "source": [
    "\"a\""
   ]
  },
  {
   "cell_type": "code",
   "execution_count": 19,
   "id": "7d2d8912",
   "metadata": {},
   "outputs": [
    {
     "data": {
      "text/plain": [
       "' '"
      ]
     },
     "execution_count": 19,
     "metadata": {},
     "output_type": "execute_result"
    }
   ],
   "source": [
    "\" \""
   ]
  },
  {
   "cell_type": "code",
   "execution_count": 20,
   "id": "0280d82a",
   "metadata": {},
   "outputs": [
    {
     "data": {
      "text/plain": [
       "15"
      ]
     },
     "execution_count": 20,
     "metadata": {},
     "output_type": "execute_result"
    }
   ],
   "source": [
    "len(\"Abisoye Rachael\")"
   ]
  },
  {
   "cell_type": "code",
   "execution_count": 21,
   "id": "5c9d5918",
   "metadata": {},
   "outputs": [],
   "source": [
    "name = \"Abisoye\""
   ]
  },
  {
   "cell_type": "code",
   "execution_count": 22,
   "id": "65cf399d",
   "metadata": {},
   "outputs": [
    {
     "data": {
      "text/plain": [
       "'A'"
      ]
     },
     "execution_count": 22,
     "metadata": {},
     "output_type": "execute_result"
    }
   ],
   "source": [
    "name[0]"
   ]
  },
  {
   "cell_type": "code",
   "execution_count": 23,
   "id": "f9491565",
   "metadata": {},
   "outputs": [
    {
     "data": {
      "text/plain": [
       "'e'"
      ]
     },
     "execution_count": 23,
     "metadata": {},
     "output_type": "execute_result"
    }
   ],
   "source": [
    "name[-1]"
   ]
  },
  {
   "cell_type": "code",
   "execution_count": 24,
   "id": "546cbc13",
   "metadata": {},
   "outputs": [],
   "source": [
    "last_letter = len(name)-1"
   ]
  },
  {
   "cell_type": "code",
   "execution_count": 25,
   "id": "0bca07ed",
   "metadata": {},
   "outputs": [
    {
     "data": {
      "text/plain": [
       "6"
      ]
     },
     "execution_count": 25,
     "metadata": {},
     "output_type": "execute_result"
    }
   ],
   "source": [
    "last_letter"
   ]
  },
  {
   "cell_type": "code",
   "execution_count": 26,
   "id": "0158e02c",
   "metadata": {},
   "outputs": [
    {
     "data": {
      "text/plain": [
       "'e'"
      ]
     },
     "execution_count": 26,
     "metadata": {},
     "output_type": "execute_result"
    }
   ],
   "source": [
    "name[last_letter]"
   ]
  },
  {
   "cell_type": "code",
   "execution_count": 27,
   "id": "0e231d08",
   "metadata": {},
   "outputs": [
    {
     "data": {
      "text/plain": [
       "'Rachael'"
      ]
     },
     "execution_count": 27,
     "metadata": {},
     "output_type": "execute_result"
    }
   ],
   "source": [
    "full_name = \"Abisoye Rachael\"\n",
    "first_name = full_name[8:]\n",
    "first_name"
   ]
  },
  {
   "cell_type": "code",
   "execution_count": 28,
   "id": "3ee4214a",
   "metadata": {},
   "outputs": [
    {
     "name": "stdout",
     "output_type": "stream",
     "text": [
      "gnirts ym si sihT\n"
     ]
    }
   ],
   "source": [
    "my_string = \"This is my string\"\n",
    "print(my_string[::-1])"
   ]
  },
  {
   "cell_type": "code",
   "execution_count": 29,
   "id": "748e652b",
   "metadata": {},
   "outputs": [
    {
     "data": {
      "text/plain": [
       "'eyosibA'"
      ]
     },
     "execution_count": 29,
     "metadata": {},
     "output_type": "execute_result"
    }
   ],
   "source": [
    "name[::-1]"
   ]
  },
  {
   "cell_type": "code",
   "execution_count": 30,
   "id": "37dd061d",
   "metadata": {},
   "outputs": [
    {
     "data": {
      "text/plain": [
       "0"
      ]
     },
     "execution_count": 30,
     "metadata": {},
     "output_type": "execute_result"
    }
   ],
   "source": [
    "20%4"
   ]
  },
  {
   "cell_type": "code",
   "execution_count": 31,
   "id": "1c9c8adb",
   "metadata": {},
   "outputs": [
    {
     "data": {
      "text/plain": [
       "2"
      ]
     },
     "execution_count": 31,
     "metadata": {},
     "output_type": "execute_result"
    }
   ],
   "source": [
    "5//2"
   ]
  },
  {
   "cell_type": "code",
   "execution_count": 32,
   "id": "790a5665",
   "metadata": {},
   "outputs": [],
   "source": [
    "num = 10\n",
    "num += 5"
   ]
  },
  {
   "cell_type": "code",
   "execution_count": 33,
   "id": "8cc0420b",
   "metadata": {},
   "outputs": [
    {
     "data": {
      "text/plain": [
       "15"
      ]
     },
     "execution_count": 33,
     "metadata": {},
     "output_type": "execute_result"
    }
   ],
   "source": [
    "num"
   ]
  },
  {
   "cell_type": "code",
   "execution_count": 34,
   "id": "57ff5ef7",
   "metadata": {},
   "outputs": [],
   "source": [
    "num = num + 5\n",
    "\n",
    "num += 5"
   ]
  },
  {
   "cell_type": "code",
   "execution_count": 35,
   "id": "606246ba",
   "metadata": {},
   "outputs": [
    {
     "data": {
      "text/plain": [
       "True"
      ]
     },
     "execution_count": 35,
     "metadata": {},
     "output_type": "execute_result"
    }
   ],
   "source": [
    "\"A\" in \"Akinloye\""
   ]
  },
  {
   "cell_type": "code",
   "execution_count": 36,
   "id": "67e3c627",
   "metadata": {},
   "outputs": [
    {
     "name": "stdout",
     "output_type": "stream",
     "text": [
      "Go and register for voter's card\n"
     ]
    }
   ],
   "source": [
    "age = 18\n",
    "isRegistered = False\n",
    "\n",
    "if age >= 18 and isRegistered:\n",
    "    print(\"You can vote!\")\n",
    "elif age >= 18 and not isRegistered:\n",
    "    print(\"Go and register for voter's card\")\n",
    "else:\n",
    "    print(\"You are not eligible to vote!!!\")"
   ]
  },
  {
   "cell_type": "code",
   "execution_count": 37,
   "id": "8d780955",
   "metadata": {},
   "outputs": [
    {
     "name": "stdout",
     "output_type": "stream",
     "text": [
      "The number is greater than 50\n"
     ]
    }
   ],
   "source": [
    "num = 60\n",
    "\n",
    "output = \"The number is less than or equal 50\" if num <= 50 else \"The number is greater than 50\"\n",
    "    \n",
    "print(output)"
   ]
  },
  {
   "cell_type": "code",
   "execution_count": 38,
   "id": "8d49b82e",
   "metadata": {},
   "outputs": [
    {
     "name": "stdout",
     "output_type": "stream",
     "text": [
      "Enter any number: 24\n",
      "It is an even number.\n"
     ]
    }
   ],
   "source": [
    "num = int(input(\"Enter any number: \"))\n",
    "\n",
    "if num%2 == 0:\n",
    "    print(\"It is an even number.\")\n",
    "else:\n",
    "    print(\"It is an odd number.\")"
   ]
  },
  {
   "cell_type": "code",
   "execution_count": 39,
   "id": "282b09b2",
   "metadata": {},
   "outputs": [
    {
     "name": "stdout",
     "output_type": "stream",
     "text": [
      "Enter a year: 1998\n",
      "Year 1998 isn't a leap year.\n"
     ]
    }
   ],
   "source": [
    "year = int(input(\"Enter a year: \"))\n",
    "\n",
    "if year%4 == 0:\n",
    "    print(f\"Year {year} is a leap year.\")\n",
    "else:\n",
    "    print(f'Year {year} isn\\'t a leap year.')"
   ]
  },
  {
   "cell_type": "code",
   "execution_count": 40,
   "id": "e3d79c66",
   "metadata": {},
   "outputs": [
    {
     "data": {
      "text/plain": [
       "27"
      ]
     },
     "execution_count": 40,
     "metadata": {},
     "output_type": "execute_result"
    }
   ],
   "source": [
    "sum([4,5,4,5,6,3])"
   ]
  },
  {
   "cell_type": "code",
   "execution_count": 41,
   "id": "0011f950",
   "metadata": {},
   "outputs": [
    {
     "data": {
      "text/plain": [
       "7"
      ]
     },
     "execution_count": 41,
     "metadata": {},
     "output_type": "execute_result"
    }
   ],
   "source": [
    "len(\"Abisoye\")"
   ]
  },
  {
   "cell_type": "code",
   "execution_count": 42,
   "id": "21d5ac43",
   "metadata": {},
   "outputs": [
    {
     "data": {
      "text/plain": [
       "2"
      ]
     },
     "execution_count": 42,
     "metadata": {},
     "output_type": "execute_result"
    }
   ],
   "source": [
    "min([2,3,4,51])"
   ]
  },
  {
   "cell_type": "code",
   "execution_count": 43,
   "id": "9af80fd8",
   "metadata": {},
   "outputs": [],
   "source": [
    "def print_name():\n",
    "    print(\"Last name: Abisoye\")\n",
    "    print(\"First name: Rachael\")"
   ]
  },
  {
   "cell_type": "code",
   "execution_count": 44,
   "id": "92b425a9",
   "metadata": {},
   "outputs": [
    {
     "name": "stdout",
     "output_type": "stream",
     "text": [
      "Last name: Abisoye\n",
      "First name: Rachael\n"
     ]
    }
   ],
   "source": [
    "print_name()"
   ]
  },
  {
   "cell_type": "code",
   "execution_count": 45,
   "id": "fe0a62c7",
   "metadata": {},
   "outputs": [],
   "source": [
    "def multipy():\n",
    "    a,b = 5,7\n",
    "    return a,b\n",
    "    print(\"hello\")"
   ]
  },
  {
   "cell_type": "code",
   "execution_count": 46,
   "id": "2963063d",
   "metadata": {},
   "outputs": [
    {
     "data": {
      "text/plain": [
       "(5, 7)"
      ]
     },
     "execution_count": 46,
     "metadata": {},
     "output_type": "execute_result"
    }
   ],
   "source": [
    "multipy()"
   ]
  },
  {
   "cell_type": "code",
   "execution_count": 47,
   "id": "d2dfc685",
   "metadata": {},
   "outputs": [],
   "source": [
    "a,b = multipy()"
   ]
  },
  {
   "cell_type": "code",
   "execution_count": 48,
   "id": "ca9c4d1d",
   "metadata": {},
   "outputs": [
    {
     "data": {
      "text/plain": [
       "5"
      ]
     },
     "execution_count": 48,
     "metadata": {},
     "output_type": "execute_result"
    }
   ],
   "source": [
    "a"
   ]
  },
  {
   "cell_type": "code",
   "execution_count": 49,
   "id": "c2886753",
   "metadata": {},
   "outputs": [
    {
     "name": "stdout",
     "output_type": "stream",
     "text": [
      "2\n"
     ]
    }
   ],
   "source": [
    "# scope in python\n",
    "\n",
    "num = 2\n",
    "\n",
    "def mult():\n",
    "    num = 8\n",
    "    return num * 2\n",
    "\n",
    "print(num)"
   ]
  },
  {
   "cell_type": "code",
   "execution_count": 50,
   "id": "b5d2ff5c",
   "metadata": {},
   "outputs": [
    {
     "data": {
      "text/plain": [
       "16"
      ]
     },
     "execution_count": 50,
     "metadata": {},
     "output_type": "execute_result"
    }
   ],
   "source": [
    "mult()"
   ]
  },
  {
   "cell_type": "code",
   "execution_count": 51,
   "id": "1a36370c",
   "metadata": {},
   "outputs": [],
   "source": [
    "def func():\n",
    "    name = \"Rachael\"\n",
    "    return name"
   ]
  },
  {
   "cell_type": "code",
   "execution_count": 52,
   "id": "512e5fa2",
   "metadata": {},
   "outputs": [
    {
     "data": {
      "text/plain": [
       "'Rachael'"
      ]
     },
     "execution_count": 52,
     "metadata": {},
     "output_type": "execute_result"
    }
   ],
   "source": [
    "func()"
   ]
  },
  {
   "cell_type": "code",
   "execution_count": 53,
   "id": "3e60ee36",
   "metadata": {},
   "outputs": [
    {
     "name": "stdout",
     "output_type": "stream",
     "text": [
      "Abisoye\n"
     ]
    }
   ],
   "source": [
    "print(name)"
   ]
  },
  {
   "cell_type": "code",
   "execution_count": 54,
   "id": "425ea878",
   "metadata": {},
   "outputs": [],
   "source": [
    "triple = lambda num : num*3"
   ]
  },
  {
   "cell_type": "code",
   "execution_count": 55,
   "id": "60ac4e7d",
   "metadata": {},
   "outputs": [
    {
     "data": {
      "text/plain": [
       "9"
      ]
     },
     "execution_count": 55,
     "metadata": {},
     "output_type": "execute_result"
    }
   ],
   "source": [
    "triple(3)"
   ]
  },
  {
   "cell_type": "code",
   "execution_count": 56,
   "id": "88c8dc72",
   "metadata": {},
   "outputs": [],
   "source": [
    "def triple(num):\n",
    "    return num*3"
   ]
  },
  {
   "cell_type": "code",
   "execution_count": 57,
   "id": "c569e1ad",
   "metadata": {},
   "outputs": [
    {
     "data": {
      "text/plain": [
       "18"
      ]
     },
     "execution_count": 57,
     "metadata": {},
     "output_type": "execute_result"
    }
   ],
   "source": [
    "triple(6)"
   ]
  },
  {
   "cell_type": "code",
   "execution_count": 58,
   "id": "7566f997",
   "metadata": {},
   "outputs": [],
   "source": [
    "sqrt = lambda num : num**0.5"
   ]
  },
  {
   "cell_type": "code",
   "execution_count": 59,
   "id": "e51566f2",
   "metadata": {},
   "outputs": [
    {
     "data": {
      "text/plain": [
       "4.0"
      ]
     },
     "execution_count": 59,
     "metadata": {},
     "output_type": "execute_result"
    }
   ],
   "source": [
    "sqrt(16)"
   ]
  },
  {
   "cell_type": "code",
   "execution_count": 60,
   "id": "706ae858",
   "metadata": {},
   "outputs": [
    {
     "name": "stdout",
     "output_type": "stream",
     "text": [
      "Hello, World!\n",
      "Hello, World!\n",
      "Hello, World!\n",
      "Hello, World!\n",
      "Hello, World!\n",
      "Hello, World!\n",
      "Hello, World!\n",
      "Hello, World!\n",
      "Hello, World!\n",
      "Hello, World!\n"
     ]
    }
   ],
   "source": [
    "for i in range(10):\n",
    "    print(\"Hello, World!\")"
   ]
  },
  {
   "cell_type": "code",
   "execution_count": 61,
   "id": "9805dc04",
   "metadata": {},
   "outputs": [
    {
     "name": "stdout",
     "output_type": "stream",
     "text": [
      "Hello, I am Rachael\n",
      "Hello, I am Rachael\n",
      "Hello, I am Rachael\n",
      "Hello, I am Rachael\n",
      "Hello, I am Rachael\n",
      "Hello, I am Rachael\n",
      "Hello, I am Rachael\n",
      "Hello, I am Rachael\n",
      "Hello, I am Rachael\n",
      "Hello, I am Rachael\n"
     ]
    }
   ],
   "source": [
    "n = 0\n",
    "\n",
    "while n < 10:\n",
    "    print(\"Hello, I am Rachael\")\n",
    "    n += 1"
   ]
  },
  {
   "cell_type": "code",
   "execution_count": 62,
   "id": "8826df94",
   "metadata": {},
   "outputs": [
    {
     "name": "stdout",
     "output_type": "stream",
     "text": [
      "A\n",
      "b\n",
      "i\n",
      "s\n",
      "o\n",
      "y\n",
      "e\n"
     ]
    }
   ],
   "source": [
    "for letter in \"Abisoye\":\n",
    "    print(letter)"
   ]
  },
  {
   "cell_type": "code",
   "execution_count": 63,
   "id": "53c9594f",
   "metadata": {},
   "outputs": [
    {
     "data": {
      "text/plain": [
       "7"
      ]
     },
     "execution_count": 63,
     "metadata": {},
     "output_type": "execute_result"
    }
   ],
   "source": [
    "len(\"Abisoye\")"
   ]
  },
  {
   "cell_type": "code",
   "execution_count": 66,
   "id": "edb3e946",
   "metadata": {},
   "outputs": [
    {
     "name": "stdout",
     "output_type": "stream",
     "text": [
      "1\n",
      "5\n",
      "4\n",
      "6\n",
      "7\n",
      "4\n",
      "3\n"
     ]
    }
   ],
   "source": [
    "for i in [1,5,4,6,7,2,4,3]:\n",
    "    if i == 2:\n",
    "        continue\n",
    "    print(i)"
   ]
  },
  {
   "cell_type": "code",
   "execution_count": null,
   "id": "5a4eaf3d",
   "metadata": {},
   "outputs": [],
   "source": []
  }
 ],
 "metadata": {
  "kernelspec": {
   "display_name": "Python 3 (ipykernel)",
   "language": "python",
   "name": "python3"
  },
  "language_info": {
   "codemirror_mode": {
    "name": "ipython",
    "version": 3
   },
   "file_extension": ".py",
   "mimetype": "text/x-python",
   "name": "python",
   "nbconvert_exporter": "python",
   "pygments_lexer": "ipython3",
   "version": "3.9.13"
  }
 },
 "nbformat": 4,
 "nbformat_minor": 5
}
