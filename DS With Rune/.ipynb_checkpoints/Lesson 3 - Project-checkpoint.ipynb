{
 "cells": [
  {
   "cell_type": "markdown",
   "id": "0608174b",
   "metadata": {},
   "source": [
    "# CO2 per Capita\n",
    "\n",
    "<hr>\n",
    "\n",
    "## Step 1: Acquire\n",
    "* Explore problem\n",
    "* Identify data\n",
    "* Import data"
   ]
  },
  {
   "cell_type": "code",
   "execution_count": 1,
   "id": "51dac6e4",
   "metadata": {},
   "outputs": [],
   "source": [
    "import pandas as pd\n",
    "import matplotlib.pyplot as plt"
   ]
  },
  {
   "cell_type": "code",
   "execution_count": 2,
   "id": "e7be8015",
   "metadata": {},
   "outputs": [
    {
     "data": {
      "text/html": [
       "<div>\n",
       "<style scoped>\n",
       "    .dataframe tbody tr th:only-of-type {\n",
       "        vertical-align: middle;\n",
       "    }\n",
       "\n",
       "    .dataframe tbody tr th {\n",
       "        vertical-align: top;\n",
       "    }\n",
       "\n",
       "    .dataframe thead th {\n",
       "        text-align: right;\n",
       "    }\n",
       "</style>\n",
       "<table border=\"1\" class=\"dataframe\">\n",
       "  <thead>\n",
       "    <tr style=\"text-align: right;\">\n",
       "      <th></th>\n",
       "      <th>ABW</th>\n",
       "      <th>AFE</th>\n",
       "      <th>AFG</th>\n",
       "      <th>AFW</th>\n",
       "      <th>AGO</th>\n",
       "      <th>ALB</th>\n",
       "      <th>AND</th>\n",
       "      <th>ARB</th>\n",
       "      <th>ARE</th>\n",
       "      <th>ARG</th>\n",
       "      <th>...</th>\n",
       "      <th>VIR</th>\n",
       "      <th>VNM</th>\n",
       "      <th>VUT</th>\n",
       "      <th>WLD</th>\n",
       "      <th>WSM</th>\n",
       "      <th>XKX</th>\n",
       "      <th>YEM</th>\n",
       "      <th>ZAF</th>\n",
       "      <th>ZMB</th>\n",
       "      <th>ZWE</th>\n",
       "    </tr>\n",
       "    <tr>\n",
       "      <th>Year</th>\n",
       "      <th></th>\n",
       "      <th></th>\n",
       "      <th></th>\n",
       "      <th></th>\n",
       "      <th></th>\n",
       "      <th></th>\n",
       "      <th></th>\n",
       "      <th></th>\n",
       "      <th></th>\n",
       "      <th></th>\n",
       "      <th></th>\n",
       "      <th></th>\n",
       "      <th></th>\n",
       "      <th></th>\n",
       "      <th></th>\n",
       "      <th></th>\n",
       "      <th></th>\n",
       "      <th></th>\n",
       "      <th></th>\n",
       "      <th></th>\n",
       "      <th></th>\n",
       "    </tr>\n",
       "  </thead>\n",
       "  <tbody>\n",
       "    <tr>\n",
       "      <th>1960</th>\n",
       "      <td>204.631696</td>\n",
       "      <td>0.906060</td>\n",
       "      <td>0.046057</td>\n",
       "      <td>0.090880</td>\n",
       "      <td>0.100835</td>\n",
       "      <td>1.258195</td>\n",
       "      <td>NaN</td>\n",
       "      <td>0.609268</td>\n",
       "      <td>0.119037</td>\n",
       "      <td>2.383343</td>\n",
       "      <td>...</td>\n",
       "      <td>NaN</td>\n",
       "      <td>0.181947</td>\n",
       "      <td>NaN</td>\n",
       "      <td>3.121158</td>\n",
       "      <td>0.135031</td>\n",
       "      <td>NaN</td>\n",
       "      <td>0.011038</td>\n",
       "      <td>5.727223</td>\n",
       "      <td>NaN</td>\n",
       "      <td>NaN</td>\n",
       "    </tr>\n",
       "    <tr>\n",
       "      <th>1961</th>\n",
       "      <td>208.837879</td>\n",
       "      <td>0.922474</td>\n",
       "      <td>0.053589</td>\n",
       "      <td>0.095283</td>\n",
       "      <td>0.082204</td>\n",
       "      <td>1.374186</td>\n",
       "      <td>NaN</td>\n",
       "      <td>0.662618</td>\n",
       "      <td>0.109136</td>\n",
       "      <td>2.458551</td>\n",
       "      <td>...</td>\n",
       "      <td>NaN</td>\n",
       "      <td>0.183099</td>\n",
       "      <td>NaN</td>\n",
       "      <td>3.068090</td>\n",
       "      <td>0.163542</td>\n",
       "      <td>NaN</td>\n",
       "      <td>0.013599</td>\n",
       "      <td>5.832621</td>\n",
       "      <td>NaN</td>\n",
       "      <td>NaN</td>\n",
       "    </tr>\n",
       "    <tr>\n",
       "      <th>1962</th>\n",
       "      <td>226.081890</td>\n",
       "      <td>0.930816</td>\n",
       "      <td>0.073721</td>\n",
       "      <td>0.096612</td>\n",
       "      <td>0.210533</td>\n",
       "      <td>1.439956</td>\n",
       "      <td>NaN</td>\n",
       "      <td>0.727117</td>\n",
       "      <td>0.163542</td>\n",
       "      <td>2.538447</td>\n",
       "      <td>...</td>\n",
       "      <td>NaN</td>\n",
       "      <td>0.217694</td>\n",
       "      <td>0.595002</td>\n",
       "      <td>3.114839</td>\n",
       "      <td>0.158377</td>\n",
       "      <td>NaN</td>\n",
       "      <td>0.012729</td>\n",
       "      <td>5.887168</td>\n",
       "      <td>NaN</td>\n",
       "      <td>NaN</td>\n",
       "    </tr>\n",
       "    <tr>\n",
       "      <th>1963</th>\n",
       "      <td>214.785217</td>\n",
       "      <td>0.940570</td>\n",
       "      <td>0.074161</td>\n",
       "      <td>0.112376</td>\n",
       "      <td>0.202739</td>\n",
       "      <td>1.181681</td>\n",
       "      <td>NaN</td>\n",
       "      <td>0.853116</td>\n",
       "      <td>0.175833</td>\n",
       "      <td>2.330685</td>\n",
       "      <td>...</td>\n",
       "      <td>NaN</td>\n",
       "      <td>0.196997</td>\n",
       "      <td>0.471849</td>\n",
       "      <td>3.221195</td>\n",
       "      <td>0.184037</td>\n",
       "      <td>NaN</td>\n",
       "      <td>0.014518</td>\n",
       "      <td>5.961337</td>\n",
       "      <td>NaN</td>\n",
       "      <td>NaN</td>\n",
       "    </tr>\n",
       "    <tr>\n",
       "      <th>1964</th>\n",
       "      <td>207.626699</td>\n",
       "      <td>0.996033</td>\n",
       "      <td>0.086174</td>\n",
       "      <td>0.133258</td>\n",
       "      <td>0.213562</td>\n",
       "      <td>1.111742</td>\n",
       "      <td>NaN</td>\n",
       "      <td>0.972381</td>\n",
       "      <td>0.132815</td>\n",
       "      <td>2.553442</td>\n",
       "      <td>...</td>\n",
       "      <td>NaN</td>\n",
       "      <td>0.209870</td>\n",
       "      <td>0.864427</td>\n",
       "      <td>3.324046</td>\n",
       "      <td>0.208106</td>\n",
       "      <td>NaN</td>\n",
       "      <td>0.017550</td>\n",
       "      <td>6.332343</td>\n",
       "      <td>0.946606</td>\n",
       "      <td>1.034904</td>\n",
       "    </tr>\n",
       "  </tbody>\n",
       "</table>\n",
       "<p>5 rows × 266 columns</p>\n",
       "</div>"
      ],
      "text/plain": [
       "             ABW       AFE       AFG       AFW       AGO       ALB  AND  \\\n",
       "Year                                                                      \n",
       "1960  204.631696  0.906060  0.046057  0.090880  0.100835  1.258195  NaN   \n",
       "1961  208.837879  0.922474  0.053589  0.095283  0.082204  1.374186  NaN   \n",
       "1962  226.081890  0.930816  0.073721  0.096612  0.210533  1.439956  NaN   \n",
       "1963  214.785217  0.940570  0.074161  0.112376  0.202739  1.181681  NaN   \n",
       "1964  207.626699  0.996033  0.086174  0.133258  0.213562  1.111742  NaN   \n",
       "\n",
       "           ARB       ARE       ARG  ...  VIR       VNM       VUT       WLD  \\\n",
       "Year                                ...                                      \n",
       "1960  0.609268  0.119037  2.383343  ...  NaN  0.181947       NaN  3.121158   \n",
       "1961  0.662618  0.109136  2.458551  ...  NaN  0.183099       NaN  3.068090   \n",
       "1962  0.727117  0.163542  2.538447  ...  NaN  0.217694  0.595002  3.114839   \n",
       "1963  0.853116  0.175833  2.330685  ...  NaN  0.196997  0.471849  3.221195   \n",
       "1964  0.972381  0.132815  2.553442  ...  NaN  0.209870  0.864427  3.324046   \n",
       "\n",
       "           WSM  XKX       YEM       ZAF       ZMB       ZWE  \n",
       "Year                                                         \n",
       "1960  0.135031  NaN  0.011038  5.727223       NaN       NaN  \n",
       "1961  0.163542  NaN  0.013599  5.832621       NaN       NaN  \n",
       "1962  0.158377  NaN  0.012729  5.887168       NaN       NaN  \n",
       "1963  0.184037  NaN  0.014518  5.961337       NaN       NaN  \n",
       "1964  0.208106  NaN  0.017550  6.332343  0.946606  1.034904  \n",
       "\n",
       "[5 rows x 266 columns]"
      ]
     },
     "execution_count": 2,
     "metadata": {},
     "output_type": "execute_result"
    }
   ],
   "source": [
    "data = pd.read_csv('./data/WorldCO2.csv', index_col=0)\n",
    "data.head()"
   ]
  },
  {
   "cell_type": "code",
   "execution_count": 3,
   "id": "851fde26",
   "metadata": {},
   "outputs": [
    {
     "data": {
      "text/plain": [
       "(59, 266)"
      ]
     },
     "execution_count": 3,
     "metadata": {},
     "output_type": "execute_result"
    }
   ],
   "source": [
    "data.shape"
   ]
  },
  {
   "cell_type": "markdown",
   "id": "ebc9379e",
   "metadata": {},
   "source": [
    "<hr>\n",
    "\n",
    "## Step 2: Prepare\n",
    "* Explore data\n",
    "* Visualize ideas\n",
    "* Cleaning data"
   ]
  },
  {
   "cell_type": "code",
   "execution_count": 4,
   "id": "8be16a6c",
   "metadata": {},
   "outputs": [
    {
     "data": {
      "text/plain": [
       "ABW    float64\n",
       "AFE    float64\n",
       "AFG    float64\n",
       "AFW    float64\n",
       "AGO    float64\n",
       "        ...   \n",
       "XKX    float64\n",
       "YEM    float64\n",
       "ZAF    float64\n",
       "ZMB    float64\n",
       "ZWE    float64\n",
       "Length: 266, dtype: object"
      ]
     },
     "execution_count": 4,
     "metadata": {},
     "output_type": "execute_result"
    }
   ],
   "source": [
    "data.dtypes"
   ]
  },
  {
   "cell_type": "code",
   "execution_count": 5,
   "id": "8fe92280",
   "metadata": {},
   "outputs": [
    {
     "name": "stdout",
     "output_type": "stream",
     "text": [
      "<class 'pandas.core.frame.DataFrame'>\n",
      "Int64Index: 59 entries, 1960 to 2018\n",
      "Columns: 266 entries, ABW to ZWE\n",
      "dtypes: float64(266)\n",
      "memory usage: 123.1 KB\n"
     ]
    }
   ],
   "source": [
    "data.info()"
   ]
  },
  {
   "cell_type": "code",
   "execution_count": 6,
   "id": "6d6b58ad",
   "metadata": {},
   "outputs": [
    {
     "data": {
      "text/html": [
       "<div>\n",
       "<style scoped>\n",
       "    .dataframe tbody tr th:only-of-type {\n",
       "        vertical-align: middle;\n",
       "    }\n",
       "\n",
       "    .dataframe tbody tr th {\n",
       "        vertical-align: top;\n",
       "    }\n",
       "\n",
       "    .dataframe thead th {\n",
       "        text-align: right;\n",
       "    }\n",
       "</style>\n",
       "<table border=\"1\" class=\"dataframe\">\n",
       "  <thead>\n",
       "    <tr style=\"text-align: right;\">\n",
       "      <th></th>\n",
       "      <th>ABW</th>\n",
       "      <th>AFE</th>\n",
       "      <th>AFG</th>\n",
       "      <th>AFW</th>\n",
       "      <th>AGO</th>\n",
       "      <th>ALB</th>\n",
       "      <th>AND</th>\n",
       "      <th>ARB</th>\n",
       "      <th>ARE</th>\n",
       "      <th>ARG</th>\n",
       "      <th>...</th>\n",
       "      <th>VIR</th>\n",
       "      <th>VNM</th>\n",
       "      <th>VUT</th>\n",
       "      <th>WLD</th>\n",
       "      <th>WSM</th>\n",
       "      <th>XKX</th>\n",
       "      <th>YEM</th>\n",
       "      <th>ZAF</th>\n",
       "      <th>ZMB</th>\n",
       "      <th>ZWE</th>\n",
       "    </tr>\n",
       "  </thead>\n",
       "  <tbody>\n",
       "    <tr>\n",
       "      <th>count</th>\n",
       "      <td>30.000000</td>\n",
       "      <td>59.000000</td>\n",
       "      <td>59.000000</td>\n",
       "      <td>59.000000</td>\n",
       "      <td>59.000000</td>\n",
       "      <td>59.000000</td>\n",
       "      <td>29.000000</td>\n",
       "      <td>59.000000</td>\n",
       "      <td>59.000000</td>\n",
       "      <td>59.000000</td>\n",
       "      <td>...</td>\n",
       "      <td>0.0</td>\n",
       "      <td>59.000000</td>\n",
       "      <td>57.000000</td>\n",
       "      <td>59.000000</td>\n",
       "      <td>59.000000</td>\n",
       "      <td>0.0</td>\n",
       "      <td>59.000000</td>\n",
       "      <td>59.000000</td>\n",
       "      <td>55.000000</td>\n",
       "      <td>55.000000</td>\n",
       "    </tr>\n",
       "    <tr>\n",
       "      <th>mean</th>\n",
       "      <td>184.079829</td>\n",
       "      <td>1.089405</td>\n",
       "      <td>0.149382</td>\n",
       "      <td>0.440692</td>\n",
       "      <td>0.687540</td>\n",
       "      <td>1.660433</td>\n",
       "      <td>6.778152</td>\n",
       "      <td>2.923164</td>\n",
       "      <td>30.416576</td>\n",
       "      <td>3.544621</td>\n",
       "      <td>...</td>\n",
       "      <td>NaN</td>\n",
       "      <td>0.716099</td>\n",
       "      <td>0.530864</td>\n",
       "      <td>4.109284</td>\n",
       "      <td>0.693014</td>\n",
       "      <td>NaN</td>\n",
       "      <td>0.442130</td>\n",
       "      <td>7.497467</td>\n",
       "      <td>0.479936</td>\n",
       "      <td>1.201970</td>\n",
       "    </tr>\n",
       "    <tr>\n",
       "      <th>std</th>\n",
       "      <td>84.724762</td>\n",
       "      <td>0.157525</td>\n",
       "      <td>0.085583</td>\n",
       "      <td>0.147548</td>\n",
       "      <td>0.329161</td>\n",
       "      <td>0.643504</td>\n",
       "      <td>0.688945</td>\n",
       "      <td>1.089531</td>\n",
       "      <td>20.916706</td>\n",
       "      <td>0.512579</td>\n",
       "      <td>...</td>\n",
       "      <td>NaN</td>\n",
       "      <td>0.652798</td>\n",
       "      <td>0.154410</td>\n",
       "      <td>0.440680</td>\n",
       "      <td>0.371951</td>\n",
       "      <td>NaN</td>\n",
       "      <td>0.369435</td>\n",
       "      <td>1.136301</td>\n",
       "      <td>0.313848</td>\n",
       "      <td>0.302564</td>\n",
       "    </tr>\n",
       "    <tr>\n",
       "      <th>min</th>\n",
       "      <td>2.868274</td>\n",
       "      <td>0.900399</td>\n",
       "      <td>0.037055</td>\n",
       "      <td>0.090880</td>\n",
       "      <td>0.082204</td>\n",
       "      <td>0.470098</td>\n",
       "      <td>5.807128</td>\n",
       "      <td>0.609268</td>\n",
       "      <td>0.109136</td>\n",
       "      <td>2.330685</td>\n",
       "      <td>...</td>\n",
       "      <td>NaN</td>\n",
       "      <td>0.181947</td>\n",
       "      <td>0.326525</td>\n",
       "      <td>3.068090</td>\n",
       "      <td>0.135031</td>\n",
       "      <td>NaN</td>\n",
       "      <td>0.011038</td>\n",
       "      <td>5.727223</td>\n",
       "      <td>0.158363</td>\n",
       "      <td>0.613916</td>\n",
       "    </tr>\n",
       "    <tr>\n",
       "      <th>25%</th>\n",
       "      <td>169.081608</td>\n",
       "      <td>0.971170</td>\n",
       "      <td>0.073941</td>\n",
       "      <td>0.443857</td>\n",
       "      <td>0.476051</td>\n",
       "      <td>1.258155</td>\n",
       "      <td>6.104134</td>\n",
       "      <td>2.340655</td>\n",
       "      <td>20.406460</td>\n",
       "      <td>3.278312</td>\n",
       "      <td>...</td>\n",
       "      <td>NaN</td>\n",
       "      <td>0.287286</td>\n",
       "      <td>0.436545</td>\n",
       "      <td>3.805353</td>\n",
       "      <td>0.282534</td>\n",
       "      <td>NaN</td>\n",
       "      <td>0.072521</td>\n",
       "      <td>6.577222</td>\n",
       "      <td>0.219073</td>\n",
       "      <td>0.910479</td>\n",
       "    </tr>\n",
       "    <tr>\n",
       "      <th>50%</th>\n",
       "      <td>199.774616</td>\n",
       "      <td>1.033908</td>\n",
       "      <td>0.149651</td>\n",
       "      <td>0.476438</td>\n",
       "      <td>0.640966</td>\n",
       "      <td>1.572251</td>\n",
       "      <td>6.733479</td>\n",
       "      <td>3.091803</td>\n",
       "      <td>28.994996</td>\n",
       "      <td>3.642232</td>\n",
       "      <td>...</td>\n",
       "      <td>NaN</td>\n",
       "      <td>0.404750</td>\n",
       "      <td>0.486581</td>\n",
       "      <td>4.281006</td>\n",
       "      <td>0.711368</td>\n",
       "      <td>NaN</td>\n",
       "      <td>0.326682</td>\n",
       "      <td>7.446834</td>\n",
       "      <td>0.349232</td>\n",
       "      <td>1.229248</td>\n",
       "    </tr>\n",
       "    <tr>\n",
       "      <th>75%</th>\n",
       "      <td>232.217652</td>\n",
       "      <td>1.188124</td>\n",
       "      <td>0.207444</td>\n",
       "      <td>0.515941</td>\n",
       "      <td>0.912209</td>\n",
       "      <td>2.001541</td>\n",
       "      <td>7.344262</td>\n",
       "      <td>3.417984</td>\n",
       "      <td>33.133602</td>\n",
       "      <td>3.862388</td>\n",
       "      <td>...</td>\n",
       "      <td>NaN</td>\n",
       "      <td>0.936470</td>\n",
       "      <td>0.586726</td>\n",
       "      <td>4.472535</td>\n",
       "      <td>0.929421</td>\n",
       "      <td>NaN</td>\n",
       "      <td>0.788088</td>\n",
       "      <td>8.055625</td>\n",
       "      <td>0.672690</td>\n",
       "      <td>1.422052</td>\n",
       "    </tr>\n",
       "    <tr>\n",
       "      <th>max</th>\n",
       "      <td>360.853233</td>\n",
       "      <td>1.431964</td>\n",
       "      <td>0.407074</td>\n",
       "      <td>0.648273</td>\n",
       "      <td>1.285365</td>\n",
       "      <td>2.898209</td>\n",
       "      <td>7.952286</td>\n",
       "      <td>4.617964</td>\n",
       "      <td>101.053155</td>\n",
       "      <td>4.359886</td>\n",
       "      <td>...</td>\n",
       "      <td>NaN</td>\n",
       "      <td>2.698806</td>\n",
       "      <td>1.074339</td>\n",
       "      <td>4.696086</td>\n",
       "      <td>1.631588</td>\n",
       "      <td>NaN</td>\n",
       "      <td>1.139166</td>\n",
       "      <td>9.922518</td>\n",
       "      <td>1.261960</td>\n",
       "      <td>1.713321</td>\n",
       "    </tr>\n",
       "  </tbody>\n",
       "</table>\n",
       "<p>8 rows × 266 columns</p>\n",
       "</div>"
      ],
      "text/plain": [
       "              ABW        AFE        AFG        AFW        AGO        ALB  \\\n",
       "count   30.000000  59.000000  59.000000  59.000000  59.000000  59.000000   \n",
       "mean   184.079829   1.089405   0.149382   0.440692   0.687540   1.660433   \n",
       "std     84.724762   0.157525   0.085583   0.147548   0.329161   0.643504   \n",
       "min      2.868274   0.900399   0.037055   0.090880   0.082204   0.470098   \n",
       "25%    169.081608   0.971170   0.073941   0.443857   0.476051   1.258155   \n",
       "50%    199.774616   1.033908   0.149651   0.476438   0.640966   1.572251   \n",
       "75%    232.217652   1.188124   0.207444   0.515941   0.912209   2.001541   \n",
       "max    360.853233   1.431964   0.407074   0.648273   1.285365   2.898209   \n",
       "\n",
       "             AND        ARB         ARE        ARG  ...  VIR        VNM  \\\n",
       "count  29.000000  59.000000   59.000000  59.000000  ...  0.0  59.000000   \n",
       "mean    6.778152   2.923164   30.416576   3.544621  ...  NaN   0.716099   \n",
       "std     0.688945   1.089531   20.916706   0.512579  ...  NaN   0.652798   \n",
       "min     5.807128   0.609268    0.109136   2.330685  ...  NaN   0.181947   \n",
       "25%     6.104134   2.340655   20.406460   3.278312  ...  NaN   0.287286   \n",
       "50%     6.733479   3.091803   28.994996   3.642232  ...  NaN   0.404750   \n",
       "75%     7.344262   3.417984   33.133602   3.862388  ...  NaN   0.936470   \n",
       "max     7.952286   4.617964  101.053155   4.359886  ...  NaN   2.698806   \n",
       "\n",
       "             VUT        WLD        WSM  XKX        YEM        ZAF        ZMB  \\\n",
       "count  57.000000  59.000000  59.000000  0.0  59.000000  59.000000  55.000000   \n",
       "mean    0.530864   4.109284   0.693014  NaN   0.442130   7.497467   0.479936   \n",
       "std     0.154410   0.440680   0.371951  NaN   0.369435   1.136301   0.313848   \n",
       "min     0.326525   3.068090   0.135031  NaN   0.011038   5.727223   0.158363   \n",
       "25%     0.436545   3.805353   0.282534  NaN   0.072521   6.577222   0.219073   \n",
       "50%     0.486581   4.281006   0.711368  NaN   0.326682   7.446834   0.349232   \n",
       "75%     0.586726   4.472535   0.929421  NaN   0.788088   8.055625   0.672690   \n",
       "max     1.074339   4.696086   1.631588  NaN   1.139166   9.922518   1.261960   \n",
       "\n",
       "             ZWE  \n",
       "count  55.000000  \n",
       "mean    1.201970  \n",
       "std     0.302564  \n",
       "min     0.613916  \n",
       "25%     0.910479  \n",
       "50%     1.229248  \n",
       "75%     1.422052  \n",
       "max     1.713321  \n",
       "\n",
       "[8 rows x 266 columns]"
      ]
     },
     "execution_count": 6,
     "metadata": {},
     "output_type": "execute_result"
    }
   ],
   "source": [
    "data.describe()"
   ]
  },
  {
   "cell_type": "code",
   "execution_count": 7,
   "id": "b84de3a4",
   "metadata": {},
   "outputs": [
    {
     "data": {
      "text/plain": [
       "ABW     True\n",
       "AFE    False\n",
       "AFG    False\n",
       "AFW    False\n",
       "AGO    False\n",
       "       ...  \n",
       "XKX     True\n",
       "YEM    False\n",
       "ZAF    False\n",
       "ZMB     True\n",
       "ZWE     True\n",
       "Length: 266, dtype: bool"
      ]
     },
     "execution_count": 7,
     "metadata": {},
     "output_type": "execute_result"
    }
   ],
   "source": [
    "# check for missing value\n",
    "data.isnull().any()"
   ]
  },
  {
   "cell_type": "code",
   "execution_count": 8,
   "id": "0951de57",
   "metadata": {},
   "outputs": [
    {
     "data": {
      "text/plain": [
       "ABW    29\n",
       "AFE     0\n",
       "AFG     0\n",
       "AFW     0\n",
       "AGO     0\n",
       "       ..\n",
       "XKX    59\n",
       "YEM     0\n",
       "ZAF     0\n",
       "ZMB     4\n",
       "ZWE     4\n",
       "Length: 266, dtype: int64"
      ]
     },
     "execution_count": 8,
     "metadata": {},
     "output_type": "execute_result"
    }
   ],
   "source": [
    "# number of missing data points\n",
    "\n",
    "data.isnull().sum()"
   ]
  },
  {
   "cell_type": "code",
   "execution_count": 9,
   "id": "8d672304",
   "metadata": {},
   "outputs": [
    {
     "data": {
      "text/plain": [
       "<AxesSubplot:ylabel='Frequency'>"
      ]
     },
     "execution_count": 9,
     "metadata": {},
     "output_type": "execute_result"
    },
    {
     "data": {
      "image/png": "[encoded data removed]",
      "text/plain": [
       "<Figure size 640x480 with 1 Axes>"
      ]
     },
     "metadata": {},
     "output_type": "display_data"
    }
   ],
   "source": [
    "# visualize the missing value\n",
    "data.isnull().sum().plot.hist()"
   ]
  },
  {
   "cell_type": "code",
   "execution_count": 10,
   "id": "1779ccf2",
   "metadata": {},
   "outputs": [
    {
     "data": {
      "text/plain": [
       "(59, 191)"
      ]
     },
     "execution_count": 10,
     "metadata": {},
     "output_type": "execute_result"
    }
   ],
   "source": [
    "# clean data by removing missing colums\n",
    "\n",
    "clean_data = data.dropna(axis='columns');\n",
    "clean_data.shape"
   ]
  },
  {
   "cell_type": "markdown",
   "id": "c56b9fa7",
   "metadata": {},
   "source": [
    "<hr>\n",
    "\n",
    "## Step 3: Analyze\n",
    "* Feature selection\n",
    "* Model selection\n",
    "* Analyze data\n",
    "\n",
    "**TODO:**\n",
    "* Calculate the change in CO2 per capita from 1998 to 2018"
   ]
  },
  {
   "cell_type": "code",
   "execution_count": 13,
   "id": "6907480f",
   "metadata": {},
   "outputs": [],
   "source": [
    "data_plot = (clean_data.loc[2018] - clean_data.loc[1998])/clean_data.loc[1998]"
   ]
  },
  {
   "cell_type": "code",
   "execution_count": 14,
   "id": "6b968fe8",
   "metadata": {},
   "outputs": [
    {
     "data": {
      "text/plain": [
       "count    191.000000\n",
       "mean       0.494745\n",
       "std        1.341795\n",
       "min       -0.737721\n",
       "25%       -0.101786\n",
       "50%        0.198752\n",
       "75%        0.643839\n",
       "max       15.694284\n",
       "dtype: float64"
      ]
     },
     "execution_count": 14,
     "metadata": {},
     "output_type": "execute_result"
    }
   ],
   "source": [
    "data_plot.describe()"
   ]
  },
  {
   "cell_type": "markdown",
   "id": "f2a0e870",
   "metadata": {},
   "source": [
    "**Visualize the data**"
   ]
  },
  {
   "cell_type": "code",
   "execution_count": 15,
   "id": "63bef187",
   "metadata": {},
   "outputs": [
    {
     "data": {
      "text/plain": [
       "<AxesSubplot:ylabel='Frequency'>"
      ]
     },
     "execution_count": 15,
     "metadata": {},
     "output_type": "execute_result"
    },
    {
     "data": {
      "image/png": "[encoded data removed]",
      "text/plain": [
       "<Figure size 640x480 with 1 Axes>"
      ]
     },
     "metadata": {},
     "output_type": "display_data"
    }
   ],
   "source": [
    "data_plot.plot.hist(bins=30)"
   ]
  },
  {
   "cell_type": "code",
   "execution_count": null,
   "id": "a1eb1c25",
   "metadata": {},
   "outputs": [],
   "source": []
  }
 ],
 "metadata": {
  "kernelspec": {
   "display_name": "Python 3 (ipykernel)",
   "language": "python",
   "name": "python3"
  },
  "language_info": {
   "codemirror_mode": {
    "name": "ipython",
    "version": 3
   },
   "file_extension": ".py",
   "mimetype": "text/x-python",
   "name": "python",
   "nbconvert_exporter": "python",
   "pygments_lexer": "ipython3",
   "version": "3.9.13"
  }
 },
 "nbformat": 4,
 "nbformat_minor": 5
}
