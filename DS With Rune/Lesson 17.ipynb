{
 "cells": [
  {
   "cell_type": "markdown",
   "id": "9af5990b",
   "metadata": {},
   "source": [
    "# Capstone Project\n",
    "\n",
    "<hr>\n",
    "\n",
    "## Goal of Project\n",
    "- Overall implementation of what I have learned so far...\n",
    "- To reinforce learning\n",
    "\n",
    "## Step 1: Acquire Data\n",
    "- Explore problem\n",
    "- Identify data\n",
    "- Import data\n",
    "\n",
    "### Step 1a: Define Problem\n",
    "- Don't be too ambitious trying to define a problem\n",
    "    - **Examples:**\n",
    "        - A green energy windmill producer need to optimize distribution and need better prediction on production based on weather forecasts.\n",
    "        - An online news media is interested in a story with how CO2 per capita around the world has evolved over the years.\n",
    "        \n",
    "    - Both projects are difficult\n",
    "        - For the windmill we would need data on production, maintenance periods, detailed weather data, just to get started.\n",
    "        - The data for CO2 per capita is available on [World Bank](https://data.worldbank.org/indicator/EN.ATM.CO2E.PC), but creating a visual story is difficult with our current capabilities\n",
    "        \n",
    "- Hence, make a better research problem (Start with less ambitious problem)\n",
    "    - You can start by considering a simple dataset and get inspiration\n",
    "    - Example of dataset\n",
    "        - [Kaggle: IMDb movies extensive dataset](https://www.kaggle.com/stefanoleone992/imdb-extensive-dataset)\n",
    "    - Example of Problem\n",
    "        - What is the highest rated movie genre?"
   ]
  },
  {
   "cell_type": "markdown",
   "id": "96afb700",
   "metadata": {},
   "source": [
    "<hr>\n",
    "\n",
    "**Sample Problem**\n",
    "\n",
    "An online media wants to write an article on the trend of movie ratings over the time. They want to explore what is the overall trend and are there different trends in different genres.\n",
    "- Make some charts showing the trends"
   ]
  },
  {
   "cell_type": "code",
   "execution_count": 1,
   "id": "ec567884",
   "metadata": {},
   "outputs": [],
   "source": [
    "import pandas as pd"
   ]
  },
  {
   "cell_type": "code",
   "execution_count": null,
   "id": "c2cce34f",
   "metadata": {},
   "outputs": [],
   "source": [
    "movies = pd.read_parquet('./data/imdb/movies.parquet')\n",
    "movies"
   ]
  }
 ],
 "metadata": {
  "kernelspec": {
   "display_name": "Python 3 (ipykernel)",
   "language": "python",
   "name": "python3"
  },
  "language_info": {
   "codemirror_mode": {
    "name": "ipython",
    "version": 3
   },
   "file_extension": ".py",
   "mimetype": "text/x-python",
   "name": "python",
   "nbconvert_exporter": "python",
   "pygments_lexer": "ipython3",
   "version": "3.9.13"
  }
 },
 "nbformat": 4,
 "nbformat_minor": 5
}
