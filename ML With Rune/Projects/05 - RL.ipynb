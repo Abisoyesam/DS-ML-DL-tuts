{
 "cells": [
  {
   "cell_type": "markdown",
   "id": "2aa0252d",
   "metadata": {},
   "source": [
    "# Reinforcement Learning\n",
    "\n",
    "- Use Reinforcement Learning with Q-learning to find solutions to this field.\n",
    "\n",
    "![field](../images/field1.PNG)"
   ]
  },
  {
   "cell_type": "markdown",
   "id": "95903d99",
   "metadata": {},
   "source": [
    "**It is a two dimensional field (2D)**"
   ]
  },
  {
   "cell_type": "code",
   "execution_count": 1,
   "id": "6d3f8c87",
   "metadata": {},
   "outputs": [],
   "source": [
    "import random\n",
    "import numpy as np"
   ]
  },
  {
   "cell_type": "code",
   "execution_count": null,
   "id": "fc2e5a5c",
   "metadata": {},
   "outputs": [],
   "source": [
    "# the goal is to find the green field and avoid the red once.\n",
    "class Field:\n",
    "    def __init__(self):\n",
    "        self.states = np.array([\n",
    "            [-1,0,0,0,0,0,0,0,0,0,0],\n",
    "            [-1,0,0,0,0,0,0,1,0,0,0],\n",
    "            [-1,0,0,0,0,0,0,0,0,0,0]])"
   ]
  }
 ],
 "metadata": {
  "kernelspec": {
   "display_name": "Python 3 (ipykernel)",
   "language": "python",
   "name": "python3"
  },
  "language_info": {
   "codemirror_mode": {
    "name": "ipython",
    "version": 3
   },
   "file_extension": ".py",
   "mimetype": "text/x-python",
   "name": "python",
   "nbconvert_exporter": "python",
   "pygments_lexer": "ipython3",
   "version": "3.9.13"
  }
 },
 "nbformat": 4,
 "nbformat_minor": 5
}
