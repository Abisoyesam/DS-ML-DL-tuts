{
 "cells": [
  {
   "cell_type": "markdown",
   "id": "eb692209",
   "metadata": {},
   "source": [
    "# Classification\n",
    "\n",
    "![machine_learning](./img/machine_learning.PNG)\n",
    "\n",
    "* In the **classical computing model** every thing is programmed into the algorithm\n",
    "* With the modern computing model **(Machine Learning)** the paradigm is changed.\n",
    "    - We feed the algorithm with data\n",
    "    - Based on the data, the algorithm (model) make decisions in the program\n",
    "\n",
    "<hr>\n",
    "\n",
    "## How Machine Learning Works\n",
    "\n",
    "### Phase 1: Learning Phase\n",
    "\n",
    "![ml_process](./img/ml_process.PNG)\n",
    "\n",
    "**Get Data:** Get relevant data for the problem you'd like to solve.\n",
    "\n",
    "**Pre-processing:** This is about cleaning of data. Data preprocessing help to improve the algorithm.\n",
    "\n",
    "**Train model:** The learning steps. There are three main paradigm in machine learning.\n",
    "- **Supervised:** You tell the algorithm your expected output from input given. I know what i what but what would you predict?\n",
    "- **Unsupervised:** The learning algorithm is not told what to do. It should figure it out!\n",
    "- **Reinforced:** It teaches the machine to think for itself based on past action rewards.\n",
    "\n",
    "**Test model:** It is done to see if the model is good.\n",
    "\n",
    "### Phase 2: Prediction\n",
    "\n",
    "![ml_prediction](./img/ml_prediction.PNG)"
   ]
  },
  {
   "cell_type": "markdown",
   "id": "788018fc",
   "metadata": {},
   "source": [
    "## Supervised Learning\n",
    "\n",
    "<hr>\n",
    "\n",
    "### Classification\n",
    "\n",
    "Supervised learning can be:\n",
    "* Regression\n",
    "* Classification"
   ]
  },
  {
   "cell_type": "code",
   "execution_count": 1,
   "id": "d3833589",
   "metadata": {},
   "outputs": [],
   "source": [
    "import pandas as pd"
   ]
  },
  {
   "cell_type": "code",
   "execution_count": 4,
   "id": "6b9ce4af",
   "metadata": {},
   "outputs": [
    {
     "data": {
      "text/html": [
       "<div>\n",
       "<style scoped>\n",
       "    .dataframe tbody tr th:only-of-type {\n",
       "        vertical-align: middle;\n",
       "    }\n",
       "\n",
       "    .dataframe tbody tr th {\n",
       "        vertical-align: top;\n",
       "    }\n",
       "\n",
       "    .dataframe thead th {\n",
       "        text-align: right;\n",
       "    }\n",
       "</style>\n",
       "<table border=\"1\" class=\"dataframe\">\n",
       "  <thead>\n",
       "    <tr style=\"text-align: right;\">\n",
       "      <th></th>\n",
       "      <th>SepalLengthCm</th>\n",
       "      <th>SepalWidthCm</th>\n",
       "      <th>PetalLengthCm</th>\n",
       "      <th>PetalWidthCm</th>\n",
       "      <th>Species</th>\n",
       "    </tr>\n",
       "    <tr>\n",
       "      <th>Id</th>\n",
       "      <th></th>\n",
       "      <th></th>\n",
       "      <th></th>\n",
       "      <th></th>\n",
       "      <th></th>\n",
       "    </tr>\n",
       "  </thead>\n",
       "  <tbody>\n",
       "    <tr>\n",
       "      <th>1</th>\n",
       "      <td>5.1</td>\n",
       "      <td>3.5</td>\n",
       "      <td>1.4</td>\n",
       "      <td>0.2</td>\n",
       "      <td>Iris-setosa</td>\n",
       "    </tr>\n",
       "    <tr>\n",
       "      <th>2</th>\n",
       "      <td>4.9</td>\n",
       "      <td>3.0</td>\n",
       "      <td>1.4</td>\n",
       "      <td>0.2</td>\n",
       "      <td>Iris-setosa</td>\n",
       "    </tr>\n",
       "    <tr>\n",
       "      <th>3</th>\n",
       "      <td>4.7</td>\n",
       "      <td>3.2</td>\n",
       "      <td>1.3</td>\n",
       "      <td>0.2</td>\n",
       "      <td>Iris-setosa</td>\n",
       "    </tr>\n",
       "    <tr>\n",
       "      <th>4</th>\n",
       "      <td>4.6</td>\n",
       "      <td>3.1</td>\n",
       "      <td>1.5</td>\n",
       "      <td>0.2</td>\n",
       "      <td>Iris-setosa</td>\n",
       "    </tr>\n",
       "    <tr>\n",
       "      <th>5</th>\n",
       "      <td>5.0</td>\n",
       "      <td>3.6</td>\n",
       "      <td>1.4</td>\n",
       "      <td>0.2</td>\n",
       "      <td>Iris-setosa</td>\n",
       "    </tr>\n",
       "  </tbody>\n",
       "</table>\n",
       "</div>"
      ],
      "text/plain": [
       "    SepalLengthCm  SepalWidthCm  PetalLengthCm  PetalWidthCm      Species\n",
       "Id                                                                       \n",
       "1             5.1           3.5            1.4           0.2  Iris-setosa\n",
       "2             4.9           3.0            1.4           0.2  Iris-setosa\n",
       "3             4.7           3.2            1.3           0.2  Iris-setosa\n",
       "4             4.6           3.1            1.5           0.2  Iris-setosa\n",
       "5             5.0           3.6            1.4           0.2  Iris-setosa"
      ]
     },
     "execution_count": 4,
     "metadata": {},
     "output_type": "execute_result"
    }
   ],
   "source": [
    "data = pd.read_csv('./data/iris.csv',index_col=0)\n",
    "data.head()"
   ]
  },
  {
   "cell_type": "code",
   "execution_count": 5,
   "id": "2080c2ae",
   "metadata": {},
   "outputs": [
    {
     "data": {
      "text/plain": [
       "Species\n",
       "Iris-setosa        50\n",
       "Iris-versicolor    50\n",
       "Iris-virginica     50\n",
       "Name: count, dtype: int64"
      ]
     },
     "execution_count": 5,
     "metadata": {},
     "output_type": "execute_result"
    }
   ],
   "source": [
    "data['Species'].value_counts()"
   ]
  },
  {
   "cell_type": "markdown",
   "id": "e2ae805d",
   "metadata": {},
   "source": [
    "### Machine Learning\n",
    "- A few machine learning models\n",
    "    - SVC: Support Vector Classification\n",
    "    - KNN: K-Nearest Neighbors\n",
    "- Steps:\n",
    "    1. Assign independent features to `X`\n",
    "    2. Assign dependent features to `y`\n",
    "    3. Divide into training and test sets.\n",
    "    ```Python\n",
    "    X_train, X_test, y_train, y_test = train_test_split(X,y,test_size=0.2, random_state=42)\n",
    "    ```\n",
    "    4. Create the model\n",
    "    ```Python\n",
    "    model = SVC()\n",
    "    ```\n",
    "    5. Fit the model\n",
    "    ```Python\n",
    "    model.fit(X_train,y_train)\n",
    "    ```\n",
    "    6. Predict with the model\n",
    "    ```Python \n",
    "    y_pred = model.predict(X_test)\n",
    "    ```\n",
    "    7. Test the accuracy\n",
    "    ```Python\n",
    "    accuracy_score(y_test,y_pred)\n",
    "    ```"
   ]
  },
  {
   "cell_type": "code",
   "execution_count": 6,
   "id": "ed035ded",
   "metadata": {},
   "outputs": [],
   "source": [
    "from sklearn.svm import SVC\n",
    "from sklearn.model_selection import train_test_split\n",
    "from sklearn.metrics import accuracy_score"
   ]
  },
  {
   "cell_type": "code",
   "execution_count": 7,
   "id": "5ddbdcdb",
   "metadata": {},
   "outputs": [],
   "source": [
    "X = data.drop('Species', axis=1)\n",
    "y = data['Species']"
   ]
  },
  {
   "cell_type": "code",
   "execution_count": 8,
   "id": "105c5acd",
   "metadata": {},
   "outputs": [],
   "source": [
    "X_train, X_test, y_train, y_test = train_test_split(X,y,test_size=0.2, random_state=42)"
   ]
  },
  {
   "cell_type": "code",
   "execution_count": 9,
   "id": "b0b85a9f",
   "metadata": {},
   "outputs": [
    {
     "data": {
      "text/plain": [
       "SVC()"
      ]
     },
     "execution_count": 9,
     "metadata": {},
     "output_type": "execute_result"
    }
   ],
   "source": [
    "model = SVC()\n",
    "model.fit(X_train,y_train)"
   ]
  },
  {
   "cell_type": "code",
   "execution_count": 10,
   "id": "1ae646a9",
   "metadata": {},
   "outputs": [],
   "source": [
    "y_pred = model.predict(X_test)"
   ]
  },
  {
   "cell_type": "code",
   "execution_count": 12,
   "id": "0c84ef3e",
   "metadata": {},
   "outputs": [
    {
     "data": {
      "text/plain": [
       "1.0"
      ]
     },
     "execution_count": 12,
     "metadata": {},
     "output_type": "execute_result"
    }
   ],
   "source": [
    "accuracy_score(y_test,y_pred)"
   ]
  },
  {
   "cell_type": "markdown",
   "id": "02335209",
   "metadata": {},
   "source": [
    "<hr>\n",
    "\n",
    "### Finding most important features\n",
    "- permutaion_importance: Permutation importance for feature evaluation\n",
    "- Use the `permutation_importance` to calculate it.\n",
    "```Python\n",
    "perm_importance = permutation_importance(svc, X_test, y_test)"
   ]
  }
 ],
 "metadata": {
  "kernelspec": {
   "display_name": "Python 3 (ipykernel)",
   "language": "python",
   "name": "python3"
  },
  "language_info": {
   "codemirror_mode": {
    "name": "ipython",
    "version": 3
   },
   "file_extension": ".py",
   "mimetype": "text/x-python",
   "name": "python",
   "nbconvert_exporter": "python",
   "pygments_lexer": "ipython3",
   "version": "3.9.13"
  }
 },
 "nbformat": 4,
 "nbformat_minor": 5
}
