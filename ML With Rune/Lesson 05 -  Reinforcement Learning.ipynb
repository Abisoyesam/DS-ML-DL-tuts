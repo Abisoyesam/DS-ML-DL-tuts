{
 "cells": [
  {
   "cell_type": "markdown",
   "id": "15af1864",
   "metadata": {},
   "source": [
    "# Reinforcement Learning\n",
    "<hr>\n",
    "\n",
    "It is about learning the optimal behavior in an environment to obtain maximum reward. Given a set of rewards or punishment, learn actions to take in the future.\n",
    "\n",
    "![reinforcement](./images/reinforcement.PNG)"
   ]
  },
  {
   "cell_type": "markdown",
   "id": "86e78560",
   "metadata": {},
   "source": [
    "**Agent**\n",
    "- The agent perform action\n",
    "- The environment gives the agent a state\n",
    "- The environment gives a state and reward (or punishment)\n",
    "\n",
    "**N.B:** This is how robots are taught to walk.\n",
    "\n",
    "## Markov Decision Process\n",
    "- Model for decision-making, representing state, action, and their reward.\n",
    "- Set of state $S$\n",
    "- Set of action $Action (x)$\n",
    "- Transition model $P(s' |s,a)$\n",
    "- Reward function $R(s,a,s')$\n",
    "\n",
    "## Q-learning (one model)\n",
    "Method for learning a function $Q(s, a)$, estimate of the value of performing action $a$ in state $s$.\n",
    "\n",
    "- Start with $Q(s, a) = 0$ for all $s, a$\n",
    "- Update $Q$ when we take an action\n",
    "- $Q(s, a) = Q(s, a) + \\alpha($reward$ + \\gamma\\max(s', a') - Q(s, a)) = (1 - \\alpha)Q(s, a) + \\alpha($reward$ + \\gamma\\max(s', a'))$\n",
    "\n",
    "$\\alpha$ - learning rate"
   ]
  },
  {
   "cell_type": "markdown",
   "id": "8b138306",
   "metadata": {},
   "source": [
    "## $\\epsilon$-Greedy Decision Making\n",
    "**Explore vs Exploit**\n",
    "- With propability $\\epsilon$ take a random move\n",
    "- Otherwise, take action $a$ with maximum $Q(s, a)$\n",
    "\n",
    "### Simple Task\n",
    "\n",
    "![field](./images/field.PNG)"
   ]
  },
  {
   "cell_type": "code",
   "execution_count": null,
   "id": "12c77d29",
   "metadata": {},
   "outputs": [],
   "source": []
  }
 ],
 "metadata": {
  "kernelspec": {
   "display_name": "Python 3 (ipykernel)",
   "language": "python",
   "name": "python3"
  },
  "language_info": {
   "codemirror_mode": {
    "name": "ipython",
    "version": 3
   },
   "file_extension": ".py",
   "mimetype": "text/x-python",
   "name": "python",
   "nbconvert_exporter": "python",
   "pygments_lexer": "ipython3",
   "version": "3.9.13"
  }
 },
 "nbformat": 4,
 "nbformat_minor": 5
}
