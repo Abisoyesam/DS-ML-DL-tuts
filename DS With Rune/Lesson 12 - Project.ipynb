{
 "cells": [
  {
   "cell_type": "markdown",
   "id": "8343bb29",
   "metadata": {},
   "source": [
    "# Classification with Hidden Features\n",
    "\n",
    "<hr>\n",
    "\n",
    "- You are hired by a company\n",
    "- They classified the datasets but the features are hidden (you don't know what they are)\n",
    "- Create a model to predict classes and the accuracy\n",
    "- Are some features more important than others?"
   ]
  },
  {
   "cell_type": "code",
   "execution_count": 1,
   "id": "493a5674",
   "metadata": {},
   "outputs": [],
   "source": [
    "# import the libraries\n",
    "import pandas as pd\n",
    "from sklearn.svm import SVC\n",
    "from sklearn.neighbors import KNeighborsClassifier\n",
    "from sklearn.model_selection import train_test_split\n",
    "from sklearn.metrics import accuracy_score\n",
    "from sklearn.inspection import permutation_importance"
   ]
  },
  {
   "cell_type": "code",
   "execution_count": null,
   "id": "c2f8a279",
   "metadata": {},
   "outputs": [],
   "source": []
  }
 ],
 "metadata": {
  "kernelspec": {
   "display_name": "Python 3 (ipykernel)",
   "language": "python",
   "name": "python3"
  },
  "language_info": {
   "codemirror_mode": {
    "name": "ipython",
    "version": 3
   },
   "file_extension": ".py",
   "mimetype": "text/x-python",
   "name": "python",
   "nbconvert_exporter": "python",
   "pygments_lexer": "ipython3",
   "version": "3.9.13"
  }
 },
 "nbformat": 4,
 "nbformat_minor": 5
}
