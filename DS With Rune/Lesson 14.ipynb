{
 "cells": [
  {
   "cell_type": "markdown",
   "id": "0a0c4cc7",
   "metadata": {},
   "source": [
    "# Feature Selection\n",
    "\n",
    "It is about selection of attribute that have the grestest impact towards the **problem** you are solving. That is, selecting the best features for building models.\n",
    "\n",
    "<hr>\n",
    "\n",
    "## Why Feature Selection?\n",
    "* Higher accuracy\n",
    "* Simpler models\n",
    "* Reducing overfitting risk\n",
    "\n",
    "## Feature Selection Techniques\n",
    "### Filter methods\n",
    "- Independent on model\n",
    "- Based on score of statistics\n",
    "- Easy to understand\n",
    "- Good for early features removal\n",
    "- Low computational requirements\n",
    "- **E.g:** Chi square, information gain, correlation score, correlation matrix with heatmap.\n",
    "\n",
    "### Wrapper methods\n",
    "- Compare different subsets of features and run the model on them\n",
    "- Basically a search problem\n",
    "- **E.g:** Best-first search, Random hil-climbing algorithm, forward selection, backward elimination\n",
    "\n",
    "### Embedded methods\n",
    "- Find features that contribute most to the accuracy of the model while it is created\n",
    "- Regularizatio is the most common method - it penalizes higher complexity\n",
    "- **E.g:** LASSO, Elastic Net, Ridge regression.\n",
    "\n",
    "## Before Feature Selection\n",
    "- Clean data\n",
    "- Divide into training and testing sets\n",
    "- Feature scaling\n",
    "- Only do feature selection on training set to avoid overfitting."
   ]
  },
  {
   "cell_type": "markdown",
   "id": "191cca43",
   "metadata": {},
   "source": [
    "<hr>\n",
    "\n",
    "## Filter Methods"
   ]
  },
  {
   "cell_type": "code",
   "execution_count": 1,
   "id": "82934483",
   "metadata": {},
   "outputs": [],
   "source": [
    "import pandas as pd"
   ]
  },
  {
   "cell_type": "code",
   "execution_count": 2,
   "id": "8da7696d",
   "metadata": {},
   "outputs": [
    {
     "data": {
      "text/html": [
       "<div>\n",
       "<style scoped>\n",
       "    .dataframe tbody tr th:only-of-type {\n",
       "        vertical-align: middle;\n",
       "    }\n",
       "\n",
       "    .dataframe tbody tr th {\n",
       "        vertical-align: top;\n",
       "    }\n",
       "\n",
       "    .dataframe thead th {\n",
       "        text-align: right;\n",
       "    }\n",
       "</style>\n",
       "<table border=\"1\" class=\"dataframe\">\n",
       "  <thead>\n",
       "    <tr style=\"text-align: right;\">\n",
       "      <th></th>\n",
       "      <th>var3</th>\n",
       "      <th>var15</th>\n",
       "      <th>imp_ent_var16_ult1</th>\n",
       "      <th>imp_op_var39_comer_ult1</th>\n",
       "      <th>imp_op_var39_comer_ult3</th>\n",
       "      <th>imp_op_var40_comer_ult1</th>\n",
       "      <th>imp_op_var40_comer_ult3</th>\n",
       "      <th>imp_op_var40_efect_ult1</th>\n",
       "      <th>imp_op_var40_efect_ult3</th>\n",
       "      <th>imp_op_var40_ult1</th>\n",
       "      <th>...</th>\n",
       "      <th>saldo_medio_var33_hace2</th>\n",
       "      <th>saldo_medio_var33_hace3</th>\n",
       "      <th>saldo_medio_var33_ult1</th>\n",
       "      <th>saldo_medio_var33_ult3</th>\n",
       "      <th>saldo_medio_var44_hace2</th>\n",
       "      <th>saldo_medio_var44_hace3</th>\n",
       "      <th>saldo_medio_var44_ult1</th>\n",
       "      <th>saldo_medio_var44_ult3</th>\n",
       "      <th>var38</th>\n",
       "      <th>TARGET</th>\n",
       "    </tr>\n",
       "    <tr>\n",
       "      <th>ID</th>\n",
       "      <th></th>\n",
       "      <th></th>\n",
       "      <th></th>\n",
       "      <th></th>\n",
       "      <th></th>\n",
       "      <th></th>\n",
       "      <th></th>\n",
       "      <th></th>\n",
       "      <th></th>\n",
       "      <th></th>\n",
       "      <th></th>\n",
       "      <th></th>\n",
       "      <th></th>\n",
       "      <th></th>\n",
       "      <th></th>\n",
       "      <th></th>\n",
       "      <th></th>\n",
       "      <th></th>\n",
       "      <th></th>\n",
       "      <th></th>\n",
       "      <th></th>\n",
       "    </tr>\n",
       "  </thead>\n",
       "  <tbody>\n",
       "    <tr>\n",
       "      <th>1</th>\n",
       "      <td>2</td>\n",
       "      <td>23</td>\n",
       "      <td>0.0</td>\n",
       "      <td>0.0</td>\n",
       "      <td>0.0</td>\n",
       "      <td>0.0</td>\n",
       "      <td>0.0</td>\n",
       "      <td>0.0</td>\n",
       "      <td>0.0</td>\n",
       "      <td>0.0</td>\n",
       "      <td>...</td>\n",
       "      <td>0.0</td>\n",
       "      <td>0.0</td>\n",
       "      <td>0.0</td>\n",
       "      <td>0.0</td>\n",
       "      <td>0.0</td>\n",
       "      <td>0.0</td>\n",
       "      <td>0.0</td>\n",
       "      <td>0.0</td>\n",
       "      <td>39205.170000</td>\n",
       "      <td>0</td>\n",
       "    </tr>\n",
       "    <tr>\n",
       "      <th>3</th>\n",
       "      <td>2</td>\n",
       "      <td>34</td>\n",
       "      <td>0.0</td>\n",
       "      <td>0.0</td>\n",
       "      <td>0.0</td>\n",
       "      <td>0.0</td>\n",
       "      <td>0.0</td>\n",
       "      <td>0.0</td>\n",
       "      <td>0.0</td>\n",
       "      <td>0.0</td>\n",
       "      <td>...</td>\n",
       "      <td>0.0</td>\n",
       "      <td>0.0</td>\n",
       "      <td>0.0</td>\n",
       "      <td>0.0</td>\n",
       "      <td>0.0</td>\n",
       "      <td>0.0</td>\n",
       "      <td>0.0</td>\n",
       "      <td>0.0</td>\n",
       "      <td>49278.030000</td>\n",
       "      <td>0</td>\n",
       "    </tr>\n",
       "    <tr>\n",
       "      <th>4</th>\n",
       "      <td>2</td>\n",
       "      <td>23</td>\n",
       "      <td>0.0</td>\n",
       "      <td>0.0</td>\n",
       "      <td>0.0</td>\n",
       "      <td>0.0</td>\n",
       "      <td>0.0</td>\n",
       "      <td>0.0</td>\n",
       "      <td>0.0</td>\n",
       "      <td>0.0</td>\n",
       "      <td>...</td>\n",
       "      <td>0.0</td>\n",
       "      <td>0.0</td>\n",
       "      <td>0.0</td>\n",
       "      <td>0.0</td>\n",
       "      <td>0.0</td>\n",
       "      <td>0.0</td>\n",
       "      <td>0.0</td>\n",
       "      <td>0.0</td>\n",
       "      <td>67333.770000</td>\n",
       "      <td>0</td>\n",
       "    </tr>\n",
       "    <tr>\n",
       "      <th>8</th>\n",
       "      <td>2</td>\n",
       "      <td>37</td>\n",
       "      <td>0.0</td>\n",
       "      <td>195.0</td>\n",
       "      <td>195.0</td>\n",
       "      <td>0.0</td>\n",
       "      <td>0.0</td>\n",
       "      <td>0.0</td>\n",
       "      <td>0.0</td>\n",
       "      <td>0.0</td>\n",
       "      <td>...</td>\n",
       "      <td>0.0</td>\n",
       "      <td>0.0</td>\n",
       "      <td>0.0</td>\n",
       "      <td>0.0</td>\n",
       "      <td>0.0</td>\n",
       "      <td>0.0</td>\n",
       "      <td>0.0</td>\n",
       "      <td>0.0</td>\n",
       "      <td>64007.970000</td>\n",
       "      <td>0</td>\n",
       "    </tr>\n",
       "    <tr>\n",
       "      <th>10</th>\n",
       "      <td>2</td>\n",
       "      <td>39</td>\n",
       "      <td>0.0</td>\n",
       "      <td>0.0</td>\n",
       "      <td>0.0</td>\n",
       "      <td>0.0</td>\n",
       "      <td>0.0</td>\n",
       "      <td>0.0</td>\n",
       "      <td>0.0</td>\n",
       "      <td>0.0</td>\n",
       "      <td>...</td>\n",
       "      <td>0.0</td>\n",
       "      <td>0.0</td>\n",
       "      <td>0.0</td>\n",
       "      <td>0.0</td>\n",
       "      <td>0.0</td>\n",
       "      <td>0.0</td>\n",
       "      <td>0.0</td>\n",
       "      <td>0.0</td>\n",
       "      <td>117310.979016</td>\n",
       "      <td>0</td>\n",
       "    </tr>\n",
       "  </tbody>\n",
       "</table>\n",
       "<p>5 rows × 370 columns</p>\n",
       "</div>"
      ],
      "text/plain": [
       "    var3  var15  imp_ent_var16_ult1  imp_op_var39_comer_ult1  \\\n",
       "ID                                                             \n",
       "1      2     23                 0.0                      0.0   \n",
       "3      2     34                 0.0                      0.0   \n",
       "4      2     23                 0.0                      0.0   \n",
       "8      2     37                 0.0                    195.0   \n",
       "10     2     39                 0.0                      0.0   \n",
       "\n",
       "    imp_op_var39_comer_ult3  imp_op_var40_comer_ult1  imp_op_var40_comer_ult3  \\\n",
       "ID                                                                              \n",
       "1                       0.0                      0.0                      0.0   \n",
       "3                       0.0                      0.0                      0.0   \n",
       "4                       0.0                      0.0                      0.0   \n",
       "8                     195.0                      0.0                      0.0   \n",
       "10                      0.0                      0.0                      0.0   \n",
       "\n",
       "    imp_op_var40_efect_ult1  imp_op_var40_efect_ult3  imp_op_var40_ult1  ...  \\\n",
       "ID                                                                       ...   \n",
       "1                       0.0                      0.0                0.0  ...   \n",
       "3                       0.0                      0.0                0.0  ...   \n",
       "4                       0.0                      0.0                0.0  ...   \n",
       "8                       0.0                      0.0                0.0  ...   \n",
       "10                      0.0                      0.0                0.0  ...   \n",
       "\n",
       "    saldo_medio_var33_hace2  saldo_medio_var33_hace3  saldo_medio_var33_ult1  \\\n",
       "ID                                                                             \n",
       "1                       0.0                      0.0                     0.0   \n",
       "3                       0.0                      0.0                     0.0   \n",
       "4                       0.0                      0.0                     0.0   \n",
       "8                       0.0                      0.0                     0.0   \n",
       "10                      0.0                      0.0                     0.0   \n",
       "\n",
       "    saldo_medio_var33_ult3  saldo_medio_var44_hace2  saldo_medio_var44_hace3  \\\n",
       "ID                                                                             \n",
       "1                      0.0                      0.0                      0.0   \n",
       "3                      0.0                      0.0                      0.0   \n",
       "4                      0.0                      0.0                      0.0   \n",
       "8                      0.0                      0.0                      0.0   \n",
       "10                     0.0                      0.0                      0.0   \n",
       "\n",
       "    saldo_medio_var44_ult1  saldo_medio_var44_ult3          var38  TARGET  \n",
       "ID                                                                         \n",
       "1                      0.0                     0.0   39205.170000       0  \n",
       "3                      0.0                     0.0   49278.030000       0  \n",
       "4                      0.0                     0.0   67333.770000       0  \n",
       "8                      0.0                     0.0   64007.970000       0  \n",
       "10                     0.0                     0.0  117310.979016       0  \n",
       "\n",
       "[5 rows x 370 columns]"
      ]
     },
     "execution_count": 2,
     "metadata": {},
     "output_type": "execute_result"
    }
   ],
   "source": [
    "data = pd.read_parquet('./data/customer_satisfaction.parquet')\n",
    "data.head()"
   ]
  },
  {
   "cell_type": "code",
   "execution_count": 3,
   "id": "68574a3a",
   "metadata": {},
   "outputs": [
    {
     "data": {
      "text/plain": [
       "(76020, 370)"
      ]
     },
     "execution_count": 3,
     "metadata": {},
     "output_type": "execute_result"
    }
   ],
   "source": [
    "data.shape"
   ]
  },
  {
   "cell_type": "code",
   "execution_count": 4,
   "id": "890fb22e",
   "metadata": {},
   "outputs": [
    {
     "data": {
      "text/plain": [
       "TARGET\n",
       "0    0.960431\n",
       "1    0.039569\n",
       "Name: count, dtype: float64"
      ]
     },
     "execution_count": 4,
     "metadata": {},
     "output_type": "execute_result"
    }
   ],
   "source": [
    "data['TARGET'].value_counts()/len(data)"
   ]
  },
  {
   "cell_type": "code",
   "execution_count": 5,
   "id": "e83c0e91",
   "metadata": {},
   "outputs": [
    {
     "data": {
      "text/html": [
       "<div>\n",
       "<style scoped>\n",
       "    .dataframe tbody tr th:only-of-type {\n",
       "        vertical-align: middle;\n",
       "    }\n",
       "\n",
       "    .dataframe tbody tr th {\n",
       "        vertical-align: top;\n",
       "    }\n",
       "\n",
       "    .dataframe thead th {\n",
       "        text-align: right;\n",
       "    }\n",
       "</style>\n",
       "<table border=\"1\" class=\"dataframe\">\n",
       "  <thead>\n",
       "    <tr style=\"text-align: right;\">\n",
       "      <th></th>\n",
       "      <th>var3</th>\n",
       "      <th>var15</th>\n",
       "      <th>imp_ent_var16_ult1</th>\n",
       "      <th>imp_op_var39_comer_ult1</th>\n",
       "      <th>imp_op_var39_comer_ult3</th>\n",
       "      <th>imp_op_var40_comer_ult1</th>\n",
       "      <th>imp_op_var40_comer_ult3</th>\n",
       "      <th>imp_op_var40_efect_ult1</th>\n",
       "      <th>imp_op_var40_efect_ult3</th>\n",
       "      <th>imp_op_var40_ult1</th>\n",
       "      <th>...</th>\n",
       "      <th>saldo_medio_var33_hace2</th>\n",
       "      <th>saldo_medio_var33_hace3</th>\n",
       "      <th>saldo_medio_var33_ult1</th>\n",
       "      <th>saldo_medio_var33_ult3</th>\n",
       "      <th>saldo_medio_var44_hace2</th>\n",
       "      <th>saldo_medio_var44_hace3</th>\n",
       "      <th>saldo_medio_var44_ult1</th>\n",
       "      <th>saldo_medio_var44_ult3</th>\n",
       "      <th>var38</th>\n",
       "      <th>TARGET</th>\n",
       "    </tr>\n",
       "  </thead>\n",
       "  <tbody>\n",
       "    <tr>\n",
       "      <th>count</th>\n",
       "      <td>76020.000000</td>\n",
       "      <td>76020.000000</td>\n",
       "      <td>76020.000000</td>\n",
       "      <td>76020.000000</td>\n",
       "      <td>76020.000000</td>\n",
       "      <td>76020.000000</td>\n",
       "      <td>76020.000000</td>\n",
       "      <td>76020.000000</td>\n",
       "      <td>76020.000000</td>\n",
       "      <td>76020.000000</td>\n",
       "      <td>...</td>\n",
       "      <td>76020.000000</td>\n",
       "      <td>76020.000000</td>\n",
       "      <td>76020.000000</td>\n",
       "      <td>76020.000000</td>\n",
       "      <td>76020.000000</td>\n",
       "      <td>76020.000000</td>\n",
       "      <td>76020.000000</td>\n",
       "      <td>76020.000000</td>\n",
       "      <td>7.602000e+04</td>\n",
       "      <td>76020.000000</td>\n",
       "    </tr>\n",
       "    <tr>\n",
       "      <th>mean</th>\n",
       "      <td>-1523.199277</td>\n",
       "      <td>33.212865</td>\n",
       "      <td>86.208265</td>\n",
       "      <td>72.363067</td>\n",
       "      <td>119.529632</td>\n",
       "      <td>3.559130</td>\n",
       "      <td>6.472698</td>\n",
       "      <td>0.412946</td>\n",
       "      <td>0.567352</td>\n",
       "      <td>3.160715</td>\n",
       "      <td>...</td>\n",
       "      <td>7.935824</td>\n",
       "      <td>1.365146</td>\n",
       "      <td>12.215580</td>\n",
       "      <td>8.784074</td>\n",
       "      <td>31.505324</td>\n",
       "      <td>1.858575</td>\n",
       "      <td>76.026165</td>\n",
       "      <td>56.614351</td>\n",
       "      <td>1.172358e+05</td>\n",
       "      <td>0.039569</td>\n",
       "    </tr>\n",
       "    <tr>\n",
       "      <th>std</th>\n",
       "      <td>39033.462364</td>\n",
       "      <td>12.956486</td>\n",
       "      <td>1614.757313</td>\n",
       "      <td>339.315831</td>\n",
       "      <td>546.266294</td>\n",
       "      <td>93.155749</td>\n",
       "      <td>153.737066</td>\n",
       "      <td>30.604864</td>\n",
       "      <td>36.513513</td>\n",
       "      <td>95.268204</td>\n",
       "      <td>...</td>\n",
       "      <td>455.887218</td>\n",
       "      <td>113.959637</td>\n",
       "      <td>783.207399</td>\n",
       "      <td>538.439211</td>\n",
       "      <td>2013.125393</td>\n",
       "      <td>147.786584</td>\n",
       "      <td>4040.337842</td>\n",
       "      <td>2852.579397</td>\n",
       "      <td>1.826646e+05</td>\n",
       "      <td>0.194945</td>\n",
       "    </tr>\n",
       "    <tr>\n",
       "      <th>min</th>\n",
       "      <td>-999999.000000</td>\n",
       "      <td>5.000000</td>\n",
       "      <td>0.000000</td>\n",
       "      <td>0.000000</td>\n",
       "      <td>0.000000</td>\n",
       "      <td>0.000000</td>\n",
       "      <td>0.000000</td>\n",
       "      <td>0.000000</td>\n",
       "      <td>0.000000</td>\n",
       "      <td>0.000000</td>\n",
       "      <td>...</td>\n",
       "      <td>0.000000</td>\n",
       "      <td>0.000000</td>\n",
       "      <td>0.000000</td>\n",
       "      <td>0.000000</td>\n",
       "      <td>0.000000</td>\n",
       "      <td>0.000000</td>\n",
       "      <td>0.000000</td>\n",
       "      <td>0.000000</td>\n",
       "      <td>5.163750e+03</td>\n",
       "      <td>0.000000</td>\n",
       "    </tr>\n",
       "    <tr>\n",
       "      <th>25%</th>\n",
       "      <td>2.000000</td>\n",
       "      <td>23.000000</td>\n",
       "      <td>0.000000</td>\n",
       "      <td>0.000000</td>\n",
       "      <td>0.000000</td>\n",
       "      <td>0.000000</td>\n",
       "      <td>0.000000</td>\n",
       "      <td>0.000000</td>\n",
       "      <td>0.000000</td>\n",
       "      <td>0.000000</td>\n",
       "      <td>...</td>\n",
       "      <td>0.000000</td>\n",
       "      <td>0.000000</td>\n",
       "      <td>0.000000</td>\n",
       "      <td>0.000000</td>\n",
       "      <td>0.000000</td>\n",
       "      <td>0.000000</td>\n",
       "      <td>0.000000</td>\n",
       "      <td>0.000000</td>\n",
       "      <td>6.787061e+04</td>\n",
       "      <td>0.000000</td>\n",
       "    </tr>\n",
       "    <tr>\n",
       "      <th>50%</th>\n",
       "      <td>2.000000</td>\n",
       "      <td>28.000000</td>\n",
       "      <td>0.000000</td>\n",
       "      <td>0.000000</td>\n",
       "      <td>0.000000</td>\n",
       "      <td>0.000000</td>\n",
       "      <td>0.000000</td>\n",
       "      <td>0.000000</td>\n",
       "      <td>0.000000</td>\n",
       "      <td>0.000000</td>\n",
       "      <td>...</td>\n",
       "      <td>0.000000</td>\n",
       "      <td>0.000000</td>\n",
       "      <td>0.000000</td>\n",
       "      <td>0.000000</td>\n",
       "      <td>0.000000</td>\n",
       "      <td>0.000000</td>\n",
       "      <td>0.000000</td>\n",
       "      <td>0.000000</td>\n",
       "      <td>1.064092e+05</td>\n",
       "      <td>0.000000</td>\n",
       "    </tr>\n",
       "    <tr>\n",
       "      <th>75%</th>\n",
       "      <td>2.000000</td>\n",
       "      <td>40.000000</td>\n",
       "      <td>0.000000</td>\n",
       "      <td>0.000000</td>\n",
       "      <td>0.000000</td>\n",
       "      <td>0.000000</td>\n",
       "      <td>0.000000</td>\n",
       "      <td>0.000000</td>\n",
       "      <td>0.000000</td>\n",
       "      <td>0.000000</td>\n",
       "      <td>...</td>\n",
       "      <td>0.000000</td>\n",
       "      <td>0.000000</td>\n",
       "      <td>0.000000</td>\n",
       "      <td>0.000000</td>\n",
       "      <td>0.000000</td>\n",
       "      <td>0.000000</td>\n",
       "      <td>0.000000</td>\n",
       "      <td>0.000000</td>\n",
       "      <td>1.187563e+05</td>\n",
       "      <td>0.000000</td>\n",
       "    </tr>\n",
       "    <tr>\n",
       "      <th>max</th>\n",
       "      <td>238.000000</td>\n",
       "      <td>105.000000</td>\n",
       "      <td>210000.000000</td>\n",
       "      <td>12888.030000</td>\n",
       "      <td>21024.810000</td>\n",
       "      <td>8237.820000</td>\n",
       "      <td>11073.570000</td>\n",
       "      <td>6600.000000</td>\n",
       "      <td>6600.000000</td>\n",
       "      <td>8237.820000</td>\n",
       "      <td>...</td>\n",
       "      <td>50003.880000</td>\n",
       "      <td>20385.720000</td>\n",
       "      <td>138831.630000</td>\n",
       "      <td>91778.730000</td>\n",
       "      <td>438329.220000</td>\n",
       "      <td>24650.010000</td>\n",
       "      <td>681462.900000</td>\n",
       "      <td>397884.300000</td>\n",
       "      <td>2.203474e+07</td>\n",
       "      <td>1.000000</td>\n",
       "    </tr>\n",
       "  </tbody>\n",
       "</table>\n",
       "<p>8 rows × 370 columns</p>\n",
       "</div>"
      ],
      "text/plain": [
       "                var3         var15  imp_ent_var16_ult1  \\\n",
       "count   76020.000000  76020.000000        76020.000000   \n",
       "mean    -1523.199277     33.212865           86.208265   \n",
       "std     39033.462364     12.956486         1614.757313   \n",
       "min   -999999.000000      5.000000            0.000000   \n",
       "25%         2.000000     23.000000            0.000000   \n",
       "50%         2.000000     28.000000            0.000000   \n",
       "75%         2.000000     40.000000            0.000000   \n",
       "max       238.000000    105.000000       210000.000000   \n",
       "\n",
       "       imp_op_var39_comer_ult1  imp_op_var39_comer_ult3  \\\n",
       "count             76020.000000             76020.000000   \n",
       "mean                 72.363067               119.529632   \n",
       "std                 339.315831               546.266294   \n",
       "min                   0.000000                 0.000000   \n",
       "25%                   0.000000                 0.000000   \n",
       "50%                   0.000000                 0.000000   \n",
       "75%                   0.000000                 0.000000   \n",
       "max               12888.030000             21024.810000   \n",
       "\n",
       "       imp_op_var40_comer_ult1  imp_op_var40_comer_ult3  \\\n",
       "count             76020.000000             76020.000000   \n",
       "mean                  3.559130                 6.472698   \n",
       "std                  93.155749               153.737066   \n",
       "min                   0.000000                 0.000000   \n",
       "25%                   0.000000                 0.000000   \n",
       "50%                   0.000000                 0.000000   \n",
       "75%                   0.000000                 0.000000   \n",
       "max                8237.820000             11073.570000   \n",
       "\n",
       "       imp_op_var40_efect_ult1  imp_op_var40_efect_ult3  imp_op_var40_ult1  \\\n",
       "count             76020.000000             76020.000000       76020.000000   \n",
       "mean                  0.412946                 0.567352           3.160715   \n",
       "std                  30.604864                36.513513          95.268204   \n",
       "min                   0.000000                 0.000000           0.000000   \n",
       "25%                   0.000000                 0.000000           0.000000   \n",
       "50%                   0.000000                 0.000000           0.000000   \n",
       "75%                   0.000000                 0.000000           0.000000   \n",
       "max                6600.000000              6600.000000        8237.820000   \n",
       "\n",
       "       ...  saldo_medio_var33_hace2  saldo_medio_var33_hace3  \\\n",
       "count  ...             76020.000000             76020.000000   \n",
       "mean   ...                 7.935824                 1.365146   \n",
       "std    ...               455.887218               113.959637   \n",
       "min    ...                 0.000000                 0.000000   \n",
       "25%    ...                 0.000000                 0.000000   \n",
       "50%    ...                 0.000000                 0.000000   \n",
       "75%    ...                 0.000000                 0.000000   \n",
       "max    ...             50003.880000             20385.720000   \n",
       "\n",
       "       saldo_medio_var33_ult1  saldo_medio_var33_ult3  \\\n",
       "count            76020.000000            76020.000000   \n",
       "mean                12.215580                8.784074   \n",
       "std                783.207399              538.439211   \n",
       "min                  0.000000                0.000000   \n",
       "25%                  0.000000                0.000000   \n",
       "50%                  0.000000                0.000000   \n",
       "75%                  0.000000                0.000000   \n",
       "max             138831.630000            91778.730000   \n",
       "\n",
       "       saldo_medio_var44_hace2  saldo_medio_var44_hace3  \\\n",
       "count             76020.000000             76020.000000   \n",
       "mean                 31.505324                 1.858575   \n",
       "std                2013.125393               147.786584   \n",
       "min                   0.000000                 0.000000   \n",
       "25%                   0.000000                 0.000000   \n",
       "50%                   0.000000                 0.000000   \n",
       "75%                   0.000000                 0.000000   \n",
       "max              438329.220000             24650.010000   \n",
       "\n",
       "       saldo_medio_var44_ult1  saldo_medio_var44_ult3         var38  \\\n",
       "count            76020.000000            76020.000000  7.602000e+04   \n",
       "mean                76.026165               56.614351  1.172358e+05   \n",
       "std               4040.337842             2852.579397  1.826646e+05   \n",
       "min                  0.000000                0.000000  5.163750e+03   \n",
       "25%                  0.000000                0.000000  6.787061e+04   \n",
       "50%                  0.000000                0.000000  1.064092e+05   \n",
       "75%                  0.000000                0.000000  1.187563e+05   \n",
       "max             681462.900000           397884.300000  2.203474e+07   \n",
       "\n",
       "             TARGET  \n",
       "count  76020.000000  \n",
       "mean       0.039569  \n",
       "std        0.194945  \n",
       "min        0.000000  \n",
       "25%        0.000000  \n",
       "50%        0.000000  \n",
       "75%        0.000000  \n",
       "max        1.000000  \n",
       "\n",
       "[8 rows x 370 columns]"
      ]
     },
     "execution_count": 5,
     "metadata": {},
     "output_type": "execute_result"
    }
   ],
   "source": [
    "data.describe()"
   ]
  },
  {
   "cell_type": "markdown",
   "id": "c818fa03",
   "metadata": {},
   "source": [
    "<hr>\n",
    "\n",
    "**Check for Constant features**"
   ]
  },
  {
   "cell_type": "code",
   "execution_count": 6,
   "id": "fd7aff0b",
   "metadata": {},
   "outputs": [
    {
     "data": {
      "text/plain": [
       "Index(['ind_var2_0', 'ind_var2', 'ind_var27_0', 'ind_var28_0', 'ind_var28',\n",
       "       'ind_var27', 'ind_var41', 'ind_var46_0', 'ind_var46', 'num_var27_0',\n",
       "       'num_var28_0', 'num_var28', 'num_var27', 'num_var41', 'num_var46_0',\n",
       "       'num_var46', 'saldo_var28', 'saldo_var27', 'saldo_var41', 'saldo_var46',\n",
       "       'imp_amort_var18_hace3', 'imp_amort_var34_hace3',\n",
       "       'imp_reemb_var13_hace3', 'imp_reemb_var33_hace3',\n",
       "       'imp_trasp_var17_out_hace3', 'imp_trasp_var33_out_hace3',\n",
       "       'num_var2_0_ult1', 'num_var2_ult1', 'num_reemb_var13_hace3',\n",
       "       'num_reemb_var33_hace3', 'num_trasp_var17_out_hace3',\n",
       "       'num_trasp_var33_out_hace3', 'saldo_var2_ult1',\n",
       "       'saldo_medio_var13_medio_hace3'],\n",
       "      dtype='object')"
      ]
     },
     "execution_count": 6,
     "metadata": {},
     "output_type": "execute_result"
    }
   ],
   "source": [
    "data.columns[(data == data.iloc[0]).all()]"
   ]
  },
  {
   "cell_type": "code",
   "execution_count": 7,
   "id": "a794642c",
   "metadata": {},
   "outputs": [
    {
     "data": {
      "text/plain": [
       "34"
      ]
     },
     "execution_count": 7,
     "metadata": {},
     "output_type": "execute_result"
    }
   ],
   "source": [
    "len(data.columns[(data == data.iloc[0]).all()])"
   ]
  },
  {
   "cell_type": "markdown",
   "id": "0f9f26c4",
   "metadata": {},
   "source": [
    "**Use Sklearn**\n",
    "* To remove constant and quasi constant features\n",
    "* `VarianceThreshold` Feature selector that removes all low-variance features"
   ]
  },
  {
   "cell_type": "code",
   "execution_count": 8,
   "id": "8632ad74",
   "metadata": {},
   "outputs": [],
   "source": [
    "from sklearn.feature_selection import VarianceThreshold"
   ]
  },
  {
   "cell_type": "code",
   "execution_count": 9,
   "id": "839c1b2e",
   "metadata": {},
   "outputs": [
    {
     "data": {
      "text/plain": [
       "array([[2.00000000e+00, 2.30000000e+01, 0.00000000e+00, ...,\n",
       "        0.00000000e+00, 3.92051700e+04, 0.00000000e+00],\n",
       "       [2.00000000e+00, 3.40000000e+01, 0.00000000e+00, ...,\n",
       "        0.00000000e+00, 4.92780300e+04, 0.00000000e+00],\n",
       "       [2.00000000e+00, 2.30000000e+01, 0.00000000e+00, ...,\n",
       "        0.00000000e+00, 6.73337700e+04, 0.00000000e+00],\n",
       "       ...,\n",
       "       [2.00000000e+00, 2.30000000e+01, 0.00000000e+00, ...,\n",
       "        0.00000000e+00, 7.40281500e+04, 0.00000000e+00],\n",
       "       [2.00000000e+00, 2.50000000e+01, 0.00000000e+00, ...,\n",
       "        0.00000000e+00, 8.42781600e+04, 0.00000000e+00],\n",
       "       [2.00000000e+00, 4.60000000e+01, 0.00000000e+00, ...,\n",
       "        0.00000000e+00, 1.17310979e+05, 0.00000000e+00]])"
      ]
     },
     "execution_count": 9,
     "metadata": {},
     "output_type": "execute_result"
    }
   ],
   "source": [
    "sel = VarianceThreshold()\n",
    "sel.fit_transform(data)"
   ]
  },
  {
   "cell_type": "code",
   "execution_count": 10,
   "id": "4891ead7",
   "metadata": {},
   "outputs": [
    {
     "data": {
      "text/plain": [
       "336"
      ]
     },
     "execution_count": 10,
     "metadata": {},
     "output_type": "execute_result"
    }
   ],
   "source": [
    "# sel -> features that are not constant\n",
    "len(data.columns[sel.get_support()])"
   ]
  },
  {
   "cell_type": "code",
   "execution_count": 11,
   "id": "00233765",
   "metadata": {},
   "outputs": [
    {
     "data": {
      "text/plain": [
       "array(['var3', 'var15', 'imp_ent_var16_ult1', 'imp_op_var39_comer_ult1',\n",
       "       'imp_op_var39_comer_ult3', 'imp_op_var40_comer_ult1',\n",
       "       'imp_op_var40_comer_ult3', 'imp_op_var40_efect_ult1',\n",
       "       'imp_op_var40_efect_ult3', 'imp_op_var40_ult1',\n",
       "       'imp_op_var41_comer_ult1', 'imp_op_var41_comer_ult3',\n",
       "       'imp_op_var41_efect_ult1', 'imp_op_var41_efect_ult3',\n",
       "       'imp_op_var41_ult1', 'imp_op_var39_efect_ult1',\n",
       "       'imp_op_var39_efect_ult3', 'imp_op_var39_ult1',\n",
       "       'imp_sal_var16_ult1', 'ind_var1_0', 'ind_var1', 'ind_var5_0',\n",
       "       'ind_var5', 'ind_var6_0', 'ind_var6', 'ind_var8_0', 'ind_var8',\n",
       "       'ind_var12_0', 'ind_var12', 'ind_var13_0', 'ind_var13_corto_0',\n",
       "       'ind_var13_corto', 'ind_var13_largo_0', 'ind_var13_largo',\n",
       "       'ind_var13_medio_0', 'ind_var13_medio', 'ind_var13', 'ind_var14_0',\n",
       "       'ind_var14', 'ind_var17_0', 'ind_var17', 'ind_var18_0',\n",
       "       'ind_var18', 'ind_var19', 'ind_var20_0', 'ind_var20',\n",
       "       'ind_var24_0', 'ind_var24', 'ind_var25_cte', 'ind_var26_0',\n",
       "       'ind_var26_cte', 'ind_var26', 'ind_var25_0', 'ind_var25',\n",
       "       'ind_var29_0', 'ind_var29', 'ind_var30_0', 'ind_var30',\n",
       "       'ind_var31_0', 'ind_var31', 'ind_var32_cte', 'ind_var32_0',\n",
       "       'ind_var32', 'ind_var33_0', 'ind_var33', 'ind_var34_0',\n",
       "       'ind_var34', 'ind_var37_cte', 'ind_var37_0', 'ind_var37',\n",
       "       'ind_var39_0', 'ind_var40_0', 'ind_var40', 'ind_var41_0',\n",
       "       'ind_var39', 'ind_var44_0', 'ind_var44', 'num_var1_0', 'num_var1',\n",
       "       'num_var4', 'num_var5_0', 'num_var5', 'num_var6_0', 'num_var6',\n",
       "       'num_var8_0', 'num_var8', 'num_var12_0', 'num_var12',\n",
       "       'num_var13_0', 'num_var13_corto_0', 'num_var13_corto',\n",
       "       'num_var13_largo_0', 'num_var13_largo', 'num_var13_medio_0',\n",
       "       'num_var13_medio', 'num_var13', 'num_var14_0', 'num_var14',\n",
       "       'num_var17_0', 'num_var17', 'num_var18_0', 'num_var18',\n",
       "       'num_var20_0', 'num_var20', 'num_var24_0', 'num_var24',\n",
       "       'num_var26_0', 'num_var26', 'num_var25_0', 'num_var25',\n",
       "       'num_op_var40_hace2', 'num_op_var40_hace3', 'num_op_var40_ult1',\n",
       "       'num_op_var40_ult3', 'num_op_var41_hace2', 'num_op_var41_hace3',\n",
       "       'num_op_var41_ult1', 'num_op_var41_ult3', 'num_op_var39_hace2',\n",
       "       'num_op_var39_hace3', 'num_op_var39_ult1', 'num_op_var39_ult3',\n",
       "       'num_var29_0', 'num_var29', 'num_var30_0', 'num_var30',\n",
       "       'num_var31_0', 'num_var31', 'num_var32_0', 'num_var32',\n",
       "       'num_var33_0', 'num_var33', 'num_var34_0', 'num_var34',\n",
       "       'num_var35', 'num_var37_med_ult2', 'num_var37_0', 'num_var37',\n",
       "       'num_var39_0', 'num_var40_0', 'num_var40', 'num_var41_0',\n",
       "       'num_var39', 'num_var42_0', 'num_var42', 'num_var44_0',\n",
       "       'num_var44', 'saldo_var1', 'saldo_var5', 'saldo_var6',\n",
       "       'saldo_var8', 'saldo_var12', 'saldo_var13_corto',\n",
       "       'saldo_var13_largo', 'saldo_var13_medio', 'saldo_var13',\n",
       "       'saldo_var14', 'saldo_var17', 'saldo_var18', 'saldo_var20',\n",
       "       'saldo_var24', 'saldo_var26', 'saldo_var25', 'saldo_var29',\n",
       "       'saldo_var30', 'saldo_var31', 'saldo_var32', 'saldo_var33',\n",
       "       'saldo_var34', 'saldo_var37', 'saldo_var40', 'saldo_var42',\n",
       "       'saldo_var44', 'var36', 'delta_imp_amort_var18_1y3',\n",
       "       'delta_imp_amort_var34_1y3', 'delta_imp_aport_var13_1y3',\n",
       "       'delta_imp_aport_var17_1y3', 'delta_imp_aport_var33_1y3',\n",
       "       'delta_imp_compra_var44_1y3', 'delta_imp_reemb_var13_1y3',\n",
       "       'delta_imp_reemb_var17_1y3', 'delta_imp_reemb_var33_1y3',\n",
       "       'delta_imp_trasp_var17_in_1y3', 'delta_imp_trasp_var17_out_1y3',\n",
       "       'delta_imp_trasp_var33_in_1y3', 'delta_imp_trasp_var33_out_1y3',\n",
       "       'delta_imp_venta_var44_1y3', 'delta_num_aport_var13_1y3',\n",
       "       'delta_num_aport_var17_1y3', 'delta_num_aport_var33_1y3',\n",
       "       'delta_num_compra_var44_1y3', 'delta_num_reemb_var13_1y3',\n",
       "       'delta_num_reemb_var17_1y3', 'delta_num_reemb_var33_1y3',\n",
       "       'delta_num_trasp_var17_in_1y3', 'delta_num_trasp_var17_out_1y3',\n",
       "       'delta_num_trasp_var33_in_1y3', 'delta_num_trasp_var33_out_1y3',\n",
       "       'delta_num_venta_var44_1y3', 'imp_amort_var18_ult1',\n",
       "       'imp_amort_var34_ult1', 'imp_aport_var13_hace3',\n",
       "       'imp_aport_var13_ult1', 'imp_aport_var17_hace3',\n",
       "       'imp_aport_var17_ult1', 'imp_aport_var33_hace3',\n",
       "       'imp_aport_var33_ult1', 'imp_var7_emit_ult1',\n",
       "       'imp_var7_recib_ult1', 'imp_compra_var44_hace3',\n",
       "       'imp_compra_var44_ult1', 'imp_reemb_var13_ult1',\n",
       "       'imp_reemb_var17_hace3', 'imp_reemb_var17_ult1',\n",
       "       'imp_reemb_var33_ult1', 'imp_var43_emit_ult1',\n",
       "       'imp_trans_var37_ult1', 'imp_trasp_var17_in_hace3',\n",
       "       'imp_trasp_var17_in_ult1', 'imp_trasp_var17_out_ult1',\n",
       "       'imp_trasp_var33_in_hace3', 'imp_trasp_var33_in_ult1',\n",
       "       'imp_trasp_var33_out_ult1', 'imp_venta_var44_hace3',\n",
       "       'imp_venta_var44_ult1', 'ind_var7_emit_ult1',\n",
       "       'ind_var7_recib_ult1', 'ind_var10_ult1', 'ind_var10cte_ult1',\n",
       "       'ind_var9_cte_ult1', 'ind_var9_ult1', 'ind_var43_emit_ult1',\n",
       "       'ind_var43_recib_ult1', 'var21', 'num_aport_var13_hace3',\n",
       "       'num_aport_var13_ult1', 'num_aport_var17_hace3',\n",
       "       'num_aport_var17_ult1', 'num_aport_var33_hace3',\n",
       "       'num_aport_var33_ult1', 'num_var7_emit_ult1',\n",
       "       'num_var7_recib_ult1', 'num_compra_var44_hace3',\n",
       "       'num_compra_var44_ult1', 'num_ent_var16_ult1', 'num_var22_hace2',\n",
       "       'num_var22_hace3', 'num_var22_ult1', 'num_var22_ult3',\n",
       "       'num_med_var22_ult3', 'num_med_var45_ult3', 'num_meses_var5_ult3',\n",
       "       'num_meses_var8_ult3', 'num_meses_var12_ult3',\n",
       "       'num_meses_var13_corto_ult3', 'num_meses_var13_largo_ult3',\n",
       "       'num_meses_var13_medio_ult3', 'num_meses_var17_ult3',\n",
       "       'num_meses_var29_ult3', 'num_meses_var33_ult3',\n",
       "       'num_meses_var39_vig_ult3', 'num_meses_var44_ult3',\n",
       "       'num_op_var39_comer_ult1', 'num_op_var39_comer_ult3',\n",
       "       'num_op_var40_comer_ult1', 'num_op_var40_comer_ult3',\n",
       "       'num_op_var40_efect_ult1', 'num_op_var40_efect_ult3',\n",
       "       'num_op_var41_comer_ult1', 'num_op_var41_comer_ult3',\n",
       "       'num_op_var41_efect_ult1', 'num_op_var41_efect_ult3',\n",
       "       'num_op_var39_efect_ult1', 'num_op_var39_efect_ult3',\n",
       "       'num_reemb_var13_ult1', 'num_reemb_var17_hace3',\n",
       "       'num_reemb_var17_ult1', 'num_reemb_var33_ult1',\n",
       "       'num_sal_var16_ult1', 'num_var43_emit_ult1',\n",
       "       'num_var43_recib_ult1', 'num_trasp_var11_ult1',\n",
       "       'num_trasp_var17_in_hace3', 'num_trasp_var17_in_ult1',\n",
       "       'num_trasp_var17_out_ult1', 'num_trasp_var33_in_hace3',\n",
       "       'num_trasp_var33_in_ult1', 'num_trasp_var33_out_ult1',\n",
       "       'num_venta_var44_hace3', 'num_venta_var44_ult1', 'num_var45_hace2',\n",
       "       'num_var45_hace3', 'num_var45_ult1', 'num_var45_ult3',\n",
       "       'saldo_medio_var5_hace2', 'saldo_medio_var5_hace3',\n",
       "       'saldo_medio_var5_ult1', 'saldo_medio_var5_ult3',\n",
       "       'saldo_medio_var8_hace2', 'saldo_medio_var8_hace3',\n",
       "       'saldo_medio_var8_ult1', 'saldo_medio_var8_ult3',\n",
       "       'saldo_medio_var12_hace2', 'saldo_medio_var12_hace3',\n",
       "       'saldo_medio_var12_ult1', 'saldo_medio_var12_ult3',\n",
       "       'saldo_medio_var13_corto_hace2', 'saldo_medio_var13_corto_hace3',\n",
       "       'saldo_medio_var13_corto_ult1', 'saldo_medio_var13_corto_ult3',\n",
       "       'saldo_medio_var13_largo_hace2', 'saldo_medio_var13_largo_hace3',\n",
       "       'saldo_medio_var13_largo_ult1', 'saldo_medio_var13_largo_ult3',\n",
       "       'saldo_medio_var13_medio_hace2', 'saldo_medio_var13_medio_ult1',\n",
       "       'saldo_medio_var13_medio_ult3', 'saldo_medio_var17_hace2',\n",
       "       'saldo_medio_var17_hace3', 'saldo_medio_var17_ult1',\n",
       "       'saldo_medio_var17_ult3', 'saldo_medio_var29_hace2',\n",
       "       'saldo_medio_var29_hace3', 'saldo_medio_var29_ult1',\n",
       "       'saldo_medio_var29_ult3', 'saldo_medio_var33_hace2',\n",
       "       'saldo_medio_var33_hace3', 'saldo_medio_var33_ult1',\n",
       "       'saldo_medio_var33_ult3', 'saldo_medio_var44_hace2',\n",
       "       'saldo_medio_var44_hace3', 'saldo_medio_var44_ult1',\n",
       "       'saldo_medio_var44_ult3', 'var38', 'TARGET'], dtype=object)"
      ]
     },
     "execution_count": 11,
     "metadata": {},
     "output_type": "execute_result"
    }
   ],
   "source": [
    "sel.get_feature_names_out()"
   ]
  },
  {
   "cell_type": "markdown",
   "id": "e85eecb0",
   "metadata": {},
   "source": [
    "**Quasi constant features**\n",
    "- Same value for the great majority of the observations"
   ]
  },
  {
   "cell_type": "code",
   "execution_count": 12,
   "id": "c7035d24",
   "metadata": {},
   "outputs": [
    {
     "data": {
      "text/plain": [
       "VarianceThreshold(threshold=0.01)"
      ]
     },
     "execution_count": 12,
     "metadata": {},
     "output_type": "execute_result"
    }
   ],
   "source": [
    "# Threshold = 1%\n",
    "selection = VarianceThreshold(threshold=0.01)\n",
    "selection.fit(data)"
   ]
  },
  {
   "cell_type": "code",
   "execution_count": 13,
   "id": "20c3b5d1",
   "metadata": {},
   "outputs": [
    {
     "data": {
      "text/plain": [
       "273"
      ]
     },
     "execution_count": 13,
     "metadata": {},
     "output_type": "execute_result"
    }
   ],
   "source": [
    "len(selection.get_feature_names_out())"
   ]
  },
  {
   "cell_type": "code",
   "execution_count": 14,
   "id": "e2ea31af",
   "metadata": {},
   "outputs": [
    {
     "data": {
      "text/plain": [
       "97"
      ]
     },
     "execution_count": 14,
     "metadata": {},
     "output_type": "execute_result"
    }
   ],
   "source": [
    "quasi_constant = [col for col in data.columns if col not in selection.get_feature_names_out()]\n",
    "len(quasi_constant)"
   ]
  },
  {
   "cell_type": "markdown",
   "id": "858fd755",
   "metadata": {},
   "source": [
    "<hr>\n",
    "\n",
    "### Correlation with color\n",
    "- `corr()` It computes pairwise correlation of columns, excluding NA/null values.\n",
    "    - For better readability use: `.style.background_gradient(cmap='Blues')`\n",
    "- Good features are highly correlated with target.\n",
    "- Ideally feature should be correlated with target, but uncorrelated among themselves."
   ]
  },
  {
   "cell_type": "code",
   "execution_count": 15,
   "id": "b5f220d1",
   "metadata": {},
   "outputs": [
    {
     "data": {
      "text/plain": [
       "(76020, 273)"
      ]
     },
     "execution_count": 15,
     "metadata": {},
     "output_type": "execute_result"
    }
   ],
   "source": [
    "train = data[selection.get_feature_names_out()]\n",
    "train.shape"
   ]
  },
  {
   "cell_type": "code",
   "execution_count": 20,
   "id": "dd0a7694",
   "metadata": {},
   "outputs": [],
   "source": [
    "# train.corr().style.background_gradient(cmap='Blues')"
   ]
  },
  {
   "cell_type": "markdown",
   "id": "6d2fe146",
   "metadata": {},
   "source": [
    "#### Find correlated features\n",
    "- The goal is to find and remove correlated features\n",
    "- Calculate correlation matrix (assign it to `corr_matrix`)\n",
    "- A feature is correlated to any previous features if the following is true\n",
    "```Python\n",
    "feature = 'imp_op_var39_comer_ult1'\n",
    "(corr_matrix[feature].iloc[:corr_matrix.columns.get_loc(feature)]>0.8).any()\n",
    "```\n",
    "- Get all the correlated features by using list comprehenseion"
   ]
  },
  {
   "cell_type": "code",
   "execution_count": 21,
   "id": "b694b84b",
   "metadata": {},
   "outputs": [],
   "source": [
    "corr_matrix = train.corr()"
   ]
  },
  {
   "cell_type": "code",
   "execution_count": 24,
   "id": "0d754288",
   "metadata": {},
   "outputs": [
    {
     "data": {
      "text/plain": [
       "True"
      ]
     },
     "execution_count": 24,
     "metadata": {},
     "output_type": "execute_result"
    }
   ],
   "source": [
    "feature = 'imp_op_var39_comer_ult3'\n",
    "(corr_matrix[feature].iloc[:corr_matrix.columns.get_loc(feature)]>0.8).any()"
   ]
  },
  {
   "cell_type": "code",
   "execution_count": 25,
   "id": "9eb2d2f9",
   "metadata": {},
   "outputs": [],
   "source": [
    "corr_features = [feature for feature in corr_matrix.columns if (corr_matrix[feature].iloc[:corr_matrix.columns.get_loc(feature)]>0.8).any()]"
   ]
  },
  {
   "cell_type": "code",
   "execution_count": 26,
   "id": "c438965b",
   "metadata": {},
   "outputs": [
    {
     "data": {
      "text/plain": [
       "149"
      ]
     },
     "execution_count": 26,
     "metadata": {},
     "output_type": "execute_result"
    }
   ],
   "source": [
    "len(corr_features)"
   ]
  },
  {
   "cell_type": "markdown",
   "id": "66744a20",
   "metadata": {},
   "source": [
    "<hr>\n",
    "\n",
    "## Wrapper Method\n",
    "### Forward Selection\n",
    "- `SequentialFeatureSelector`: Sequential Feature Selection for Classification and Regression\n",
    "- First install it: `!pip install mlxtend`\n",
    "- For preparation remove all quasi- constant features and correlated features\n",
    "```Python\n",
    "X = data.drop(['TARGET'] + quasi_features + corr_features, axis=1)\n",
    "y = data['TARGET']\n",
    "```\n",
    "- Create a small training set\n",
    "```Python\n",
    "X_train, X_test, y_train, y_test = train_test_split(X,y,test_size=.75,random_state=42)\n",
    "```\n",
    "- Use the `SVC` model with the `SequentialFeatureSelector`"
   ]
  },
  {
   "cell_type": "code",
   "execution_count": 28,
   "id": "2b2e628d",
   "metadata": {},
   "outputs": [],
   "source": [
    "from sklearn.model_selection import train_test_split\n",
    "from sklearn.svm import SVC\n",
    "from sklearn.feature_selection import SequentialFeatureSelector as SFS"
   ]
  },
  {
   "cell_type": "code",
   "execution_count": 29,
   "id": "9a786de8",
   "metadata": {},
   "outputs": [],
   "source": [
    "X = data.drop(['TARGET'] + quasi_constant + corr_features, axis=1)\n",
    "y = data['TARGET']"
   ]
  },
  {
   "cell_type": "code",
   "execution_count": 31,
   "id": "b6ceb6f3",
   "metadata": {},
   "outputs": [
    {
     "data": {
      "text/plain": [
       "123"
      ]
     },
     "execution_count": 31,
     "metadata": {},
     "output_type": "execute_result"
    }
   ],
   "source": [
    "len(X.columns)"
   ]
  },
  {
   "cell_type": "code",
   "execution_count": 32,
   "id": "3f027202",
   "metadata": {},
   "outputs": [],
   "source": [
    "X_train, X_test, y_train, y_test = train_test_split(X,y,test_size=.9,random_state=42)"
   ]
  },
  {
   "cell_type": "code",
   "execution_count": 37,
   "id": "45ad6e2c",
   "metadata": {},
   "outputs": [],
   "source": [
    "sfs = SFS(SVC(),n_features_to_select=2,cv=2,n_jobs=8)"
   ]
  },
  {
   "cell_type": "code",
   "execution_count": 38,
   "id": "45c078f8",
   "metadata": {},
   "outputs": [
    {
     "data": {
      "text/plain": [
       "SequentialFeatureSelector(cv=2, estimator=SVC(), n_features_to_select=2,\n",
       "                          n_jobs=8)"
      ]
     },
     "execution_count": 38,
     "metadata": {},
     "output_type": "execute_result"
    }
   ],
   "source": [
    "sfs.fit(X_train,y_train)"
   ]
  },
  {
   "cell_type": "markdown",
   "id": "c802e452",
   "metadata": {},
   "source": [
    "**Good Score"
   ]
  }
 ],
 "metadata": {
  "kernelspec": {
   "display_name": "Python 3 (ipykernel)",
   "language": "python",
   "name": "python3"
  },
  "language_info": {
   "codemirror_mode": {
    "name": "ipython",
    "version": 3
   },
   "file_extension": ".py",
   "mimetype": "text/x-python",
   "name": "python",
   "nbconvert_exporter": "python",
   "pygments_lexer": "ipython3",
   "version": "3.9.13"
  }
 },
 "nbformat": 4,
 "nbformat_minor": 5
}
