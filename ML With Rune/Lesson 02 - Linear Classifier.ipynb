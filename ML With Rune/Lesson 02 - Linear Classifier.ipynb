{
 "cells": [
  {
   "cell_type": "markdown",
   "id": "4461bd6c",
   "metadata": {},
   "source": [
    "# Linear Classifier\n",
    "- Understand Perceptron Classifier\n",
    "- Use Perceptron as a linear classifier\n",
    "\n",
    "**Linear Classifier:** It makes classification decision based on the value of a linear combination of characteristics.\n",
    "\n",
    "![linear classifier](./images/linear.PNG)"
   ]
  },
  {
   "cell_type": "markdown",
   "id": "cabdf173",
   "metadata": {},
   "source": [
    "**For Example:** Assuming I wanna predict rainfall tomorrow based on Humidity and Pressure.\n",
    "\n",
    "- $x_1$: Humidity\n",
    "- $x_2$: Pressure\n",
    "- $h(x_1, x_2) = w_0 + w_1 x_1 + w_2 x_2$\n",
    "\n",
    "So,\n",
    "\n",
    "- Weight vector $w : (w_0,w_1,w_2)$\n",
    "- Input vector $x : (1,x_1,x_2)$\n",
    "\n",
    "${h = f(x)}$\n",
    "- Function: $x.w : w_0 + w_1x_1 + w_2x_2$\n",
    "- $h_wx = w.x$\n",
    "\n",
    "<hr>\n",
    "\n",
    "## Perceptron Classifier\n",
    "- It is a linear algorithm that can be applied to binary classification.\n",
    "\n",
    "### Perceptron Learning Rule\n",
    "- Given data point $x, y$ update each weight according to\n",
    "    - $w_i = w_i + \\alpha(y - h_w(x)) * x_i$\n",
    "    - $w_i = w_i + \\alpha($actual value - estimate$) * x_i$\n",
    "        - $\\alpha$: learning rate"
   ]
  },
  {
   "cell_type": "code",
   "execution_count": null,
   "id": "8a905a8b",
   "metadata": {},
   "outputs": [],
   "source": []
  }
 ],
 "metadata": {
  "kernelspec": {
   "display_name": "Python 3 (ipykernel)",
   "language": "python",
   "name": "python3"
  },
  "language_info": {
   "codemirror_mode": {
    "name": "ipython",
    "version": 3
   },
   "file_extension": ".py",
   "mimetype": "text/x-python",
   "name": "python",
   "nbconvert_exporter": "python",
   "pygments_lexer": "ipython3",
   "version": "3.9.13"
  }
 },
 "nbformat": 4,
 "nbformat_minor": 5
}
