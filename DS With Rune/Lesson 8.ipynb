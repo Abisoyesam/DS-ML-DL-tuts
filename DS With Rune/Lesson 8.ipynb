{
 "cells": [
  {
   "cell_type": "markdown",
   "id": "9b605515",
   "metadata": {},
   "source": [
    "# Lesson 8: Combining Data\n",
    "Often we need to combine data from different sources.\n",
    "\n",
    "<hr>\n",
    "\n",
    "### Pandas DataFrame\n",
    "* `concat([df1,df2],axis=0):` to concatenate pandas objects along a particuar axis\n",
    "* `df.join(df.set_index('key'), on='key')` to join column of another dataframe\n",
    "* `df.merge(df2,how='inner', on='a')` to merge dataframe or named series objects with a database -style join"
   ]
  },
  {
   "cell_type": "code",
   "execution_count": 1,
   "id": "c97558ba",
   "metadata": {},
   "outputs": [],
   "source": [
    "import pandas as pd"
   ]
  },
  {
   "cell_type": "code",
   "execution_count": null,
   "id": "e359f19e",
   "metadata": {},
   "outputs": [],
   "source": [
    "data = pd.read_csv('./data/API_SP/world pop.csv', ski)"
   ]
  }
 ],
 "metadata": {
  "kernelspec": {
   "display_name": "Python 3 (ipykernel)",
   "language": "python",
   "name": "python3"
  },
  "language_info": {
   "codemirror_mode": {
    "name": "ipython",
    "version": 3
   },
   "file_extension": ".py",
   "mimetype": "text/x-python",
   "name": "python",
   "nbconvert_exporter": "python",
   "pygments_lexer": "ipython3",
   "version": "3.9.13"
  }
 },
 "nbformat": 4,
 "nbformat_minor": 5
}
