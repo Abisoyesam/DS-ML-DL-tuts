{
 "cells": [
  {
   "cell_type": "markdown",
   "id": "2205d05a",
   "metadata": {},
   "source": [
    "# Data Science Workflow\n",
    "\n",
    "![workflow](./img/ds-workflow.PNG)"
   ]
  },
  {
   "cell_type": "markdown",
   "id": "694e1fb6",
   "metadata": {},
   "source": [
    "## Step 1: Acquire\n",
    "<hr>\n",
    "\n",
    "### Explore Problem\n",
    "- **Get the right question:** What is the problem I try to solve?\n",
    "\n",
    "### Identify Data\n",
    "- The data is either given by client or gotten online\n",
    "\n",
    "### Import Data\n",
    "- Import data using the pandas DataFrame from `Excel`,`CSV`,`Database`,`Parquet`, and web scraping.\n",
    "\n",
    "### Combine Data\n",
    "- It is often used to combine data from different sources.\n",
    "\n",
    "Use: `concat()`,`join()`, or `merge()`"
   ]
  },
  {
   "cell_type": "markdown",
   "id": "3d14937a",
   "metadata": {},
   "source": [
    "## Step 2: Prepare\n",
    "<hr>\n",
    "\n",
    "### Explore Data\n",
    "\n",
    "**Simple Exploration:** `head()`,`.shape`,`.dtypes`,`info()`,`describe()`,`isna()`\n",
    "\n",
    "**Groupby, Counts and Statistics**\n",
    "- Grouping is by the non-numeric values.\n",
    "- Count group to see the significance across results.\n",
    "- Check for the mean of the values.\n",
    "- Standard deviation: it is the measure of how dispersed (spread) the data is in relation to the mean.\n",
    "- Box plot: used instead of `describe()` in visual. \n",
    "\n",
    "### Visualize Data\n",
    "- Plot\n",
    "- Scatter plot\n",
    "- Pie chart\n",
    "- Histogram\n",
    "- Bar chart\n",
    "\n",
    "### Cleaning Data\n",
    "- `dropna()`: Remove missing values.\n",
    "- `fillna()`: Fill NA/NaN values using specified method.\n",
    "- `drop_duplicate():` Return DataFrame with duplicate rows removed.\n",
    "\n",
    "**Working with Time Series**\n",
    "- `reindex()`: Conform Series/DataFrame to new index with optional filling logic\n",
    "- `interpolate()`: Fill NaN using an interpolation method."
   ]
  },
  {
   "cell_type": "markdown",
   "id": "f9ef2e88",
   "metadata": {},
   "source": [
    "## Step 3: Analyze\n",
    "\n",
    "<hr>\n",
    "\n",
    "### Split into Train and Test\n",
    "- Assign independent features to `X`\n",
    "- Assign dependent features to `y`\n",
    "- Divide into training and test sets\n",
    "\n",
    "### Feature Scaling\n",
    "- Normalization (MinMaxScaler)\n",
    "```Python\n",
    "from sklearn.preprocessing import MinMaxScaler\n",
    "\n",
    "norm = MinMaxScaler().fit(X_train)\n",
    "X_train_norm = norm.transform(X_train)\n",
    "X_test_norm = norm.transform(X_test)\n",
    "```\n",
    "**N.B:** Only fit on the training data\n",
    "\n",
    "- Standardization (StandardScaler)"
   ]
  },
  {
   "cell_type": "code",
   "execution_count": null,
   "id": "d68e104e",
   "metadata": {},
   "outputs": [],
   "source": []
  }
 ],
 "metadata": {
  "kernelspec": {
   "display_name": "Python 3 (ipykernel)",
   "language": "python",
   "name": "python3"
  },
  "language_info": {
   "codemirror_mode": {
    "name": "ipython",
    "version": 3
   },
   "file_extension": ".py",
   "mimetype": "text/x-python",
   "name": "python",
   "nbconvert_exporter": "python",
   "pygments_lexer": "ipython3",
   "version": "3.9.13"
  }
 },
 "nbformat": 4,
 "nbformat_minor": 5
}
