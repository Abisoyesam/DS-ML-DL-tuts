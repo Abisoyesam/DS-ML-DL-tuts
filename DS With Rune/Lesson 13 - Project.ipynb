{
 "cells": [
  {
   "cell_type": "markdown",
   "id": "c4b3eebd",
   "metadata": {},
   "source": [
    "# Feature Scaling\n",
    "\n",
    "<hr>\n",
    "\n",
    "## Goal of Project\n",
    "- A sport magazine is writing an article on soccer players\n",
    "- They have special interest in left-footed players\n",
    "- Determine whether playing style can predict if player is left-footed"
   ]
  },
  {
   "cell_type": "code",
   "execution_count": 1,
   "id": "a85bf965",
   "metadata": {},
   "outputs": [],
   "source": [
    "# import libraries\n",
    "import numpy as np\n",
    "import pandas as pd\n",
    "from sklearn.model_selection import train_test_split\n",
    "from sklearn.svm import SVC\n",
    "from sklearn.preprocessing import MinMaxScaler\n",
    "from sklearn.preprocessing import StandardScaler\n",
    "from sklearn.metrics import accuracy_score\n",
    "from sklearn.inspection import permutation_importance"
   ]
  },
  {
   "cell_type": "code",
   "execution_count": 2,
   "id": "8b7cd60f",
   "metadata": {},
   "outputs": [
    {
     "data": {
      "text/html": [
       "<div>\n",
       "<style scoped>\n",
       "    .dataframe tbody tr th:only-of-type {\n",
       "        vertical-align: middle;\n",
       "    }\n",
       "\n",
       "    .dataframe tbody tr th {\n",
       "        vertical-align: top;\n",
       "    }\n",
       "\n",
       "    .dataframe thead th {\n",
       "        text-align: right;\n",
       "    }\n",
       "</style>\n",
       "<table border=\"1\" class=\"dataframe\">\n",
       "  <thead>\n",
       "    <tr style=\"text-align: right;\">\n",
       "      <th></th>\n",
       "      <th>player_fifa_api_id</th>\n",
       "      <th>player_api_id</th>\n",
       "      <th>date</th>\n",
       "      <th>overall_rating</th>\n",
       "      <th>potential</th>\n",
       "      <th>preferred_foot</th>\n",
       "      <th>attacking_work_rate</th>\n",
       "      <th>defensive_work_rate</th>\n",
       "      <th>crossing</th>\n",
       "      <th>finishing</th>\n",
       "      <th>...</th>\n",
       "      <th>vision</th>\n",
       "      <th>penalties</th>\n",
       "      <th>marking</th>\n",
       "      <th>standing_tackle</th>\n",
       "      <th>sliding_tackle</th>\n",
       "      <th>gk_diving</th>\n",
       "      <th>gk_handling</th>\n",
       "      <th>gk_kicking</th>\n",
       "      <th>gk_positioning</th>\n",
       "      <th>gk_reflexes</th>\n",
       "    </tr>\n",
       "    <tr>\n",
       "      <th>id</th>\n",
       "      <th></th>\n",
       "      <th></th>\n",
       "      <th></th>\n",
       "      <th></th>\n",
       "      <th></th>\n",
       "      <th></th>\n",
       "      <th></th>\n",
       "      <th></th>\n",
       "      <th></th>\n",
       "      <th></th>\n",
       "      <th></th>\n",
       "      <th></th>\n",
       "      <th></th>\n",
       "      <th></th>\n",
       "      <th></th>\n",
       "      <th></th>\n",
       "      <th></th>\n",
       "      <th></th>\n",
       "      <th></th>\n",
       "      <th></th>\n",
       "      <th></th>\n",
       "    </tr>\n",
       "  </thead>\n",
       "  <tbody>\n",
       "    <tr>\n",
       "      <th>1</th>\n",
       "      <td>218353</td>\n",
       "      <td>505942</td>\n",
       "      <td>2016-02-18 00:00:00</td>\n",
       "      <td>67.0</td>\n",
       "      <td>71.0</td>\n",
       "      <td>right</td>\n",
       "      <td>medium</td>\n",
       "      <td>medium</td>\n",
       "      <td>49.0</td>\n",
       "      <td>44.0</td>\n",
       "      <td>...</td>\n",
       "      <td>54.0</td>\n",
       "      <td>48.0</td>\n",
       "      <td>65.0</td>\n",
       "      <td>69.0</td>\n",
       "      <td>69.0</td>\n",
       "      <td>6.0</td>\n",
       "      <td>11.0</td>\n",
       "      <td>10.0</td>\n",
       "      <td>8.0</td>\n",
       "      <td>8.0</td>\n",
       "    </tr>\n",
       "    <tr>\n",
       "      <th>2</th>\n",
       "      <td>218353</td>\n",
       "      <td>505942</td>\n",
       "      <td>2015-11-19 00:00:00</td>\n",
       "      <td>67.0</td>\n",
       "      <td>71.0</td>\n",
       "      <td>right</td>\n",
       "      <td>medium</td>\n",
       "      <td>medium</td>\n",
       "      <td>49.0</td>\n",
       "      <td>44.0</td>\n",
       "      <td>...</td>\n",
       "      <td>54.0</td>\n",
       "      <td>48.0</td>\n",
       "      <td>65.0</td>\n",
       "      <td>69.0</td>\n",
       "      <td>69.0</td>\n",
       "      <td>6.0</td>\n",
       "      <td>11.0</td>\n",
       "      <td>10.0</td>\n",
       "      <td>8.0</td>\n",
       "      <td>8.0</td>\n",
       "    </tr>\n",
       "    <tr>\n",
       "      <th>3</th>\n",
       "      <td>218353</td>\n",
       "      <td>505942</td>\n",
       "      <td>2015-09-21 00:00:00</td>\n",
       "      <td>62.0</td>\n",
       "      <td>66.0</td>\n",
       "      <td>right</td>\n",
       "      <td>medium</td>\n",
       "      <td>medium</td>\n",
       "      <td>49.0</td>\n",
       "      <td>44.0</td>\n",
       "      <td>...</td>\n",
       "      <td>54.0</td>\n",
       "      <td>48.0</td>\n",
       "      <td>65.0</td>\n",
       "      <td>66.0</td>\n",
       "      <td>69.0</td>\n",
       "      <td>6.0</td>\n",
       "      <td>11.0</td>\n",
       "      <td>10.0</td>\n",
       "      <td>8.0</td>\n",
       "      <td>8.0</td>\n",
       "    </tr>\n",
       "    <tr>\n",
       "      <th>4</th>\n",
       "      <td>218353</td>\n",
       "      <td>505942</td>\n",
       "      <td>2015-03-20 00:00:00</td>\n",
       "      <td>61.0</td>\n",
       "      <td>65.0</td>\n",
       "      <td>right</td>\n",
       "      <td>medium</td>\n",
       "      <td>medium</td>\n",
       "      <td>48.0</td>\n",
       "      <td>43.0</td>\n",
       "      <td>...</td>\n",
       "      <td>53.0</td>\n",
       "      <td>47.0</td>\n",
       "      <td>62.0</td>\n",
       "      <td>63.0</td>\n",
       "      <td>66.0</td>\n",
       "      <td>5.0</td>\n",
       "      <td>10.0</td>\n",
       "      <td>9.0</td>\n",
       "      <td>7.0</td>\n",
       "      <td>7.0</td>\n",
       "    </tr>\n",
       "    <tr>\n",
       "      <th>5</th>\n",
       "      <td>218353</td>\n",
       "      <td>505942</td>\n",
       "      <td>2007-02-22 00:00:00</td>\n",
       "      <td>61.0</td>\n",
       "      <td>65.0</td>\n",
       "      <td>right</td>\n",
       "      <td>medium</td>\n",
       "      <td>medium</td>\n",
       "      <td>48.0</td>\n",
       "      <td>43.0</td>\n",
       "      <td>...</td>\n",
       "      <td>53.0</td>\n",
       "      <td>47.0</td>\n",
       "      <td>62.0</td>\n",
       "      <td>63.0</td>\n",
       "      <td>66.0</td>\n",
       "      <td>5.0</td>\n",
       "      <td>10.0</td>\n",
       "      <td>9.0</td>\n",
       "      <td>7.0</td>\n",
       "      <td>7.0</td>\n",
       "    </tr>\n",
       "  </tbody>\n",
       "</table>\n",
       "<p>5 rows × 41 columns</p>\n",
       "</div>"
      ],
      "text/plain": [
       "    player_fifa_api_id  player_api_id                 date  overall_rating  \\\n",
       "id                                                                           \n",
       "1               218353         505942  2016-02-18 00:00:00            67.0   \n",
       "2               218353         505942  2015-11-19 00:00:00            67.0   \n",
       "3               218353         505942  2015-09-21 00:00:00            62.0   \n",
       "4               218353         505942  2015-03-20 00:00:00            61.0   \n",
       "5               218353         505942  2007-02-22 00:00:00            61.0   \n",
       "\n",
       "    potential preferred_foot attacking_work_rate defensive_work_rate  \\\n",
       "id                                                                     \n",
       "1        71.0          right              medium              medium   \n",
       "2        71.0          right              medium              medium   \n",
       "3        66.0          right              medium              medium   \n",
       "4        65.0          right              medium              medium   \n",
       "5        65.0          right              medium              medium   \n",
       "\n",
       "    crossing  finishing  ...  vision  penalties  marking  standing_tackle  \\\n",
       "id                       ...                                                \n",
       "1       49.0       44.0  ...    54.0       48.0     65.0             69.0   \n",
       "2       49.0       44.0  ...    54.0       48.0     65.0             69.0   \n",
       "3       49.0       44.0  ...    54.0       48.0     65.0             66.0   \n",
       "4       48.0       43.0  ...    53.0       47.0     62.0             63.0   \n",
       "5       48.0       43.0  ...    53.0       47.0     62.0             63.0   \n",
       "\n",
       "    sliding_tackle  gk_diving  gk_handling  gk_kicking  gk_positioning  \\\n",
       "id                                                                       \n",
       "1             69.0        6.0         11.0        10.0             8.0   \n",
       "2             69.0        6.0         11.0        10.0             8.0   \n",
       "3             69.0        6.0         11.0        10.0             8.0   \n",
       "4             66.0        5.0         10.0         9.0             7.0   \n",
       "5             66.0        5.0         10.0         9.0             7.0   \n",
       "\n",
       "    gk_reflexes  \n",
       "id               \n",
       "1           8.0  \n",
       "2           8.0  \n",
       "3           8.0  \n",
       "4           7.0  \n",
       "5           7.0  \n",
       "\n",
       "[5 rows x 41 columns]"
      ]
     },
     "execution_count": 2,
     "metadata": {},
     "output_type": "execute_result"
    }
   ],
   "source": [
    "# read the data\n",
    "data = pd.read_parquet('./data/soccer.parquet')\n",
    "data.head()"
   ]
  },
  {
   "cell_type": "code",
   "execution_count": 4,
   "id": "c92fc3bb",
   "metadata": {},
   "outputs": [],
   "source": [
    "data = data[:2000]"
   ]
  },
  {
   "cell_type": "code",
   "execution_count": 5,
   "id": "60341fb0",
   "metadata": {},
   "outputs": [
    {
     "data": {
      "text/plain": [
       "Index(['player_fifa_api_id', 'player_api_id', 'date', 'overall_rating',\n",
       "       'potential', 'preferred_foot', 'attacking_work_rate',\n",
       "       'defensive_work_rate', 'crossing', 'finishing', 'heading_accuracy',\n",
       "       'short_passing', 'volleys', 'dribbling', 'curve', 'free_kick_accuracy',\n",
       "       'long_passing', 'ball_control', 'acceleration', 'sprint_speed',\n",
       "       'agility', 'reactions', 'balance', 'shot_power', 'jumping', 'stamina',\n",
       "       'strength', 'long_shots', 'aggression', 'interceptions', 'positioning',\n",
       "       'vision', 'penalties', 'marking', 'standing_tackle', 'sliding_tackle',\n",
       "       'gk_diving', 'gk_handling', 'gk_kicking', 'gk_positioning',\n",
       "       'gk_reflexes'],\n",
       "      dtype='object')"
      ]
     },
     "execution_count": 5,
     "metadata": {},
     "output_type": "execute_result"
    }
   ],
   "source": [
    "data.columns"
   ]
  },
  {
   "cell_type": "code",
   "execution_count": 6,
   "id": "bcc32a70",
   "metadata": {},
   "outputs": [
    {
     "data": {
      "text/plain": [
       "2000"
      ]
     },
     "execution_count": 6,
     "metadata": {},
     "output_type": "execute_result"
    }
   ],
   "source": [
    "len(data)"
   ]
  },
  {
   "cell_type": "code",
   "execution_count": 7,
   "id": "d0051234",
   "metadata": {},
   "outputs": [
    {
     "data": {
      "text/plain": [
       "player_fifa_api_id      0\n",
       "player_api_id           0\n",
       "date                    0\n",
       "overall_rating          3\n",
       "potential               3\n",
       "preferred_foot          3\n",
       "attacking_work_rate    43\n",
       "defensive_work_rate     3\n",
       "crossing                3\n",
       "finishing               3\n",
       "heading_accuracy        3\n",
       "short_passing           3\n",
       "volleys                28\n",
       "dribbling               3\n",
       "curve                  28\n",
       "free_kick_accuracy      3\n",
       "long_passing            3\n",
       "ball_control            3\n",
       "acceleration            3\n",
       "sprint_speed            3\n",
       "agility                28\n",
       "reactions               3\n",
       "balance                28\n",
       "shot_power              3\n",
       "jumping                28\n",
       "stamina                 3\n",
       "strength                3\n",
       "long_shots              3\n",
       "aggression              3\n",
       "interceptions           3\n",
       "positioning             3\n",
       "vision                 28\n",
       "penalties               3\n",
       "marking                 3\n",
       "standing_tackle         3\n",
       "sliding_tackle         28\n",
       "gk_diving               3\n",
       "gk_handling             3\n",
       "gk_kicking              3\n",
       "gk_positioning          3\n",
       "gk_reflexes             3\n",
       "dtype: int64"
      ]
     },
     "execution_count": 7,
     "metadata": {},
     "output_type": "execute_result"
    }
   ],
   "source": [
    "# check for null values\n",
    "data.isna().sum()"
   ]
  },
  {
   "cell_type": "code",
   "execution_count": 8,
   "id": "67a23a20",
   "metadata": {},
   "outputs": [
    {
     "data": {
      "text/plain": [
       "1957"
      ]
     },
     "execution_count": 8,
     "metadata": {},
     "output_type": "execute_result"
    }
   ],
   "source": [
    "data = data.dropna()\n",
    "len(data)"
   ]
  },
  {
   "cell_type": "code",
   "execution_count": 9,
   "id": "96edef49",
   "metadata": {},
   "outputs": [
    {
     "data": {
      "text/plain": [
       "player_fifa_api_id       int64\n",
       "player_api_id            int64\n",
       "shot_power             float64\n",
       "jumping                float64\n",
       "stamina                float64\n",
       "strength               float64\n",
       "long_shots             float64\n",
       "aggression             float64\n",
       "interceptions          float64\n",
       "positioning            float64\n",
       "vision                 float64\n",
       "penalties              float64\n",
       "marking                float64\n",
       "standing_tackle        float64\n",
       "sliding_tackle         float64\n",
       "gk_diving              float64\n",
       "gk_handling            float64\n",
       "gk_kicking             float64\n",
       "balance                float64\n",
       "reactions              float64\n",
       "agility                float64\n",
       "sprint_speed           float64\n",
       "overall_rating         float64\n",
       "potential              float64\n",
       "crossing               float64\n",
       "finishing              float64\n",
       "gk_positioning         float64\n",
       "short_passing          float64\n",
       "heading_accuracy       float64\n",
       "dribbling              float64\n",
       "curve                  float64\n",
       "free_kick_accuracy     float64\n",
       "long_passing           float64\n",
       "ball_control           float64\n",
       "acceleration           float64\n",
       "volleys                float64\n",
       "gk_reflexes            float64\n",
       "defensive_work_rate     object\n",
       "attacking_work_rate     object\n",
       "preferred_foot          object\n",
       "date                    object\n",
       "dtype: object"
      ]
     },
     "execution_count": 9,
     "metadata": {},
     "output_type": "execute_result"
    }
   ],
   "source": [
    "data.dtypes.sort_values()"
   ]
  },
  {
   "cell_type": "code",
   "execution_count": null,
   "id": "cd7a30b2",
   "metadata": {},
   "outputs": [],
   "source": [
    "X = data.select_dtypes(include='number').drop(['player_fifa_api_id','player_api_id'],axis=1)\n",
    "y = data['preferred_foot']"
   ]
  },
  {
   "cell_type": "code",
   "execution_count": null,
   "id": "04c4da46",
   "metadata": {},
   "outputs": [],
   "source": [
    "X.head()"
   ]
  },
  {
   "cell_type": "code",
   "execution_count": null,
   "id": "9a92d6bc",
   "metadata": {},
   "outputs": [],
   "source": [
    "# transform the y\n",
    "\n",
    "y = np.array([1 if value == 'right' else 0 for value in y])"
   ]
  },
  {
   "cell_type": "code",
   "execution_count": null,
   "id": "4a869bce",
   "metadata": {},
   "outputs": [],
   "source": [
    "# split into train and test set\n",
    "\n",
    "X_train, X_test, y_train, y_test = train_test_split(X,y,test_size=.2,random_state=42)"
   ]
  },
  {
   "cell_type": "markdown",
   "id": "7cab78ca",
   "metadata": {},
   "source": [
    "## Normalize"
   ]
  },
  {
   "cell_type": "code",
   "execution_count": null,
   "id": "c9629ef3",
   "metadata": {},
   "outputs": [],
   "source": [
    "norm = MinMaxScaler().fit(X_train)\n",
    "\n",
    "X_train_norm = norm.transform(X_train)\n",
    "X_test_norm = norm.transform(X_test)"
   ]
  },
  {
   "cell_type": "code",
   "execution_count": null,
   "id": "3e600354",
   "metadata": {},
   "outputs": [],
   "source": [
    "pd.DataFrame(X_train_norm).describe()"
   ]
  },
  {
   "cell_type": "markdown",
   "id": "f91d2c03",
   "metadata": {},
   "source": [
    "## Standardize"
   ]
  },
  {
   "cell_type": "code",
   "execution_count": null,
   "id": "a581fa41",
   "metadata": {},
   "outputs": [],
   "source": [
    "stand = StandardScaler().fit(X_train)\n",
    "\n",
    "X_train_stand = stand.transform(X_train)\n",
    "X_test_stand = stand.transform(X_test)"
   ]
  },
  {
   "cell_type": "code",
   "execution_count": null,
   "id": "81cd16cf",
   "metadata": {},
   "outputs": [],
   "source": [
    "pd.DataFrame(X_train_stand).describe()"
   ]
  },
  {
   "cell_type": "code",
   "execution_count": null,
   "id": "1c994799",
   "metadata": {},
   "outputs": [],
   "source": [
    "pd.DataFrame(X_train_stand).describe().round(2)"
   ]
  },
  {
   "cell_type": "markdown",
   "id": "ac55fe01",
   "metadata": {},
   "source": [
    "## Machine Learning Model"
   ]
  },
  {
   "cell_type": "code",
   "execution_count": null,
   "id": "06b7f684",
   "metadata": {},
   "outputs": [],
   "source": [
    "# score = []\n",
    "\n",
    "# X_trains = [X_train,X_train_norm,X_train_stand]\n",
    "# X_tests = [X_test,X_test_norm,X_test_stand]\n",
    "\n",
    "# for train, test in zip(X_trains,X_tests):\n",
    "#     svc = SVC()\n",
    "    \n",
    "#     svc.fit(train,y_train)\n",
    "#     y_pred = svc.predict(test)\n",
    "    \n",
    "#     score.append(accuracy_score(y_test,y_pred))\n",
    "    \n",
    "# df_var = pd.DataFrame({'Accuracy score': score},index=['Original','Normalized','Standardized'])\n",
    "# df_var"
   ]
  },
  {
   "cell_type": "code",
   "execution_count": null,
   "id": "f5a6db32",
   "metadata": {},
   "outputs": [],
   "source": []
  }
 ],
 "metadata": {
  "kernelspec": {
   "display_name": "Python 3 (ipykernel)",
   "language": "python",
   "name": "python3"
  },
  "language_info": {
   "codemirror_mode": {
    "name": "ipython",
    "version": 3
   },
   "file_extension": ".py",
   "mimetype": "text/x-python",
   "name": "python",
   "nbconvert_exporter": "python",
   "pygments_lexer": "ipython3",
   "version": "3.9.13"
  }
 },
 "nbformat": 4,
 "nbformat_minor": 5
}
