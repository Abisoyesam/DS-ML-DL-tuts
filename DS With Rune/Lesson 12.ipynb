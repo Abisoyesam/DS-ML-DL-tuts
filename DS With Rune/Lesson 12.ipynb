{
 "cells": [
  {
   "cell_type": "markdown",
   "id": "72205029",
   "metadata": {},
   "source": [
    "# Classification\n",
    "\n",
    "![machine_learning](./img/machine_learning.PNG)\n",
    "\n",
    "* In the **classical computing model** every thing is programmed into the algorithm\n",
    "* With the modern computing model **(Machine Learning)** the paradigm is changed.\n",
    "    - We feed the algorithm with data\n",
    "    - Based on the data, the algorithm (model) make decisions in the program\n",
    "\n",
    "<hr>\n",
    "\n",
    "## How Machine Learning Works\n",
    "\n",
    "### Phase 1: Learning Phase\n",
    "\n",
    "![ml_process](./img/ml_process.PNG)\n",
    "\n",
    "### Phase 2: Prediction\n",
    "\n",
    "![ml_prediction](./img/ml_prediction.PNG)"
   ]
  },
  {
   "cell_type": "code",
   "execution_count": null,
   "id": "2c3e407a",
   "metadata": {},
   "outputs": [],
   "source": []
  }
 ],
 "metadata": {
  "kernelspec": {
   "display_name": "Python 3 (ipykernel)",
   "language": "python",
   "name": "python3"
  },
  "language_info": {
   "codemirror_mode": {
    "name": "ipython",
    "version": 3
   },
   "file_extension": ".py",
   "mimetype": "text/x-python",
   "name": "python",
   "nbconvert_exporter": "python",
   "pygments_lexer": "ipython3",
   "version": "3.9.13"
  }
 },
 "nbformat": 4,
 "nbformat_minor": 5
}
