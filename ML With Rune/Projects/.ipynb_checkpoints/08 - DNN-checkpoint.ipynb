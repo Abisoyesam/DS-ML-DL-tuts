{
 "cells": [
  {
   "cell_type": "markdown",
   "id": "425fdfd1",
   "metadata": {},
   "source": [
    "#  DNN Project\n",
    "- Identify false banknotes"
   ]
  },
  {
   "cell_type": "code",
   "execution_count": 1,
   "id": "950f6c78",
   "metadata": {},
   "outputs": [],
   "source": [
    "import pandas as pd\n",
    "from sklearn.model_selection import train_test_split\n",
    "from tensorflow.keras.layers import Dense\n",
    "from tensorflow.keras.models import Sequential"
   ]
  },
  {
   "cell_type": "code",
   "execution_count": 2,
   "id": "f66e3e19",
   "metadata": {},
   "outputs": [
    {
     "data": {
      "text/html": [
       "<div>\n",
       "<style scoped>\n",
       "    .dataframe tbody tr th:only-of-type {\n",
       "        vertical-align: middle;\n",
       "    }\n",
       "\n",
       "    .dataframe tbody tr th {\n",
       "        vertical-align: top;\n",
       "    }\n",
       "\n",
       "    .dataframe thead th {\n",
       "        text-align: right;\n",
       "    }\n",
       "</style>\n",
       "<table border=\"1\" class=\"dataframe\">\n",
       "  <thead>\n",
       "    <tr style=\"text-align: right;\">\n",
       "      <th></th>\n",
       "      <th>variance</th>\n",
       "      <th>skewness</th>\n",
       "      <th>curtosis</th>\n",
       "      <th>entropy</th>\n",
       "      <th>class</th>\n",
       "    </tr>\n",
       "  </thead>\n",
       "  <tbody>\n",
       "    <tr>\n",
       "      <th>0</th>\n",
       "      <td>-0.89569</td>\n",
       "      <td>3.00250</td>\n",
       "      <td>-3.606700</td>\n",
       "      <td>-3.44570</td>\n",
       "      <td>1</td>\n",
       "    </tr>\n",
       "    <tr>\n",
       "      <th>1</th>\n",
       "      <td>3.47690</td>\n",
       "      <td>-0.15314</td>\n",
       "      <td>2.530000</td>\n",
       "      <td>2.44950</td>\n",
       "      <td>0</td>\n",
       "    </tr>\n",
       "    <tr>\n",
       "      <th>2</th>\n",
       "      <td>3.91020</td>\n",
       "      <td>6.06500</td>\n",
       "      <td>-2.453400</td>\n",
       "      <td>-0.68234</td>\n",
       "      <td>0</td>\n",
       "    </tr>\n",
       "    <tr>\n",
       "      <th>3</th>\n",
       "      <td>0.60731</td>\n",
       "      <td>3.95440</td>\n",
       "      <td>-4.772000</td>\n",
       "      <td>-4.48530</td>\n",
       "      <td>1</td>\n",
       "    </tr>\n",
       "    <tr>\n",
       "      <th>4</th>\n",
       "      <td>2.37180</td>\n",
       "      <td>7.49080</td>\n",
       "      <td>0.015989</td>\n",
       "      <td>-1.74140</td>\n",
       "      <td>0</td>\n",
       "    </tr>\n",
       "  </tbody>\n",
       "</table>\n",
       "</div>"
      ],
      "text/plain": [
       "   variance  skewness  curtosis  entropy  class\n",
       "0  -0.89569   3.00250 -3.606700 -3.44570      1\n",
       "1   3.47690  -0.15314  2.530000  2.44950      0\n",
       "2   3.91020   6.06500 -2.453400 -0.68234      0\n",
       "3   0.60731   3.95440 -4.772000 -4.48530      1\n",
       "4   2.37180   7.49080  0.015989 -1.74140      0"
      ]
     },
     "execution_count": 2,
     "metadata": {},
     "output_type": "execute_result"
    }
   ],
   "source": [
    "data = pd.read_csv('../data/banknotes.csv')\n",
    "data.head()"
   ]
  },
  {
   "cell_type": "code",
   "execution_count": 3,
   "id": "d2e15670",
   "metadata": {},
   "outputs": [
    {
     "data": {
      "text/plain": [
       "1372"
      ]
     },
     "execution_count": 3,
     "metadata": {},
     "output_type": "execute_result"
    }
   ],
   "source": [
    "len(data)"
   ]
  },
  {
   "cell_type": "code",
   "execution_count": 4,
   "id": "0f88e378",
   "metadata": {},
   "outputs": [
    {
     "data": {
      "text/plain": [
       "array([1, 0], dtype=int64)"
      ]
     },
     "execution_count": 4,
     "metadata": {},
     "output_type": "execute_result"
    }
   ],
   "source": [
    "data['class'].unique()"
   ]
  },
  {
   "cell_type": "code",
   "execution_count": 5,
   "id": "f308a406",
   "metadata": {},
   "outputs": [
    {
     "data": {
      "text/plain": [
       "variance    0\n",
       "skewness    0\n",
       "curtosis    0\n",
       "entropy     0\n",
       "class       0\n",
       "dtype: int64"
      ]
     },
     "execution_count": 5,
     "metadata": {},
     "output_type": "execute_result"
    }
   ],
   "source": [
    "data.isnull().sum()"
   ]
  },
  {
   "cell_type": "code",
   "execution_count": 6,
   "id": "e8d09b03",
   "metadata": {},
   "outputs": [],
   "source": [
    "X = data.drop('class',axis=1)\n",
    "y = data['class']"
   ]
  },
  {
   "cell_type": "code",
   "execution_count": 7,
   "id": "0597e305",
   "metadata": {},
   "outputs": [
    {
     "data": {
      "text/html": [
       "<div>\n",
       "<style scoped>\n",
       "    .dataframe tbody tr th:only-of-type {\n",
       "        vertical-align: middle;\n",
       "    }\n",
       "\n",
       "    .dataframe tbody tr th {\n",
       "        vertical-align: top;\n",
       "    }\n",
       "\n",
       "    .dataframe thead th {\n",
       "        text-align: right;\n",
       "    }\n",
       "</style>\n",
       "<table border=\"1\" class=\"dataframe\">\n",
       "  <thead>\n",
       "    <tr style=\"text-align: right;\">\n",
       "      <th></th>\n",
       "      <th>variance</th>\n",
       "      <th>skewness</th>\n",
       "      <th>curtosis</th>\n",
       "      <th>entropy</th>\n",
       "    </tr>\n",
       "  </thead>\n",
       "  <tbody>\n",
       "    <tr>\n",
       "      <th>0</th>\n",
       "      <td>-0.89569</td>\n",
       "      <td>3.00250</td>\n",
       "      <td>-3.606700</td>\n",
       "      <td>-3.44570</td>\n",
       "    </tr>\n",
       "    <tr>\n",
       "      <th>1</th>\n",
       "      <td>3.47690</td>\n",
       "      <td>-0.15314</td>\n",
       "      <td>2.530000</td>\n",
       "      <td>2.44950</td>\n",
       "    </tr>\n",
       "    <tr>\n",
       "      <th>2</th>\n",
       "      <td>3.91020</td>\n",
       "      <td>6.06500</td>\n",
       "      <td>-2.453400</td>\n",
       "      <td>-0.68234</td>\n",
       "    </tr>\n",
       "    <tr>\n",
       "      <th>3</th>\n",
       "      <td>0.60731</td>\n",
       "      <td>3.95440</td>\n",
       "      <td>-4.772000</td>\n",
       "      <td>-4.48530</td>\n",
       "    </tr>\n",
       "    <tr>\n",
       "      <th>4</th>\n",
       "      <td>2.37180</td>\n",
       "      <td>7.49080</td>\n",
       "      <td>0.015989</td>\n",
       "      <td>-1.74140</td>\n",
       "    </tr>\n",
       "  </tbody>\n",
       "</table>\n",
       "</div>"
      ],
      "text/plain": [
       "   variance  skewness  curtosis  entropy\n",
       "0  -0.89569   3.00250 -3.606700 -3.44570\n",
       "1   3.47690  -0.15314  2.530000  2.44950\n",
       "2   3.91020   6.06500 -2.453400 -0.68234\n",
       "3   0.60731   3.95440 -4.772000 -4.48530\n",
       "4   2.37180   7.49080  0.015989 -1.74140"
      ]
     },
     "execution_count": 7,
     "metadata": {},
     "output_type": "execute_result"
    }
   ],
   "source": [
    "X.head()"
   ]
  },
  {
   "cell_type": "code",
   "execution_count": 8,
   "id": "7129d439",
   "metadata": {},
   "outputs": [],
   "source": [
    "X_train, X_test, y_train, y_test = train_test_split(X,y,test_size=.4,random_state=42)"
   ]
  },
  {
   "cell_type": "code",
   "execution_count": 9,
   "id": "b20eb8d7",
   "metadata": {},
   "outputs": [
    {
     "name": "stdout",
     "output_type": "stream",
     "text": [
      "Epoch 1/20\n",
      "26/26 - 1s - loss: 0.8801 - accuracy: 0.6865 - 1s/epoch - 40ms/step\n",
      "Epoch 2/20\n",
      "26/26 - 0s - loss: 0.6664 - accuracy: 0.7375 - 48ms/epoch - 2ms/step\n",
      "Epoch 3/20\n",
      "26/26 - 0s - loss: 0.5368 - accuracy: 0.7789 - 44ms/epoch - 2ms/step\n",
      "Epoch 4/20\n",
      "26/26 - 0s - loss: 0.4571 - accuracy: 0.7971 - 42ms/epoch - 2ms/step\n",
      "Epoch 5/20\n",
      "26/26 - 0s - loss: 0.4031 - accuracy: 0.8153 - 44ms/epoch - 2ms/step\n",
      "Epoch 6/20\n",
      "26/26 - 0s - loss: 0.3556 - accuracy: 0.8433 - 48ms/epoch - 2ms/step\n",
      "Epoch 7/20\n",
      "26/26 - 0s - loss: 0.3179 - accuracy: 0.8748 - 50ms/epoch - 2ms/step\n",
      "Epoch 8/20\n",
      "26/26 - 0s - loss: 0.2844 - accuracy: 0.9028 - 44ms/epoch - 2ms/step\n",
      "Epoch 9/20\n",
      "26/26 - 0s - loss: 0.2545 - accuracy: 0.9210 - 50ms/epoch - 2ms/step\n",
      "Epoch 10/20\n",
      "26/26 - 0s - loss: 0.2288 - accuracy: 0.9429 - 44ms/epoch - 2ms/step\n",
      "Epoch 11/20\n",
      "26/26 - 0s - loss: 0.2056 - accuracy: 0.9611 - 45ms/epoch - 2ms/step\n",
      "Epoch 12/20\n",
      "26/26 - 0s - loss: 0.1861 - accuracy: 0.9672 - 43ms/epoch - 2ms/step\n",
      "Epoch 13/20\n",
      "26/26 - 0s - loss: 0.1685 - accuracy: 0.9733 - 43ms/epoch - 2ms/step\n",
      "Epoch 14/20\n",
      "26/26 - 0s - loss: 0.1537 - accuracy: 0.9745 - 43ms/epoch - 2ms/step\n",
      "Epoch 15/20\n",
      "26/26 - 0s - loss: 0.1415 - accuracy: 0.9769 - 46ms/epoch - 2ms/step\n",
      "Epoch 16/20\n",
      "26/26 - 0s - loss: 0.1312 - accuracy: 0.9781 - 44ms/epoch - 2ms/step\n",
      "Epoch 17/20\n",
      "26/26 - 0s - loss: 0.1224 - accuracy: 0.9793 - 48ms/epoch - 2ms/step\n",
      "Epoch 18/20\n",
      "26/26 - 0s - loss: 0.1147 - accuracy: 0.9818 - 48ms/epoch - 2ms/step\n",
      "Epoch 19/20\n",
      "26/26 - 0s - loss: 0.1080 - accuracy: 0.9818 - 51ms/epoch - 2ms/step\n",
      "Epoch 20/20\n",
      "26/26 - 0s - loss: 0.1020 - accuracy: 0.9830 - 43ms/epoch - 2ms/step\n",
      "18/18 [==============================] - 0s 2ms/step - loss: 0.0983 - accuracy: 0.9854\n"
     ]
    },
    {
     "data": {
      "text/plain": [
       "0.9854280352592468"
      ]
     },
     "execution_count": 9,
     "metadata": {},
     "output_type": "execute_result"
    }
   ],
   "source": [
    "# create a model\n",
    "model = Sequential()\n",
    "\n",
    "# add nodes\n",
    "model.add(Dense(8,input_dim=4,activation='relu'))\n",
    "model.add(Dense(1, activation='sigmoid'))\n",
    "\n",
    "# compile the model\n",
    "model.compile(loss='binary_crossentropy',optimizer='adam',metrics=['accuracy'])\n",
    "\n",
    "# fit the model\n",
    "model.fit(X_train, y_train, epochs=20, verbose=2)\n",
    "# verbose prints out the epoch outputs\n",
    "\n",
    "# model accuracy\n",
    "_,accuracy = model.evaluate(X_test,y_test)\n",
    "accuracy"
   ]
  },
  {
   "cell_type": "code",
   "execution_count": 10,
   "id": "50cebecd",
   "metadata": {},
   "outputs": [
    {
     "name": "stdout",
     "output_type": "stream",
     "text": [
      "Epoch 1/20\n",
      "26/26 - 1s - loss: 0.7039 - accuracy: 0.5577 - 1s/epoch - 45ms/step\n",
      "Epoch 2/20\n",
      "26/26 - 0s - loss: 0.6781 - accuracy: 0.6027 - 50ms/epoch - 2ms/step\n",
      "Epoch 3/20\n",
      "26/26 - 0s - loss: 0.6533 - accuracy: 0.6488 - 55ms/epoch - 2ms/step\n",
      "Epoch 4/20\n",
      "26/26 - 0s - loss: 0.6297 - accuracy: 0.6537 - 55ms/epoch - 2ms/step\n",
      "Epoch 5/20\n",
      "26/26 - 0s - loss: 0.6073 - accuracy: 0.6719 - 51ms/epoch - 2ms/step\n",
      "Epoch 6/20\n",
      "26/26 - 0s - loss: 0.5848 - accuracy: 0.6841 - 53ms/epoch - 2ms/step\n",
      "Epoch 7/20\n",
      "26/26 - 0s - loss: 0.5619 - accuracy: 0.6938 - 53ms/epoch - 2ms/step\n",
      "Epoch 8/20\n",
      "26/26 - 0s - loss: 0.5382 - accuracy: 0.7096 - 50ms/epoch - 2ms/step\n",
      "Epoch 9/20\n",
      "26/26 - 0s - loss: 0.5136 - accuracy: 0.7424 - 53ms/epoch - 2ms/step\n",
      "Epoch 10/20\n",
      "26/26 - 0s - loss: 0.4885 - accuracy: 0.7643 - 45ms/epoch - 2ms/step\n",
      "Epoch 11/20\n",
      "26/26 - 0s - loss: 0.4631 - accuracy: 0.8226 - 51ms/epoch - 2ms/step\n",
      "Epoch 12/20\n",
      "26/26 - 0s - loss: 0.4375 - accuracy: 0.9101 - 43ms/epoch - 2ms/step\n",
      "Epoch 13/20\n",
      "26/26 - 0s - loss: 0.4121 - accuracy: 0.9526 - 44ms/epoch - 2ms/step\n",
      "Epoch 14/20\n",
      "26/26 - 0s - loss: 0.3873 - accuracy: 0.9672 - 47ms/epoch - 2ms/step\n",
      "Epoch 15/20\n",
      "26/26 - 0s - loss: 0.3629 - accuracy: 0.9830 - 47ms/epoch - 2ms/step\n",
      "Epoch 16/20\n",
      "26/26 - 0s - loss: 0.3393 - accuracy: 0.9842 - 49ms/epoch - 2ms/step\n",
      "Epoch 17/20\n",
      "26/26 - 0s - loss: 0.3167 - accuracy: 0.9891 - 45ms/epoch - 2ms/step\n",
      "Epoch 18/20\n",
      "26/26 - 0s - loss: 0.2955 - accuracy: 0.9927 - 46ms/epoch - 2ms/step\n",
      "Epoch 19/20\n",
      "26/26 - 0s - loss: 0.2748 - accuracy: 0.9939 - 47ms/epoch - 2ms/step\n",
      "Epoch 20/20\n",
      "26/26 - 0s - loss: 0.2556 - accuracy: 0.9951 - 48ms/epoch - 2ms/step\n",
      "18/18 [==============================] - 0s 2ms/step - loss: 0.2448 - accuracy: 0.9909\n"
     ]
    },
    {
     "data": {
      "text/plain": [
       "0.9908925294876099"
      ]
     },
     "execution_count": 10,
     "metadata": {},
     "output_type": "execute_result"
    }
   ],
   "source": [
    "# add another hidden layer\n",
    "\n",
    "model =  Sequential()\n",
    "\n",
    "# add nodes\n",
    "model.add(Dense(8,input_dim=4,activation='relu'))\n",
    "model.add(Dense(4, activation='sigmoid'))\n",
    "model.add(Dense(1, activation='sigmoid'))\n",
    "\n",
    "# compile the model\n",
    "model.compile(loss='binary_crossentropy',optimizer='adam',metrics=['accuracy'])\n",
    "\n",
    "# fit the model\n",
    "model.fit(X_train, y_train, epochs=20, verbose=2)\n",
    "# verbose prints out the epoch outputs\n",
    "\n",
    "# model accuracy\n",
    "_,accuracy = model.evaluate(X_test,y_test)\n",
    "accuracy"
   ]
  }
 ],
 "metadata": {
  "kernelspec": {
   "display_name": "Python 3 (ipykernel)",
   "language": "python",
   "name": "python3"
  },
  "language_info": {
   "codemirror_mode": {
    "name": "ipython",
    "version": 3
   },
   "file_extension": ".py",
   "mimetype": "text/x-python",
   "name": "python",
   "nbconvert_exporter": "python",
   "pygments_lexer": "ipython3",
   "version": "3.9.13"
  }
 },
 "nbformat": 4,
 "nbformat_minor": 5
}
