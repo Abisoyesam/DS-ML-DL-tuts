{
 "cells": [
  {
   "cell_type": "markdown",
   "metadata": {},
   "source": [
    "## Conversion of temperature from degree Celsius to Fahrenheit"
   ]
  },
  {
   "cell_type": "code",
   "execution_count": 1,
   "metadata": {},
   "outputs": [
    {
     "name": "stdout",
     "output_type": "stream",
     "text": [
      "Enter the value of temperature in degree Celsius 50\n",
      "50 degree celsius to fahrenheit is 59.77777777777778\n"
     ]
    }
   ],
   "source": [
    "# Conversion of Celsius to fahrenheit\n",
    "dialogue = \"Enter the value of temperature in degree Celsius \"\n",
    "cel = int(input(dialogue))\n",
    "fah = (5/9)*cel + 32\n",
    "output = '{} degree celsius to fahrenheit is {}'.format(cel, fah)\n",
    "print(output)"
   ]
  },
  {
   "cell_type": "code",
   "execution_count": 2,
   "metadata": {},
   "outputs": [
    {
     "name": "stdout",
     "output_type": "stream",
     "text": [
      "Enter the value of temperature in degree Celsius 550\n",
      "550 degree celsius to fahrenheit is 337.55555555555554\n"
     ]
    }
   ],
   "source": [
    "# Conversion of Celsius to fahrenheit\n",
    "dialogue = \"Enter the value of temperature in degree Celsius \"\n",
    "cel = int(input(dialogue))\n",
    "fah = (5/9)*cel + 32\n",
    "output = '{} degree celsius to fahrenheit is {}'.format(cel, fah)\n",
    "print(output)"
   ]
  },
  {
   "cell_type": "code",
   "execution_count": 3,
   "metadata": {},
   "outputs": [
    {
     "name": "stdout",
     "output_type": "stream",
     "text": [
      "Enter the value of temperature in degree Celsius 100\n",
      "100 degree celsius to fahrenheit is 87.55555555555556\n"
     ]
    }
   ],
   "source": [
    "# Conversion of Celsius to fahrenheit\n",
    "dialogue = \"Enter the value of temperature in degree Celsius \"\n",
    "cel = int(input(dialogue))\n",
    "fah = (5/9)*cel + 32\n",
    "output = '{} degree celsius to fahrenheit is {}'.format(cel, fah)\n",
    "print(output)"
   ]
  },
  {
   "cell_type": "code",
   "execution_count": 4,
   "metadata": {},
   "outputs": [
    {
     "name": "stdout",
     "output_type": "stream",
     "text": [
      "Enter the value of temperature in degree Celsius 0\n",
      "0 degree celsius to fahrenheit is 32.0\n"
     ]
    }
   ],
   "source": [
    "# Conversion of Celsius to fahrenheit\n",
    "dialogue = \"Enter the value of temperature in degree Celsius \"\n",
    "cel = int(input(dialogue))\n",
    "fah = (5/9)*cel + 32\n",
    "output = '{} degree celsius to fahrenheit is {}'.format(cel, fah)\n",
    "print(output)"
   ]
  },
  {
   "cell_type": "markdown",
   "metadata": {},
   "source": [
    "## Simple Interest"
   ]
  },
  {
   "cell_type": "code",
   "execution_count": 9,
   "metadata": {},
   "outputs": [
    {
     "name": "stdout",
     "output_type": "stream",
     "text": [
      "Enter the principal amount 500\n",
      "Enter the rate 20\n",
      "Enter time period 5\n",
      "Oops! you've entered invalid input\n"
     ]
    }
   ],
   "source": [
    "# Program to calculate simple interest\n",
    "P = input('Enter the principal amount ')\n",
    "R = input('Enter the rate ')\n",
    "T = input('Enter time period ')\n",
    "P = int(P)\n",
    "R = int(R)\n",
    "T = int(T)\n",
    "calc = (P*R*T)\n",
    "interest = calc/100\n",
    "output = ('The simple interest given #{} principal at the rate of {}% within {} year is {}'.format(P, R, T, interest))\n",
    "error = (\"Oops! you've entered invalid input\")\n",
    "if P and R and T == int:\n",
    "    print(output)\n",
    "else:\n",
    "    print(error)"
   ]
  },
  {
   "cell_type": "markdown",
   "metadata": {},
   "source": [
    "## Even or Odd number"
   ]
  },
  {
   "cell_type": "code",
   "execution_count": 1,
   "metadata": {
    "scrolled": true
   },
   "outputs": [
    {
     "name": "stdout",
     "output_type": "stream",
     "text": [
      "Enter any number 5\n",
      "5 is an Odd number\n"
     ]
    }
   ],
   "source": [
    "# Program to determine even or odd number\n",
    "test = int(input('Enter any number '))\n",
    "check = test % 2\n",
    "result = '{} is an Even number'.format(test)\n",
    "otherwise = '{} is an Odd number'.format(test)\n",
    "if check == 0:\n",
    "    print(result)\n",
    "else:\n",
    "    print(otherwise)"
   ]
  },
  {
   "cell_type": "markdown",
   "metadata": {},
   "source": [
    "## Prime and Composite number"
   ]
  },
  {
   "cell_type": "code",
   "execution_count": 6,
   "metadata": {},
   "outputs": [
    {
     "name": "stdout",
     "output_type": "stream",
     "text": [
      "Enter a natural number1\n",
      "1 is not a prime no\n"
     ]
    }
   ],
   "source": [
    "num = input('Enter a natural number')\n",
    "try:\n",
    "     num = int(num)\n",
    "     if num < 1:\n",
    "          print('Number should be greater or equals 1')\n",
    "          raise ValueError\n",
    "     elif num == 1:\n",
    "          print('1 is not a prime no')\n",
    "     else:\n",
    "          j = 2\n",
    "          while j <= num:\n",
    "               chk = num % j\n",
    "               if j == num:\n",
    "                    print(str(num) + ' is prime')\n",
    "                    break\n",
    "               if chk == 0:\n",
    "                    print(str(num) + ' is composite')\n",
    "                    break                        \n",
    "               j += 1\n",
    "except ValueError:\n",
    "     print ('Input an integer')    \n",
    "      "
   ]
  },
  {
   "cell_type": "code",
   "execution_count": null,
   "metadata": {},
   "outputs": [],
   "source": []
  }
 ],
 "metadata": {
  "kernelspec": {
   "display_name": "Python 3",
   "language": "python",
   "name": "python3"
  },
  "language_info": {
   "codemirror_mode": {
    "name": "ipython",
    "version": 3
   },
   "file_extension": ".py",
   "mimetype": "text/x-python",
   "name": "python",
   "nbconvert_exporter": "python",
   "pygments_lexer": "ipython3",
   "version": "3.7.2"
  }
 },
 "nbformat": 4,
 "nbformat_minor": 4
}
