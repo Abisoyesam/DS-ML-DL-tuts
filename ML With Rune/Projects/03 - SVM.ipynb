{
 "cells": [
  {
   "cell_type": "markdown",
   "id": "e725825a",
   "metadata": {},
   "source": [
    "# SVC\n",
    "- Classify dogs\n",
    "\n",
    "<hr>\n",
    "\n",
    "| Dobermann | German Shepherd | Rottweiler |\n",
    "|:---------:|:---------------:|:----------:|\n",
    "|![dobber](../images/dobermann.JPG)|![german](../images/german.JPG)|![rottweiler](../images/rottweiler.JPG)|"
   ]
  },
  {
   "cell_type": "code",
   "execution_count": null,
   "id": "03707577",
   "metadata": {},
   "outputs": [],
   "source": []
  }
 ],
 "metadata": {
  "kernelspec": {
   "display_name": "Python 3 (ipykernel)",
   "language": "python",
   "name": "python3"
  },
  "language_info": {
   "codemirror_mode": {
    "name": "ipython",
    "version": 3
   },
   "file_extension": ".py",
   "mimetype": "text/x-python",
   "name": "python",
   "nbconvert_exporter": "python",
   "pygments_lexer": "ipython3",
   "version": "3.9.13"
  }
 },
 "nbformat": 4,
 "nbformat_minor": 5
}
