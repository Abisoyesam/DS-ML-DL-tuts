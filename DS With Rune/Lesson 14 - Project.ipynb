{
 "cells": [
  {
   "cell_type": "markdown",
   "id": "a3e780c4",
   "metadata": {},
   "source": [
    "# Project: Parameter with Highest Impact on House Prices\n",
    "\n",
    "<hr>\n",
    "\n",
    "- A real estate dealer wants to figure out what matters most when selling a house\n",
    "- Figure out which 10 parameters (features) matter the most and present the findings"
   ]
  },
  {
   "cell_type": "code",
   "execution_count": 1,
   "id": "8a89069e",
   "metadata": {},
   "outputs": [],
   "source": [
    "import pandas as pd\n",
    "from sklearn.linear_model import LinearRegression\n",
    "from sklearn.model_selection import train_test_split\n",
    "from sklearn.metrics import r2_score\n",
    "from sklearn.feature_selection import VarianceThreshold\n",
    "from mlxtend.feature_selection import SequentialFeatureSelector as SFS"
   ]
  },
  {
   "cell_type": "code",
   "execution_count": 2,
   "id": "89c50abd",
   "metadata": {},
   "outputs": [
    {
     "data": {
      "text/html": [
       "<div>\n",
       "<style scoped>\n",
       "    .dataframe tbody tr th:only-of-type {\n",
       "        vertical-align: middle;\n",
       "    }\n",
       "\n",
       "    .dataframe tbody tr th {\n",
       "        vertical-align: top;\n",
       "    }\n",
       "\n",
       "    .dataframe thead th {\n",
       "        text-align: right;\n",
       "    }\n",
       "</style>\n",
       "<table border=\"1\" class=\"dataframe\">\n",
       "  <thead>\n",
       "    <tr style=\"text-align: right;\">\n",
       "      <th></th>\n",
       "      <th>MSSubClass</th>\n",
       "      <th>LotFrontage</th>\n",
       "      <th>LotArea</th>\n",
       "      <th>Street</th>\n",
       "      <th>LotShape</th>\n",
       "      <th>LandContour</th>\n",
       "      <th>Utilities</th>\n",
       "      <th>LandSlope</th>\n",
       "      <th>OverallQual</th>\n",
       "      <th>OverallCond</th>\n",
       "      <th>...</th>\n",
       "      <th>OpenPorchSF</th>\n",
       "      <th>EnclosedPorch</th>\n",
       "      <th>3SsnPorch</th>\n",
       "      <th>ScreenPorch</th>\n",
       "      <th>PoolArea</th>\n",
       "      <th>PoolQC</th>\n",
       "      <th>MiscVal</th>\n",
       "      <th>MoSold</th>\n",
       "      <th>YrSold</th>\n",
       "      <th>SalePrice</th>\n",
       "    </tr>\n",
       "    <tr>\n",
       "      <th>Id</th>\n",
       "      <th></th>\n",
       "      <th></th>\n",
       "      <th></th>\n",
       "      <th></th>\n",
       "      <th></th>\n",
       "      <th></th>\n",
       "      <th></th>\n",
       "      <th></th>\n",
       "      <th></th>\n",
       "      <th></th>\n",
       "      <th></th>\n",
       "      <th></th>\n",
       "      <th></th>\n",
       "      <th></th>\n",
       "      <th></th>\n",
       "      <th></th>\n",
       "      <th></th>\n",
       "      <th></th>\n",
       "      <th></th>\n",
       "      <th></th>\n",
       "      <th></th>\n",
       "    </tr>\n",
       "  </thead>\n",
       "  <tbody>\n",
       "    <tr>\n",
       "      <th>1</th>\n",
       "      <td>60</td>\n",
       "      <td>65.0</td>\n",
       "      <td>8450</td>\n",
       "      <td>1</td>\n",
       "      <td>3</td>\n",
       "      <td>3</td>\n",
       "      <td>3</td>\n",
       "      <td>2</td>\n",
       "      <td>7</td>\n",
       "      <td>5</td>\n",
       "      <td>...</td>\n",
       "      <td>61</td>\n",
       "      <td>0</td>\n",
       "      <td>0</td>\n",
       "      <td>0</td>\n",
       "      <td>0</td>\n",
       "      <td>NaN</td>\n",
       "      <td>0</td>\n",
       "      <td>2</td>\n",
       "      <td>2008</td>\n",
       "      <td>208500</td>\n",
       "    </tr>\n",
       "    <tr>\n",
       "      <th>2</th>\n",
       "      <td>20</td>\n",
       "      <td>80.0</td>\n",
       "      <td>9600</td>\n",
       "      <td>1</td>\n",
       "      <td>3</td>\n",
       "      <td>3</td>\n",
       "      <td>3</td>\n",
       "      <td>2</td>\n",
       "      <td>6</td>\n",
       "      <td>8</td>\n",
       "      <td>...</td>\n",
       "      <td>0</td>\n",
       "      <td>0</td>\n",
       "      <td>0</td>\n",
       "      <td>0</td>\n",
       "      <td>0</td>\n",
       "      <td>NaN</td>\n",
       "      <td>0</td>\n",
       "      <td>5</td>\n",
       "      <td>2007</td>\n",
       "      <td>181500</td>\n",
       "    </tr>\n",
       "    <tr>\n",
       "      <th>3</th>\n",
       "      <td>60</td>\n",
       "      <td>68.0</td>\n",
       "      <td>11250</td>\n",
       "      <td>1</td>\n",
       "      <td>2</td>\n",
       "      <td>3</td>\n",
       "      <td>3</td>\n",
       "      <td>2</td>\n",
       "      <td>7</td>\n",
       "      <td>5</td>\n",
       "      <td>...</td>\n",
       "      <td>42</td>\n",
       "      <td>0</td>\n",
       "      <td>0</td>\n",
       "      <td>0</td>\n",
       "      <td>0</td>\n",
       "      <td>NaN</td>\n",
       "      <td>0</td>\n",
       "      <td>9</td>\n",
       "      <td>2008</td>\n",
       "      <td>223500</td>\n",
       "    </tr>\n",
       "    <tr>\n",
       "      <th>4</th>\n",
       "      <td>70</td>\n",
       "      <td>60.0</td>\n",
       "      <td>9550</td>\n",
       "      <td>1</td>\n",
       "      <td>2</td>\n",
       "      <td>3</td>\n",
       "      <td>3</td>\n",
       "      <td>2</td>\n",
       "      <td>7</td>\n",
       "      <td>5</td>\n",
       "      <td>...</td>\n",
       "      <td>35</td>\n",
       "      <td>272</td>\n",
       "      <td>0</td>\n",
       "      <td>0</td>\n",
       "      <td>0</td>\n",
       "      <td>NaN</td>\n",
       "      <td>0</td>\n",
       "      <td>2</td>\n",
       "      <td>2006</td>\n",
       "      <td>140000</td>\n",
       "    </tr>\n",
       "    <tr>\n",
       "      <th>5</th>\n",
       "      <td>60</td>\n",
       "      <td>84.0</td>\n",
       "      <td>14260</td>\n",
       "      <td>1</td>\n",
       "      <td>2</td>\n",
       "      <td>3</td>\n",
       "      <td>3</td>\n",
       "      <td>2</td>\n",
       "      <td>8</td>\n",
       "      <td>5</td>\n",
       "      <td>...</td>\n",
       "      <td>84</td>\n",
       "      <td>0</td>\n",
       "      <td>0</td>\n",
       "      <td>0</td>\n",
       "      <td>0</td>\n",
       "      <td>NaN</td>\n",
       "      <td>0</td>\n",
       "      <td>12</td>\n",
       "      <td>2008</td>\n",
       "      <td>250000</td>\n",
       "    </tr>\n",
       "  </tbody>\n",
       "</table>\n",
       "<p>5 rows × 56 columns</p>\n",
       "</div>"
      ],
      "text/plain": [
       "    MSSubClass  LotFrontage  LotArea  Street  LotShape  LandContour  \\\n",
       "Id                                                                    \n",
       "1           60         65.0     8450       1         3            3   \n",
       "2           20         80.0     9600       1         3            3   \n",
       "3           60         68.0    11250       1         2            3   \n",
       "4           70         60.0     9550       1         2            3   \n",
       "5           60         84.0    14260       1         2            3   \n",
       "\n",
       "    Utilities  LandSlope  OverallQual  OverallCond  ...  OpenPorchSF  \\\n",
       "Id                                                  ...                \n",
       "1           3          2            7            5  ...           61   \n",
       "2           3          2            6            8  ...            0   \n",
       "3           3          2            7            5  ...           42   \n",
       "4           3          2            7            5  ...           35   \n",
       "5           3          2            8            5  ...           84   \n",
       "\n",
       "    EnclosedPorch  3SsnPorch  ScreenPorch  PoolArea  PoolQC  MiscVal  MoSold  \\\n",
       "Id                                                                             \n",
       "1               0          0            0         0     NaN        0       2   \n",
       "2               0          0            0         0     NaN        0       5   \n",
       "3               0          0            0         0     NaN        0       9   \n",
       "4             272          0            0         0     NaN        0       2   \n",
       "5               0          0            0         0     NaN        0      12   \n",
       "\n",
       "    YrSold  SalePrice  \n",
       "Id                     \n",
       "1     2008     208500  \n",
       "2     2007     181500  \n",
       "3     2008     223500  \n",
       "4     2006     140000  \n",
       "5     2008     250000  \n",
       "\n",
       "[5 rows x 56 columns]"
      ]
     },
     "execution_count": 2,
     "metadata": {},
     "output_type": "execute_result"
    }
   ],
   "source": [
    "# import the data\n",
    "data = pd.read_parquet('./data/house_sales.parquet')\n",
    "data.head()"
   ]
  },
  {
   "cell_type": "code",
   "execution_count": 3,
   "id": "a9b7a12c",
   "metadata": {},
   "outputs": [
    {
     "data": {
      "text/plain": [
       "(1460, 56)"
      ]
     },
     "execution_count": 3,
     "metadata": {},
     "output_type": "execute_result"
    }
   ],
   "source": [
    "data.shape"
   ]
  },
  {
   "cell_type": "code",
   "execution_count": 4,
   "id": "51598116",
   "metadata": {},
   "outputs": [
    {
     "data": {
      "text/plain": [
       "MSSubClass         int64\n",
       "LotFrontage      float64\n",
       "LotArea            int64\n",
       "Street             int64\n",
       "LotShape           int64\n",
       "LandContour        int64\n",
       "Utilities          int64\n",
       "LandSlope          int64\n",
       "OverallQual        int64\n",
       "OverallCond        int64\n",
       "YearBuilt          int64\n",
       "YearRemodAdd       int64\n",
       "MasVnrArea       float64\n",
       "ExterQual          int64\n",
       "ExterCond          int64\n",
       "BsmtQual         float64\n",
       "BsmtCond         float64\n",
       "BsmtExposure     float64\n",
       "BsmtFinType1     float64\n",
       "BsmtFinSF1         int64\n",
       "BsmtFinType2     float64\n",
       "BsmtFinSF2         int64\n",
       "BsmtUnfSF          int64\n",
       "TotalBsmtSF        int64\n",
       "HeatingQC          int64\n",
       "CentralAir         int64\n",
       "1stFlrSF           int64\n",
       "2ndFlrSF           int64\n",
       "LowQualFinSF       int64\n",
       "GrLivArea          int64\n",
       "BsmtFullBath       int64\n",
       "BsmtHalfBath       int64\n",
       "FullBath           int64\n",
       "HalfBath           int64\n",
       "BedroomAbvGr       int64\n",
       "KitchenAbvGr       int64\n",
       "KitchenQual        int64\n",
       "TotRmsAbvGrd       int64\n",
       "Fireplaces         int64\n",
       "FireplaceQu      float64\n",
       "GarageYrBlt      float64\n",
       "GarageCars         int64\n",
       "GarageArea         int64\n",
       "GarageQual       float64\n",
       "GarageCond       float64\n",
       "WoodDeckSF         int64\n",
       "OpenPorchSF        int64\n",
       "EnclosedPorch      int64\n",
       "3SsnPorch          int64\n",
       "ScreenPorch        int64\n",
       "PoolArea           int64\n",
       "PoolQC           float64\n",
       "MiscVal            int64\n",
       "MoSold             int64\n",
       "YrSold             int64\n",
       "SalePrice          int64\n",
       "dtype: object"
      ]
     },
     "execution_count": 4,
     "metadata": {},
     "output_type": "execute_result"
    }
   ],
   "source": [
    "data.dtypes"
   ]
  },
  {
   "cell_type": "code",
   "execution_count": 5,
   "id": "4bc903b8",
   "metadata": {},
   "outputs": [
    {
     "name": "stdout",
     "output_type": "stream",
     "text": [
      "<class 'pandas.core.frame.DataFrame'>\n",
      "Index: 1460 entries, 1 to 1460\n",
      "Data columns (total 56 columns):\n",
      " #   Column         Non-Null Count  Dtype  \n",
      "---  ------         --------------  -----  \n",
      " 0   MSSubClass     1460 non-null   int64  \n",
      " 1   LotFrontage    1201 non-null   float64\n",
      " 2   LotArea        1460 non-null   int64  \n",
      " 3   Street         1460 non-null   int64  \n",
      " 4   LotShape       1460 non-null   int64  \n",
      " 5   LandContour    1460 non-null   int64  \n",
      " 6   Utilities      1460 non-null   int64  \n",
      " 7   LandSlope      1460 non-null   int64  \n",
      " 8   OverallQual    1460 non-null   int64  \n",
      " 9   OverallCond    1460 non-null   int64  \n",
      " 10  YearBuilt      1460 non-null   int64  \n",
      " 11  YearRemodAdd   1460 non-null   int64  \n",
      " 12  MasVnrArea     1452 non-null   float64\n",
      " 13  ExterQual      1460 non-null   int64  \n",
      " 14  ExterCond      1460 non-null   int64  \n",
      " 15  BsmtQual       1423 non-null   float64\n",
      " 16  BsmtCond       1423 non-null   float64\n",
      " 17  BsmtExposure   1422 non-null   float64\n",
      " 18  BsmtFinType1   1423 non-null   float64\n",
      " 19  BsmtFinSF1     1460 non-null   int64  \n",
      " 20  BsmtFinType2   1422 non-null   float64\n",
      " 21  BsmtFinSF2     1460 non-null   int64  \n",
      " 22  BsmtUnfSF      1460 non-null   int64  \n",
      " 23  TotalBsmtSF    1460 non-null   int64  \n",
      " 24  HeatingQC      1460 non-null   int64  \n",
      " 25  CentralAir     1460 non-null   int64  \n",
      " 26  1stFlrSF       1460 non-null   int64  \n",
      " 27  2ndFlrSF       1460 non-null   int64  \n",
      " 28  LowQualFinSF   1460 non-null   int64  \n",
      " 29  GrLivArea      1460 non-null   int64  \n",
      " 30  BsmtFullBath   1460 non-null   int64  \n",
      " 31  BsmtHalfBath   1460 non-null   int64  \n",
      " 32  FullBath       1460 non-null   int64  \n",
      " 33  HalfBath       1460 non-null   int64  \n",
      " 34  BedroomAbvGr   1460 non-null   int64  \n",
      " 35  KitchenAbvGr   1460 non-null   int64  \n",
      " 36  KitchenQual    1460 non-null   int64  \n",
      " 37  TotRmsAbvGrd   1460 non-null   int64  \n",
      " 38  Fireplaces     1460 non-null   int64  \n",
      " 39  FireplaceQu    770 non-null    float64\n",
      " 40  GarageYrBlt    1379 non-null   float64\n",
      " 41  GarageCars     1460 non-null   int64  \n",
      " 42  GarageArea     1460 non-null   int64  \n",
      " 43  GarageQual     1379 non-null   float64\n",
      " 44  GarageCond     1379 non-null   float64\n",
      " 45  WoodDeckSF     1460 non-null   int64  \n",
      " 46  OpenPorchSF    1460 non-null   int64  \n",
      " 47  EnclosedPorch  1460 non-null   int64  \n",
      " 48  3SsnPorch      1460 non-null   int64  \n",
      " 49  ScreenPorch    1460 non-null   int64  \n",
      " 50  PoolArea       1460 non-null   int64  \n",
      " 51  PoolQC         7 non-null      float64\n",
      " 52  MiscVal        1460 non-null   int64  \n",
      " 53  MoSold         1460 non-null   int64  \n",
      " 54  YrSold         1460 non-null   int64  \n",
      " 55  SalePrice      1460 non-null   int64  \n",
      "dtypes: float64(12), int64(44)\n",
      "memory usage: 650.2 KB\n"
     ]
    }
   ],
   "source": [
    "data.info()"
   ]
  },
  {
   "cell_type": "code",
   "execution_count": 6,
   "id": "dbd6294c",
   "metadata": {},
   "outputs": [],
   "source": [
    "data = data.drop('PoolQC',axis=1)\n",
    "data = data.fillna(-1)"
   ]
  },
  {
   "cell_type": "markdown",
   "id": "1decc2f6",
   "metadata": {},
   "source": [
    "**Quasi Constant Features**"
   ]
  },
  {
   "cell_type": "code",
   "execution_count": 7,
   "id": "0ccd99e3",
   "metadata": {},
   "outputs": [
    {
     "data": {
      "text/plain": [
       "VarianceThreshold(threshold=0.01)"
      ]
     },
     "execution_count": 7,
     "metadata": {},
     "output_type": "execute_result"
    }
   ],
   "source": [
    "sel = VarianceThreshold(threshold=0.01)\n",
    "sel.fit(data)"
   ]
  },
  {
   "cell_type": "code",
   "execution_count": 8,
   "id": "b3bbafea",
   "metadata": {},
   "outputs": [
    {
     "data": {
      "text/plain": [
       "53"
      ]
     },
     "execution_count": 8,
     "metadata": {},
     "output_type": "execute_result"
    }
   ],
   "source": [
    "len(sel.get_feature_names_out())"
   ]
  },
  {
   "cell_type": "code",
   "execution_count": 9,
   "id": "0a91cde0",
   "metadata": {},
   "outputs": [
    {
     "data": {
      "text/plain": [
       "['Street', 'Utilities']"
      ]
     },
     "execution_count": 9,
     "metadata": {},
     "output_type": "execute_result"
    }
   ],
   "source": [
    "quasi_features = [col for col in data.columns if col not in sel.get_feature_names_out()]\n",
    "quasi_features"
   ]
  },
  {
   "cell_type": "markdown",
   "id": "257b06db",
   "metadata": {},
   "source": [
    "**Correlated Features**\n",
    "\n",
    "```Python\n",
    "(corr_matrix[feature].iloc[:corr_matrix.columns.get_loc(feature)] > 0.8).any()\n",
    "```"
   ]
  },
  {
   "cell_type": "code",
   "execution_count": 10,
   "id": "c2a43afb",
   "metadata": {},
   "outputs": [],
   "source": [
    "corr_matrix = data.corr()"
   ]
  },
  {
   "cell_type": "code",
   "execution_count": 11,
   "id": "fe6ec2a0",
   "metadata": {},
   "outputs": [
    {
     "data": {
      "text/plain": [
       "['1stFlrSF',\n",
       " 'TotRmsAbvGrd',\n",
       " 'FireplaceQu',\n",
       " 'GarageArea',\n",
       " 'GarageQual',\n",
       " 'GarageCond']"
      ]
     },
     "execution_count": 11,
     "metadata": {},
     "output_type": "execute_result"
    }
   ],
   "source": [
    "corr_features = [feature for feature in corr_matrix.columns if (corr_matrix[feature].iloc[:corr_matrix.columns.get_loc(feature)] > 0.8).any()]\n",
    "corr_features"
   ]
  },
  {
   "cell_type": "markdown",
   "id": "9035de3a",
   "metadata": {},
   "source": [
    "**Prepare training and test set**"
   ]
  },
  {
   "cell_type": "code",
   "execution_count": 12,
   "id": "ab88b07d",
   "metadata": {},
   "outputs": [],
   "source": [
    "X = data.drop(['SalePrice']+quasi_features+corr_features,axis=1)\n",
    "y = data['SalePrice']"
   ]
  },
  {
   "cell_type": "code",
   "execution_count": 13,
   "id": "690579a4",
   "metadata": {},
   "outputs": [],
   "source": [
    "X_train, X_test, y_train, y_test = train_test_split(X,y,random_state=0)"
   ]
  },
  {
   "cell_type": "markdown",
   "id": "d0d9a99f",
   "metadata": {},
   "source": [
    "**Best Features for LinearRegression model**"
   ]
  },
  {
   "cell_type": "code",
   "execution_count": 14,
   "id": "36d2ac85",
   "metadata": {},
   "outputs": [
    {
     "name": "stderr",
     "output_type": "stream",
     "text": [
      "[Parallel(n_jobs=1)]: Using backend SequentialBackend with 1 concurrent workers.\n",
      "[Parallel(n_jobs=1)]: Done   1 out of   1 | elapsed:    0.0s remaining:    0.0s\n",
      "[Parallel(n_jobs=1)]: Done  46 out of  46 | elapsed:    0.6s finished\n",
      "\n",
      "[2023-08-23 08:28:24] Features: 1/10 -- score: 0.6126893627288714[Parallel(n_jobs=1)]: Using backend SequentialBackend with 1 concurrent workers.\n",
      "[Parallel(n_jobs=1)]: Done   1 out of   1 | elapsed:    0.0s remaining:    0.0s\n",
      "[Parallel(n_jobs=1)]: Done  45 out of  45 | elapsed:    0.5s finished\n",
      "\n",
      "[2023-08-23 08:28:24] Features: 2/10 -- score: 0.7190976519156257[Parallel(n_jobs=1)]: Using backend SequentialBackend with 1 concurrent workers.\n",
      "[Parallel(n_jobs=1)]: Done   1 out of   1 | elapsed:    0.0s remaining:    0.0s\n",
      "[Parallel(n_jobs=1)]: Done  44 out of  44 | elapsed:    0.5s finished\n",
      "\n",
      "[2023-08-23 08:28:25] Features: 3/10 -- score: 0.7711947823299818[Parallel(n_jobs=1)]: Using backend SequentialBackend with 1 concurrent workers.\n",
      "[Parallel(n_jobs=1)]: Done   1 out of   1 | elapsed:    0.0s remaining:    0.0s\n",
      "[Parallel(n_jobs=1)]: Done  43 out of  43 | elapsed:    0.5s finished\n",
      "\n",
      "[2023-08-23 08:28:26] Features: 4/10 -- score: 0.7940453445923785[Parallel(n_jobs=1)]: Using backend SequentialBackend with 1 concurrent workers.\n",
      "[Parallel(n_jobs=1)]: Done   1 out of   1 | elapsed:    0.0s remaining:    0.0s\n",
      "[Parallel(n_jobs=1)]: Done  42 out of  42 | elapsed:    0.5s finished\n",
      "\n",
      "[2023-08-23 08:28:26] Features: 5/10 -- score: 0.8078796820663857[Parallel(n_jobs=1)]: Using backend SequentialBackend with 1 concurrent workers.\n",
      "[Parallel(n_jobs=1)]: Done   1 out of   1 | elapsed:    0.0s remaining:    0.0s\n",
      "[Parallel(n_jobs=1)]: Done  41 out of  41 | elapsed:    0.5s finished\n",
      "\n",
      "[2023-08-23 08:28:27] Features: 6/10 -- score: 0.8171905228370517[Parallel(n_jobs=1)]: Using backend SequentialBackend with 1 concurrent workers.\n",
      "[Parallel(n_jobs=1)]: Done   1 out of   1 | elapsed:    0.0s remaining:    0.0s\n",
      "[Parallel(n_jobs=1)]: Done  40 out of  40 | elapsed:    0.5s finished\n",
      "\n",
      "[2023-08-23 08:28:27] Features: 7/10 -- score: 0.8248996546748846[Parallel(n_jobs=1)]: Using backend SequentialBackend with 1 concurrent workers.\n",
      "[Parallel(n_jobs=1)]: Done   1 out of   1 | elapsed:    0.0s remaining:    0.0s\n",
      "[Parallel(n_jobs=1)]: Done  39 out of  39 | elapsed:    0.5s finished\n",
      "\n",
      "[2023-08-23 08:28:28] Features: 8/10 -- score: 0.8290551509684342[Parallel(n_jobs=1)]: Using backend SequentialBackend with 1 concurrent workers.\n",
      "[Parallel(n_jobs=1)]: Done   1 out of   1 | elapsed:    0.0s remaining:    0.0s\n",
      "[Parallel(n_jobs=1)]: Done  38 out of  38 | elapsed:    0.5s finished\n",
      "\n",
      "[2023-08-23 08:28:29] Features: 9/10 -- score: 0.8335999430273076[Parallel(n_jobs=1)]: Using backend SequentialBackend with 1 concurrent workers.\n",
      "[Parallel(n_jobs=1)]: Done   1 out of   1 | elapsed:    0.0s remaining:    0.0s\n",
      "[Parallel(n_jobs=1)]: Done  37 out of  37 | elapsed:    0.5s finished\n",
      "\n",
      "[2023-08-23 08:28:29] Features: 10/10 -- score: 0.8368859078710509"
     ]
    },
    {
     "data": {
      "text/plain": [
       "SequentialFeatureSelector(estimator=LinearRegression(), k_features=(10, 10),\n",
       "                          scoring='r2', verbose=2)"
      ]
     },
     "execution_count": 14,
     "metadata": {},
     "output_type": "execute_result"
    }
   ],
   "source": [
    "sfs = SFS(LinearRegression(),k_features=10,verbose=2)\n",
    "sfs.fit(X_train, y_train)"
   ]
  },
  {
   "cell_type": "markdown",
   "id": "64db23ba",
   "metadata": {},
   "source": [
    "**Indexes of features that matters the most**"
   ]
  },
  {
   "cell_type": "code",
   "execution_count": 15,
   "id": "b29c7ca8",
   "metadata": {},
   "outputs": [
    {
     "data": {
      "text/plain": [
       "(0, 2, 6, 10, 11, 15, 17, 26, 33, 36)"
      ]
     },
     "execution_count": 15,
     "metadata": {},
     "output_type": "execute_result"
    }
   ],
   "source": [
    "sfs.k_feature_idx_"
   ]
  },
  {
   "cell_type": "code",
   "execution_count": 19,
   "id": "2079312e",
   "metadata": {},
   "outputs": [
    {
     "data": {
      "text/plain": [
       "('MSSubClass',\n",
       " 'LotArea',\n",
       " 'OverallQual',\n",
       " 'MasVnrArea',\n",
       " 'ExterQual',\n",
       " 'BsmtExposure',\n",
       " 'BsmtFinSF1',\n",
       " 'GrLivArea',\n",
       " 'KitchenQual',\n",
       " 'GarageCars')"
      ]
     },
     "execution_count": 19,
     "metadata": {},
     "output_type": "execute_result"
    }
   ],
   "source": [
    "sfs.k_feature_names_"
   ]
  },
  {
   "cell_type": "markdown",
   "id": "4a2f7dfe",
   "metadata": {},
   "source": [
    "### Test the result"
   ]
  },
  {
   "cell_type": "code",
   "execution_count": 20,
   "id": "eed2c41f",
   "metadata": {},
   "outputs": [],
   "source": [
    "lin = LinearRegression()\n",
    "lin.fit(X_train,y_train)\n",
    "y_pred = lin.predict(X_test)"
   ]
  },
  {
   "cell_type": "code",
   "execution_count": 21,
   "id": "4fa8e187",
   "metadata": {},
   "outputs": [
    {
     "data": {
      "text/plain": [
       "0.7110172392141745"
      ]
     },
     "execution_count": 21,
     "metadata": {},
     "output_type": "execute_result"
    }
   ],
   "source": [
    "r2_score(y_test,y_pred)"
   ]
  },
  {
   "cell_type": "code",
   "execution_count": 23,
   "id": "ede462d6",
   "metadata": {},
   "outputs": [
    {
     "data": {
      "text/plain": [
       "Index(['MSSubClass', 'LotArea', 'OverallQual', 'MasVnrArea', 'ExterQual',\n",
       "       'BsmtExposure', 'BsmtFinSF1', 'GrLivArea', 'KitchenQual', 'GarageCars'],\n",
       "      dtype='object')"
      ]
     },
     "execution_count": 23,
     "metadata": {},
     "output_type": "execute_result"
    }
   ],
   "source": [
    "columns = X_train.columns[list(sfs.k_feature_idx_)]\n",
    "columns"
   ]
  },
  {
   "cell_type": "code",
   "execution_count": 24,
   "id": "de909ec4",
   "metadata": {},
   "outputs": [
    {
     "data": {
      "text/plain": [
       "0.7239540198372474"
      ]
     },
     "execution_count": 24,
     "metadata": {},
     "output_type": "execute_result"
    }
   ],
   "source": [
    "lin.fit(X_train[columns],y_train)\n",
    "y_pred = lin.predict(X_test[columns])\n",
    "r2_score(y_test,y_pred)"
   ]
  },
  {
   "cell_type": "markdown",
   "id": "52df0fb4",
   "metadata": {},
   "source": [
    "### Test with 10 Highest Correlated Features"
   ]
  },
  {
   "cell_type": "code",
   "execution_count": 34,
   "id": "e1eda5e4",
   "metadata": {},
   "outputs": [
    {
     "data": {
      "text/plain": [
       "Index(['OverallQual', 'GrLivArea', 'ExterQual', 'KitchenQual', 'GarageCars',\n",
       "       'GarageArea', 'TotalBsmtSF', '1stFlrSF', 'BsmtQual', 'FullBath'],\n",
       "      dtype='object')"
      ]
     },
     "execution_count": 34,
     "metadata": {},
     "output_type": "execute_result"
    }
   ],
   "source": [
    "columns = corr_matrix['SalePrice'].sort_values(ascending=False)[1:11].index\n",
    "columns"
   ]
  },
  {
   "cell_type": "code",
   "execution_count": 35,
   "id": "c1628c67",
   "metadata": {},
   "outputs": [
    {
     "data": {
      "text/plain": [
       "0.7028207002269178"
      ]
     },
     "execution_count": 35,
     "metadata": {},
     "output_type": "execute_result"
    }
   ],
   "source": [
    "X_train, X_test, y_train, y_test = train_test_split(data.drop('SalePrice', axis=1),y,random_state=0)\n",
    "\n",
    "lin = LinearRegression()\n",
    "lin.fit(X_train[columns],y_train)\n",
    "y_pred = lin.predict(X_test[columns])\n",
    "r2_score(y_test,y_pred)"
   ]
  },
  {
   "cell_type": "markdown",
   "id": "c6048659",
   "metadata": {},
   "source": [
    "#### Features that matters VS Features Correlated\n",
    "\n",
    "* The r2_score of `features that matters` is greater than `Features co"
   ]
  }
 ],
 "metadata": {
  "kernelspec": {
   "display_name": "Python 3 (ipykernel)",
   "language": "python",
   "name": "python3"
  },
  "language_info": {
   "codemirror_mode": {
    "name": "ipython",
    "version": 3
   },
   "file_extension": ".py",
   "mimetype": "text/x-python",
   "name": "python",
   "nbconvert_exporter": "python",
   "pygments_lexer": "ipython3",
   "version": "3.9.13"
  }
 },
 "nbformat": 4,
 "nbformat_minor": 5
}
