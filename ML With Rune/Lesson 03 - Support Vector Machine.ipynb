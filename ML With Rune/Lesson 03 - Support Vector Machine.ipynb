{
 "cells": [
  {
   "cell_type": "markdown",
   "id": "e168d3e5",
   "metadata": {},
   "source": [
    "# Support Vector Machine (SVM)\n",
    "\n",
    "<hr>\n",
    "\n",
    "## Maximum Margin Separator\n",
    "\n",
    "- It tries to draw line that maximizes the distances between data points.\n",
    "\n",
    "![svm](./images/svm1.PNG)\n",
    "\n",
    "**Maximum Margin Separator**\n",
    "\n",
    "![svm](./images/svm2.PNG)"
   ]
  },
  {
   "cell_type": "code",
   "execution_count": null,
   "id": "5060b937",
   "metadata": {},
   "outputs": [],
   "source": [
    "import numpy as np\n",
    "import pandas as pd\n",
    "from sklearn.svm import SVC\n",
    "import matplotlib.pyplot as plt"
   ]
  }
 ],
 "metadata": {
  "kernelspec": {
   "display_name": "Python 3 (ipykernel)",
   "language": "python",
   "name": "python3"
  },
  "language_info": {
   "codemirror_mode": {
    "name": "ipython",
    "version": 3
   },
   "file_extension": ".py",
   "mimetype": "text/x-python",
   "name": "python",
   "nbconvert_exporter": "python",
   "pygments_lexer": "ipython3",
   "version": "3.9.13"
  }
 },
 "nbformat": 4,
 "nbformat_minor": 5
}
