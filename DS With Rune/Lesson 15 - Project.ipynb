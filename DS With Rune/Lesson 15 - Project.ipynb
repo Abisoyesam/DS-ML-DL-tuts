{
 "cells": [
  {
   "cell_type": "markdown",
   "id": "b9bd831d",
   "metadata": {},
   "source": [
    "# Predicting House Price Class\n",
    "\n",
    "<hr>\n",
    "\n",
    "## Goal of the Project\n",
    "- The real estate is not so interested in finding what matters most to find house price\n",
    "- But interested in which range a house is in\n",
    "- There are 3 classes: 33% cheapest, 33% mid-range, 33% expensive houses.\n",
    "- He needs to find which parameters matter most to determine that"
   ]
  },
  {
   "cell_type": "code",
   "execution_count": null,
   "id": "cd29bfa7",
   "metadata": {},
   "outputs": [],
   "source": []
  }
 ],
 "metadata": {
  "kernelspec": {
   "display_name": "Python 3 (ipykernel)",
   "language": "python",
   "name": "python3"
  },
  "language_info": {
   "codemirror_mode": {
    "name": "ipython",
    "version": 3
   },
   "file_extension": ".py",
   "mimetype": "text/x-python",
   "name": "python",
   "nbconvert_exporter": "python",
   "pygments_lexer": "ipython3",
   "version": "3.9.13"
  }
 },
 "nbformat": 4,
 "nbformat_minor": 5
}
