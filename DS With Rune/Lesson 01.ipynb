{
 "cells": [
  {
   "cell_type": "markdown",
   "id": "9a784ea7",
   "metadata": {},
   "source": [
    "# Data Science Workflow\n",
    "\n",
    "<hr>\n",
    "\n",
    "![workflow](./img/ds-workflow.PNG)"
   ]
  },
  {
   "cell_type": "markdown",
   "id": "87cf8808",
   "metadata": {},
   "source": [
    "## Data Science: Understanding the Problem\n",
    "- Get the right question:\n",
    "    - What is the **problem** we try to **solve**?\n",
    "    - This forms the **Data Science problem**\n",
    "    - **Examples**\n",
    "        - Sales figure and call center logs: evaluate a new product\n",
    "        - Sensor data from multiple sensors: detect equipment failure\n",
    "        - Customer data + marketing data: better targeted marketing\n",
    "- **Assess situation**\n",
    "    - Risks, Benefits, Contingencies, Regulations, Resources, Requirement\n",
    "- **Define goal**\n",
    "    - What is the **objective**?\n",
    "    - What is the **success criteria**?\n",
    "- **Conclusion**\n",
    "    - Defining the problem is key to successful Data Science projects"
   ]
  },
  {
   "cell_type": "markdown",
   "id": "d505d698",
   "metadata": {},
   "source": [
    "<hr>\n",
    "\n",
    "### Example: Weather forecast\n",
    "- Step 1\n",
    "    - **Problem**: Predict weather tomorrow\n",
    "    - **Data**: Time series on *Temperateture, Air pressure, Humidity, Rain, Wind speed, Wind direction, etc.*\n",
    "    - **Import**: Collect data from sources\n",
    "- Step 2\n",
    "    - **Explore**: Data quality\n",
    "    - **Visualize**: A great way to understand data\n",
    "    - **Cleaning**: Handle missing or faulty data\n",
    "- Step 3\n",
    "    - **Features**: Select features to use in model\n",
    "    - **Model**: Example in predicting *rain/no rain* \n",
    "    - **Analyze**: Apply the prediction model\n",
    "- Step 4\n",
    "    - **Present**: Weather forecast\n",
    "    - **Visualize**: Charts, maps, etc.\n",
    "    - **Credibility**: Inaccurate results, too high confidence, not presenting full findings\n",
    "- Step 5\n",
    "    - **Insights**: What to wear, impact on outside events, etc.\n",
    "    - **Impact**: Sales and weather forecast *(umbrella, ice cream, etc.)*\n",
    "    - **Main goal**: This is what makes Data Science valuable"
   ]
  },
  {
   "cell_type": "markdown",
   "id": "b4afb66b",
   "metadata": {},
   "source": [
    "<hr>\n",
    "\n",
    "![workflow](./img/ds-workflow-focus.PNG)"
   ]
  },
  {
   "cell_type": "markdown",
   "id": "c622dfa9",
   "metadata": {},
   "source": [
    "## Data Science Skills\n",
    "### Hard skills\n",
    "- Math and Statistics\n",
    "- Programming\n",
    "- Domain knowledge\n",
    "- Data visualization\n",
    "\n",
    "### Soft skills\n",
    "- Curiosity\n",
    "- Communication\n",
    "- Storytelling Skills\n",
    "- Structured Thinking"
   ]
  }
 ],
 "metadata": {
  "kernelspec": {
   "display_name": "Python 3 (ipykernel)",
   "language": "python",
   "name": "python3"
  },
  "language_info": {
   "codemirror_mode": {
    "name": "ipython",
    "version": 3
   },
   "file_extension": ".py",
   "mimetype": "text/x-python",
   "name": "python",
   "nbconvert_exporter": "python",
   "pygments_lexer": "ipython3",
   "version": "3.9.13"
  }
 },
 "nbformat": 4,
 "nbformat_minor": 5
}
