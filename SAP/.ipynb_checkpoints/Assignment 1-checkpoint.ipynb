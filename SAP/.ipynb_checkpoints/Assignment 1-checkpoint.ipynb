{
 "cells": [
  {
   "cell_type": "markdown",
   "metadata": {},
   "source": [
    "## Conversion of temperature from degree Celsius to Fahrenheit"
   ]
  },
  {
   "cell_type": "code",
   "execution_count": 1,
   "metadata": {},
   "outputs": [
    {
     "name": "stdout",
     "output_type": "stream",
     "text": [
      "Enter the value of temperature in degree Celsius 4\n",
      "4 degree celsius to fahrenheit is 34.22222222222222\n"
     ]
    }
   ],
   "source": [
    "# Conversion of Celsius to fahrenheit\n",
    "dialogue = \"Enter the value of temperature in degree Celsius \"\n",
    "cel = int(input(dialogue))\n",
    "fah = (5/9)*cel + 32\n",
    "output = '{} degree celsius to fahrenheit is {}'.format(cel, fah)\n",
    "print(output)"
   ]
  },
  {
   "cell_type": "code",
   "execution_count": 2,
   "metadata": {},
   "outputs": [
    {
     "name": "stdout",
     "output_type": "stream",
     "text": [
      "Enter the value of temperature in degree Celsius 550\n",
      "550 degree celsius to fahrenheit is 337.55555555555554\n"
     ]
    }
   ],
   "source": [
    "# Conversion of Celsius to fahrenheit\n",
    "dialogue = \"Enter the value of temperature in degree Celsius \"\n",
    "cel = int(input(dialogue))\n",
    "fah = (5/9)*cel + 32\n",
    "output = '{} degree celsius to fahrenheit is {}'.format(cel, fah)\n",
    "print(output)"
   ]
  },
  {
   "cell_type": "code",
   "execution_count": 3,
   "metadata": {},
   "outputs": [
    {
     "name": "stdout",
     "output_type": "stream",
     "text": [
      "Enter the value of temperature in degree Celsius 100\n",
      "100 degree celsius to fahrenheit is 87.55555555555556\n"
     ]
    }
   ],
   "source": [
    "# Conversion of Celsius to fahrenheit\n",
    "dialogue = \"Enter the value of temperature in degree Celsius \"\n",
    "cel = int(input(dialogue))\n",
    "fah = (5/9)*cel + 32\n",
    "output = '{} degree celsius to fahrenheit is {}'.format(cel, fah)\n",
    "print(output)"
   ]
  },
  {
   "cell_type": "code",
   "execution_count": 4,
   "metadata": {},
   "outputs": [
    {
     "name": "stdout",
     "output_type": "stream",
     "text": [
      "Enter the value of temperature in degree Celsius 0\n",
      "0 degree celsius to fahrenheit is 32.0\n"
     ]
    }
   ],
   "source": [
    "# Conversion of Celsius to fahrenheit\n",
    "dialogue = \"Enter the value of temperature in degree Celsius \"\n",
    "cel = int(input(dialogue))\n",
    "fah = (5/9)*cel + 32\n",
    "output = '{} degree celsius to fahrenheit is {}'.format(cel, fah)\n",
    "print(output)"
   ]
  },
  {
   "cell_type": "markdown",
   "metadata": {},
   "source": [
    "## Simple Interest"
   ]
  },
  {
   "cell_type": "code",
   "execution_count": 5,
   "metadata": {},
   "outputs": [
    {
     "name": "stdout",
     "output_type": "stream",
     "text": [
      "Enter the principal amount 1500\n",
      "Enter the rate 20\n",
      "Enter time period 3\n",
      "The simple interest given #1500 principal at the rate of 20% within 3 year is 900.0\n"
     ]
    }
   ],
   "source": [
    "# Program to calculate simple interest\n",
    "P = int(input('Enter the principal amount '))\n",
    "R = int(input('Enter the rate '))\n",
    "T = int(input('Enter time period '))\n",
    "interest = (P*R*T)/100\n",
    "output = ('The simple interest given #{} principal at the rate of {}% within {} year is {}'.format(P, R, T, interest))\n",
    "print(output)"
   ]
  },
  {
   "cell_type": "markdown",
   "metadata": {},
   "source": [
    "## Even or Odd number"
   ]
  },
  {
   "cell_type": "code",
   "execution_count": 6,
   "metadata": {},
   "outputs": [
    {
     "name": "stdout",
     "output_type": "stream",
     "text": [
      "Enter any number 2\n",
      "2 is an Even number\n"
     ]
    }
   ],
   "source": [
    "# Program to determine even or odd number\n",
    "test = int(input('Enter any number '))\n",
    "check = test % 2\n",
    "result = '{} is an Even number'.format(test)\n",
    "otherwise = '{} is an Odd number'.format(test)\n",
    "if check == 0:\n",
    "    print(result)\n",
    "else:\n",
    "    print(otherwise)"
   ]
  }
 ],
 "metadata": {
  "kernelspec": {
   "display_name": "Python 3",
   "language": "python",
   "name": "python3"
  },
  "language_info": {
   "codemirror_mode": {
    "name": "ipython",
    "version": 3
   },
   "file_extension": ".py",
   "mimetype": "text/x-python",
   "name": "python",
   "nbconvert_exporter": "python",
   "pygments_lexer": "ipython3",
   "version": "3.7.2"
  }
 },
 "nbformat": 4,
 "nbformat_minor": 4
}
