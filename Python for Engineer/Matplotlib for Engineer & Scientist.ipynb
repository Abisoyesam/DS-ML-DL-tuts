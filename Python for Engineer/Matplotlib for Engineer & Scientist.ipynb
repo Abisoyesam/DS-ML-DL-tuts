{
 "cells": [
  {
   "cell_type": "markdown",
   "id": "6e46b3f0",
   "metadata": {},
   "source": [
    "# Matplotlib for Engineers and Scientists"
   ]
  },
  {
   "cell_type": "code",
   "execution_count": 1,
   "id": "183cb02a",
   "metadata": {},
   "outputs": [],
   "source": [
    "import numpy as np\n",
    "import matplotlib.pyplot as plt"
   ]
  },
  {
   "cell_type": "code",
   "execution_count": 5,
   "id": "2c7e49cb",
   "metadata": {},
   "outputs": [
    {
     "name": "stdout",
     "output_type": "stream",
     "text": [
      "Collecting git+https://github.com/garrettj403/SciencePlots\n",
      "  Cloning https://github.com/garrettj403/SciencePlots to c:\\users\\ad\\appdata\\local\\temp\\pip-req-build-i1tbuu0m\n",
      "  Installing build dependencies: started\n",
      "  Installing build dependencies: finished with status 'error'\n"
     ]
    },
    {
     "name": "stderr",
     "output_type": "stream",
     "text": [
      "  Running command git clone -q https://github.com/garrettj403/SciencePlots 'C:\\Users\\AD\\AppData\\Local\\Temp\\pip-req-build-i1tbuu0m'\n",
      "  ERROR: Command errored out with exit status 1:\n",
      "   command: 'C:\\Users\\AD\\anaconda3\\python.exe' 'C:\\Users\\AD\\anaconda3\\lib\\site-packages\\pip' install --ignore-installed --no-user --prefix 'C:\\Users\\AD\\AppData\\Local\\Temp\\pip-build-env-iizgsvgz\\overlay' --no-warn-script-location --no-binary :none: --only-binary :none: -i https://pypi.org/simple -- setuptools matplotlib\n",
      "       cwd: None\n",
      "  Complete output (31 lines):\n",
      "  Traceback (most recent call last):\n",
      "    File \"C:\\Users\\AD\\anaconda3\\lib\\runpy.py\", line 194, in _run_module_as_main\n",
      "      return _run_code(code, main_globals, None,\n",
      "    File \"C:\\Users\\AD\\anaconda3\\lib\\runpy.py\", line 87, in _run_code\n",
      "      exec(code, run_globals)\n",
      "    File \"C:\\Users\\AD\\anaconda3\\lib\\site-packages\\pip\\__main__.py\", line 24, in <module>\n",
      "      sys.exit(_main())\n",
      "    File \"C:\\Users\\AD\\anaconda3\\lib\\site-packages\\pip\\_internal\\cli\\main.py\", line 71, in main\n",
      "      command = create_command(cmd_name, isolated=(\"--isolated\" in cmd_args))\n",
      "    File \"C:\\Users\\AD\\anaconda3\\lib\\site-packages\\pip\\_internal\\commands\\__init__.py\", line 96, in create_command\n",
      "      module = importlib.import_module(module_path)\n",
      "    File \"C:\\Users\\AD\\anaconda3\\lib\\importlib\\__init__.py\", line 127, in import_module\n",
      "      return _bootstrap._gcd_import(name[level:], package, level)\n",
      "    File \"<frozen importlib._bootstrap>\", line 1014, in _gcd_import\n",
      "    File \"<frozen importlib._bootstrap>\", line 991, in _find_and_load\n",
      "    File \"<frozen importlib._bootstrap>\", line 975, in _find_and_load_unlocked\n",
      "    File \"<frozen importlib._bootstrap>\", line 671, in _load_unlocked\n",
      "    File \"<frozen importlib._bootstrap_external>\", line 783, in exec_module\n",
      "    File \"<frozen importlib._bootstrap>\", line 219, in _call_with_frames_removed\n",
      "    File \"C:\\Users\\AD\\anaconda3\\lib\\site-packages\\pip\\_internal\\commands\\install.py\", line 15, in <module>\n",
      "      from pip._internal.cli.req_command import RequirementCommand, with_cleanup\n",
      "    File \"C:\\Users\\AD\\anaconda3\\lib\\site-packages\\pip\\_internal\\cli\\req_command.py\", line 21, in <module>\n",
      "      from pip._internal.req.constructors import (\n",
      "    File \"C:\\Users\\AD\\anaconda3\\lib\\site-packages\\pip\\_internal\\req\\__init__.py\", line 8, in <module>\n",
      "      from .req_install import InstallRequirement\n",
      "    File \"C:\\Users\\AD\\anaconda3\\lib\\site-packages\\pip\\_internal\\req\\req_install.py\", line 8, in <module>\n",
      "      import uuid\n",
      "    File \"C:\\Users\\AD\\anaconda3\\lib\\site-packages\\uuid.py\", line 138\n",
      "      if not 0 <= time_low < 1<<32L:\n",
      "                                  ^\n",
      "  SyntaxError: invalid syntax\n",
      "  ----------------------------------------\n",
      "WARNING: Discarding git+https://github.com/garrettj403/SciencePlots. Command errored out with exit status 1: 'C:\\Users\\AD\\anaconda3\\python.exe' 'C:\\Users\\AD\\anaconda3\\lib\\site-packages\\pip' install --ignore-installed --no-user --prefix 'C:\\Users\\AD\\AppData\\Local\\Temp\\pip-build-env-iizgsvgz\\overlay' --no-warn-script-location --no-binary :none: --only-binary :none: -i https://pypi.org/simple -- setuptools matplotlib Check the logs for full command output.\n",
      "ERROR: Command errored out with exit status 1: 'C:\\Users\\AD\\anaconda3\\python.exe' 'C:\\Users\\AD\\anaconda3\\lib\\site-packages\\pip' install --ignore-installed --no-user --prefix 'C:\\Users\\AD\\AppData\\Local\\Temp\\pip-build-env-iizgsvgz\\overlay' --no-warn-script-location --no-binary :none: --only-binary :none: -i https://pypi.org/simple -- setuptools matplotlib Check the logs for full command output.\n"
     ]
    }
   ],
   "source": [
    "!pip install git+https://github.com/garrettj403/SciencePlots"
   ]
  },
  {
   "cell_type": "code",
   "execution_count": 6,
   "id": "a8abbebb",
   "metadata": {},
   "outputs": [
    {
     "name": "stderr",
     "output_type": "stream",
     "text": [
      "Cloning into 'SciencePlots'...\n"
     ]
    }
   ],
   "source": [
    "!git clone https://github.com/garrettj403/SciencePlots.git"
   ]
  },
  {
   "cell_type": "code",
   "execution_count": 7,
   "id": "714a1dcf",
   "metadata": {},
   "outputs": [],
   "source": [
    "!cd SciencePlots"
   ]
  },
  {
   "cell_type": "code",
   "execution_count": null,
   "id": "b18a8a78",
   "metadata": {},
   "outputs": [],
   "source": [
    "!pip install -e .\n"
   ]
  }
 ],
 "metadata": {
  "kernelspec": {
   "display_name": "Python 3",
   "language": "python",
   "name": "python3"
  },
  "language_info": {
   "codemirror_mode": {
    "name": "ipython",
    "version": 3
   },
   "file_extension": ".py",
   "mimetype": "text/x-python",
   "name": "python",
   "nbconvert_exporter": "python",
   "pygments_lexer": "ipython3",
   "version": "3.8.8"
  }
 },
 "nbformat": 4,
 "nbformat_minor": 5
}
