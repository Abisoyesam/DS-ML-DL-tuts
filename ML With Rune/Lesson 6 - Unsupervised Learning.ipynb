{
 "cells": [
  {
   "cell_type": "markdown",
   "id": "74680c4e",
   "metadata": {},
   "source": [
    "# Unsupervised Learning\n",
    "<hr>\n",
    "\n",
    "- Supervised Learning Vs Unsupervised Learning\n",
    "- How to organise data without knowledge\n",
    "- $k$-mean clustering"
   ]
  },
  {
   "cell_type": "markdown",
   "id": "f0927a9f",
   "metadata": {},
   "source": [
    "## What is Unsupervised Learning\n",
    "- Given input data without any additional feedbacks\n",
    "- No"
   ]
  }
 ],
 "metadata": {
  "kernelspec": {
   "display_name": "Python 3 (ipykernel)",
   "language": "python",
   "name": "python3"
  },
  "language_info": {
   "codemirror_mode": {
    "name": "ipython",
    "version": 3
   },
   "file_extension": ".py",
   "mimetype": "text/x-python",
   "name": "python",
   "nbconvert_exporter": "python",
   "pygments_lexer": "ipython3",
   "version": "3.9.13"
  }
 },
 "nbformat": 4,
 "nbformat_minor": 5
}
