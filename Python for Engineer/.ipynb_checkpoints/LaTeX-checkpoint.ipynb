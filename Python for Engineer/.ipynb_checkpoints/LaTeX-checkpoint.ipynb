{
 "cells": [
  {
   "cell_type": "markdown",
   "id": "4ea3eefa",
   "metadata": {},
   "source": [
    "# LaTeX in Jupyter Notebook\n",
    "\n",
    "---"
   ]
  },
  {
   "cell_type": "markdown",
   "id": "484ec950",
   "metadata": {},
   "source": [
    "## General rule\n",
    "\n",
    "We can add math equations and symbols by using Latex:\n",
    "\n",
    "```\n",
    "    \\begin{equation}\n",
    "    \\end{equation}\n",
    "```\n",
    "\n",
    "**OR**\n",
    "\n",
    "Use dollar sign:\n",
    "\n",
    "* double dollar sign for new line and center align equation\n",
    "`$$.....$$`\n",
    "\n",
    "* single dollar sign for inline equation\n",
    "`$......$`"
   ]
  },
  {
   "cell_type": "markdown",
   "id": "f671422a",
   "metadata": {},
   "source": [
    "### Greek Letters\n",
    "\n",
    "Greek letters can be written using `\\greekname` of the greek word."
   ]
  },
  {
   "cell_type": "markdown",
   "id": "e09a5579",
   "metadata": {},
   "source": [
    "**Lower case greek**\n",
    "\n",
    "|Command | Output | Command | Output | Command | Output | Command | Output |\n",
    "|--------|--------|---------|--------|---------|--------|---------|--------|\n",
    "|\\alpha  |$\\alpha$ | \\eta | $\\eta$ |\\nu | $\\nu$ | \\sigma | $\\sigma$\n",
    "\\beta | $\\beta$ | \\gamma | $\\gamma$ |\\omega | $\\omega$ | \\tau | $\\tau$\n",
    "\\chi  | $\\chi$ | \\iota | $\\iota$ |\\phi | $\\phi$ | \\theta | $\\theta$\n",
    "\\delta| $\\delta$ | \\kappa | $\\kappa$ |\\pi | $\\pi$ | \\xi | $\\xi$\n",
    "\\digamma| $\\digamma$| \\lambda | $\\lambda$ |\\psi | $\\psi$ | \\upsilon | $\\upsilon$\n",
    "\\epsilon| $\\epsilon$| \\mu | $\\mu$ |\\rho | $\\rho$ | \\zeta | $\\zeta$"
   ]
  },
  {
   "cell_type": "markdown",
   "id": "5779088d",
   "metadata": {},
   "source": [
    "**Variant Greek letters**\n",
    "\n",
    "For some greek letters that have alternate or variant version, they are written by adding `var` to the name. As in `\\var+name`."
   ]
  },
  {
   "cell_type": "markdown",
   "id": "1e784202",
   "metadata": {},
   "source": [
    "| Command | Output | Command | Output |\n",
    "|---------|--------|---------|--------|\n",
    "|\\varepsilon| $\\varepsilon$|\\varkappa|$\\varkappa$\n",
    "|\\varpi| $\\varpi$ | \\varphi| $\\varphi$|\n",
    "|\\vartheta| $\\vartheta$ | \\varsigma| $\\varsigma$|"
   ]
  },
  {
   "cell_type": "markdown",
   "id": "e7eb2173",
   "metadata": {},
   "source": [
    "**Upper case Greek**\n",
    "\n",
    "Use `\\Greekname` starting the first letter with upper case. Exemption of Alpha, Beta, Mho and Nabla."
   ]
  },
  {
   "cell_type": "markdown",
   "id": "8994613e",
   "metadata": {},
   "source": [
    "| Command | Output | Command | Output | Command | Output |\n",
    "|---------|--------|---------|--------|---------|--------|\n",
    "|\\Delta | $\\Delta$|\\Phi|$\\Phi$ |\\Sigma|$\\Sigma$\n",
    "|\\Lambda | $\\Lambda$ | \\Omega | $\\Omega$|\\Psi|$\\Psi$\n",
    "|\\Theta| $\\Theta$ | \\Xi| $\\Xi$|\\Upsilon|$\\Upsilon$"
   ]
  },
  {
   "cell_type": "markdown",
   "id": "463de33d",
   "metadata": {},
   "source": [
    "### Accent Signs\n",
    "\n",
    "An accent signs has symbol above the it."
   ]
  },
  {
   "cell_type": "markdown",
   "id": "b1513293",
   "metadata": {},
   "source": [
    "| Command | Output | Command | Output | Command | Output |\n",
    "|---------|--------|---------|--------|---------|--------|\n",
    "|\\acute a | $\\acute a$|\\bar a|$\\bar a$ |\\dot a|$\\dot a$\n",
    "|\\vec a | $\\vec a$ | \\hat a | $\\hat a$|\\breve a|$\\breve a$\n",
    "|\\overline{abc}| $\\overline{abc}$ | \\grave a| $\\grave a$|\\ddot a|$\\ddot a$\n",
    "|\\widetilde{abc}| $\\widetilde{abc}$ | \\tilde a| $\\tilde a$|\\widehat{abc}|$\\widehat{abc}$\n",
    "\n",
    "**N.B:** Add `\\letter+math` to ignore extra dot over lower-case letter like $i$ and $j$ when putting accent over them. As in:\n",
    "\n",
    "`$\\hat i$` : $\\hat i$ \n",
    "\n",
    "`$\\hat \\imath$`: $\\hat \\imath$ "
   ]
  },
  {
   "cell_type": "markdown",
   "id": "074e9add",
   "metadata": {},
   "source": [
    "### Big Symbol\n",
    "\n",
    "Add `\\big+name` for big symbols."
   ]
  },
  {
   "cell_type": "markdown",
   "id": "542b83bc",
   "metadata": {},
   "source": [
    "|Command | Output | Command | Output | Command | Output |\n",
    "|--------|--------|---------|--------|---------|--------|\n",
    "|\\bigcap |$\\bigcap$|\\biguplus|$\\biguplus$|\\iiint|$\\iiint$|\n",
    "|\\bigwedge |$\\bigwedge$|\\sum|$\\sum$|\\prod|$\\prod$|\n",
    "|\\bigvee |$\\bigvee$|\\oint|$\\oint$|\\bigoplus|$\\bigoplus$|"
   ]
  },
  {
   "cell_type": "markdown",
   "id": "45c5e3ca",
   "metadata": {},
   "source": [
    "### Relation Symbols"
   ]
  },
  {
   "cell_type": "markdown",
   "id": "90429efc",
   "metadata": {},
   "source": [
    "|Command | Output | Command | Output | Command | Output | Command | Output |\n",
    "|--------|--------|---------|--------|---------|--------|---------|--------|\n",
    "|\\approx |$\\approx$|\\because|$\\because$|\\div|$\\div$|\\equiv|$\\equiv$|\n",
    "|\\geq |$\\geq$|\\geqq|$\\geqq$|\\leq|$\\leq$|\\leqq|$\\leqq$|\n",
    "|\\forall |$\\forall$|\\mp|$\\mp$|\\pm|$\\pm$|\\times|$\\times$|\n",
    "|\\ni |$\\ni$|\\notin|$\\notin$|\\subset|$\\subset$|\\not\\subset|$\\not\\subset$|\n",
    "|\\neq |$\\neq$|\\div|$\\div$|\\therefore|$\\therefore$|\\geqslant|$\\geqslant$|"
   ]
  },
  {
   "cell_type": "markdown",
   "id": "1c2d7832",
   "metadata": {},
   "source": [
    "---"
   ]
  },
  {
   "cell_type": "markdown",
   "id": "782aa03e",
   "metadata": {},
   "source": [
    "### Subscript and Superscript\n",
    "\n",
    "Use Underscore `_` for subscript and Caret `^` for superscript."
   ]
  },
  {
   "cell_type": "markdown",
   "id": "2c13a38e",
   "metadata": {},
   "source": [
    "$$y = a_1x_1^2 + a_2x_2^2 + a_3x_3^3 + ...$$"
   ]
  },
  {
   "cell_type": "markdown",
   "id": "223af642",
   "metadata": {},
   "source": [
    "___"
   ]
  },
  {
   "cell_type": "markdown",
   "id": "11482ac3",
   "metadata": {},
   "source": [
    "### Fraction, Binomial, and Stacked Number"
   ]
  },
  {
   "cell_type": "markdown",
   "id": "ec0194ad",
   "metadata": {},
   "source": [
    "**Fraction**\n",
    "\n",
    "A fraction can be created with `\\frac{num}{den}`. For example:\n",
    "\n",
    "$\\frac{a}{b}$\n",
    "\n",
    "Nested fraction:\n",
    "\n",
    "$\\frac{x + \\frac{1}{x}}{x^2}$\n",
    "\n",
    "Nested fraction with bracket:\n",
    "\n",
    "$(\\frac{x + \\frac{1}{x}}{x^2})$\n",
    "\n",
    "**N.B:** The bracket surrounding the equation above doesn't fit properly. Hence, it is resolve using `\\left` and `\\right`.\n",
    "\n",
    "As in `$\\left(\\frac{x + \\frac{1}{x}}{x^2}\\right)$`\n",
    "\n",
    "$\\left(\\frac{x + \\frac{1}{x}}{x^2}\\right)$\n",
    "\n",
    "**Fraction size**\n",
    "1. `\\frac`: normal display size, displaystyle.\n",
    "2. `\\dfrac`: large display size, displaystyle.\n",
    "3. `\\tfrac`: textstyle with small size.\n",
    "\n",
    "As in $\\frac{a}{b}$ vs $\\dfrac{a}{b}$ vs $\\tfrac{a}{b}$. **N.B**: In display style `\\displaystyle`, they are of the same size.\n",
    "\n",
    "\n",
    "---"
   ]
  },
  {
   "cell_type": "markdown",
   "id": "e2b27961",
   "metadata": {},
   "source": [
    "**Binomial**\n",
    "\n",
    "`\\binom{}{}` is commonly used for binomial coefficeint. The binomial coefficient is defined as follows:\n",
    "$$\\binom{n}{k} = \\frac{n!}{k!(n-k)!}$$\n",
    "\n",
    "For example:\n",
    "$$\\binom{n}{r} = \\frac{n!}{(n-r)!}$$\n",
    "\n",
    "---"
   ]
  },
  {
   "cell_type": "markdown",
   "id": "5e0f8ed6",
   "metadata": {},
   "source": [
    "**Stacked Number**\n",
    "\n",
    "It is created using `\\genfrac{#1}{#2}{#3}{#4}{#5}{#6}`, which represents the most general command for defining fractions with optional delimiters, line thickness, and specified style.\n",
    "\n",
    "* #1: left delimiter\n",
    "\n",
    "* #2: right delimiter\n",
    "\n",
    "* #3: fraction bar thickness (set to 0pt to make it disappear)\n",
    "\n",
    "* #4: Input 0,1,2 or 3 where:\n",
    "    * 0 denotes \\displaystyle\n",
    "    * 1 denotes \\textstyle\n",
    "    * 2 denotes \\scriptstyle\n",
    "    * 3 denotes \\scriptscriptstyle\n",
    "    \n",
    "* #5: numerator\n",
    "\n",
    "* #6: denominator"
   ]
  },
  {
   "cell_type": "markdown",
   "id": "ef5934b9",
   "metadata": {},
   "source": [
    "| Latex | Output|\n",
    "|-------|-------|\n",
    "`$\\genfrac{(}{)}{}{0}{a}{b}$` | $\\genfrac{(}{)}{}{0}{a}{b}$\n",
    "`$\\genfrac{(}{)}{0pt}{0}{a}{b}$` | $\\genfrac{(}{)}{0pt}{0}{a}{b}$\n",
    "`$\\genfrac{}{}{}{0}{a}{b}$` | $\\genfrac{}{}{}{0}{a}{b}$"
   ]
  },
  {
   "cell_type": "markdown",
   "id": "a0eda9bf",
   "metadata": {},
   "source": [
    "---"
   ]
  },
  {
   "cell_type": "markdown",
   "id": "1b2c5e1a",
   "metadata": {},
   "source": [
    "### Matrices and Arrays"
   ]
  },
  {
   "cell_type": "markdown",
   "id": "9690c38c",
   "metadata": {},
   "source": [
    "**Matrices with different delimiters**\n",
    "\n",
    "* matrix: unbracket matrix\n",
    "* pmatrix: matrix surrounded by parentheses\n",
    "* bmatrix: matrix surrounded by square bracket\n",
    "* Bmatrix: matrix surrounded by curly bracket\n",
    "* vmatrix: matrix surrounded by single vertical lines\n",
    "* Vmatrix: matrix surrounded by double vertical lines\n",
    "\n",
    "*Plain:*\n",
    "$$\\begin{matrix} a & b & c \\\\ x & y & z \\end{matrix}$$\n",
    "\n",
    "*Parentheses*:\n",
    "$$\\begin{pmatrix} a & b & c \\\\ x & y & z \\end{pmatrix}$$\n",
    "\n",
    "*Square bracket*:\n",
    "$$\\begin{bmatrix} a & b & c \\\\ x & y & z \\end{bmatrix}$$\n",
    "\n",
    "*Curly bracket*:\n",
    "$$\\begin{Bmatrix} a & b & c \\\\ x & y & z \\end{Bmatrix}$$\n",
    "\n",
    "*Vertical line*:\n",
    "$$\\begin{vmatrix} a & b & c \\\\ x & y & z \\end{vmatrix}$$\n",
    "\n",
    "*Double Vertical line*:\n",
    "$$\\begin{Vmatrix} a & b & c \\\\ x & y & z \\end{Vmatrix}$$\n",
    "\n",
    "\n",
    "**N.B**: `&` and `\\\\` rep white space and new line respectively in laTeX"
   ]
  },
  {
   "cell_type": "markdown",
   "id": "86800b05",
   "metadata": {},
   "source": [
    "**Matrices with different types of dots**"
   ]
  },
  {
   "cell_type": "markdown",
   "id": "e33f1015",
   "metadata": {},
   "source": [
    "line: `ldots`\n",
    "\n",
    "diagonal: `ddots`\n",
    "\n",
    "vertical: `\\vdots`"
   ]
  },
  {
   "cell_type": "markdown",
   "id": "738e3826",
   "metadata": {},
   "source": [
    "**The Codes as follows:**\n",
    "\n",
    "```Latex\n",
    "\n",
    "\\begin{bmatrix}\n",
    "    x_{11} & x_{12} & x_{13} & \\dots & x_{1n} \\\\\n",
    "    x_{21} & x_{22} & x_{23} & \\dots & x_{2n} \\\\\n",
    "    \\ldots &\\ldots  &\\ldots  &\\ldots &\\ldots   \\\\\n",
    "    x_{d1} &x_{d2}  & x_{d3} &\\dots  & x_{dn}\n",
    "\\end{bmatrix}\n",
    "\n",
    "=\n",
    "\n",
    "\\begin{bmatrix}\n",
    "    x_{11} & x_{12} & x_{13} & \\dots & x_{1n} \\\\\n",
    "    x_{21} & x_{22} & x_{23} & \\dots & x_{2n} \\\\\n",
    "    \\vdots &\\vdots  &\\vdots  &\\ddots &\\vdots   \\\\\n",
    "    x_{d1} &x_{d2}  & x_{d3} &\\dots  & x_{dn}\n",
    "\\end{bmatrix}\n",
    "\n",
    "```"
   ]
  },
  {
   "cell_type": "markdown",
   "id": "bf45942a",
   "metadata": {},
   "source": [
    "\n",
    "\\begin{bmatrix}\n",
    "    x_{11} & x_{12} & x_{13} & \\dots & x_{1n} \\\\\n",
    "    x_{21} & x_{22} & x_{23} & \\dots & x_{2n} \\\\\n",
    "    \\ldots &\\ldots  &\\ldots  &\\ldots &\\ldots   \\\\\n",
    "    x_{d1} &x_{d2}  & x_{d3} &\\dots  & x_{dn}\n",
    "\\end{bmatrix}\n",
    "\n",
    "\n",
    "=\n",
    "\n",
    "\\begin{bmatrix}\n",
    "    x_{11} & x_{12} & x_{13} & \\dots & x_{1n} \\\\\n",
    "    x_{21} & x_{22} & x_{23} & \\dots & x_{2n} \\\\\n",
    "    \\vdots &\\vdots  &\\vdots  &\\ddots &\\vdots   \\\\\n",
    "    x_{d1} &x_{d2}  & x_{d3} &\\dots  & x_{dn}\n",
    "\\end{bmatrix}\n"
   ]
  },
  {
   "cell_type": "markdown",
   "id": "d0bf9b5f",
   "metadata": {},
   "source": [
    "### Inline Matrix\n",
    "\n",
    "Inline matrix is formatted such that it's not larger than the text...\n",
    "\n",
    "```\n",
    "$\\big(\\begin{smallmatrix}\n",
    "    a & b \\\\\n",
    "    c & d\n",
    "\\end{smallmatrix}\\big)$\n",
    "```\n",
    "\n",
    "Or use `bigl` and `bigr`\n",
    "\n",
    "```\n",
    "$\\bigl[\\begin{smallmatrix}\n",
    "    c & d \\\\\n",
    "    e & f \\\\\n",
    "\\end{smallmatrix}\\bigr]$\n",
    "```\n",
    "\n",
    "*Take note of the square bracket [ ] and parenthesis ( )*"
   ]
  },
  {
   "cell_type": "markdown",
   "id": "8c895215",
   "metadata": {},
   "source": [
    "The value as follows:\n",
    "\n",
    "**Q1.** Given that matrix \n",
    "$\\big(\\begin{smallmatrix}\n",
    "    a & b \\\\\n",
    "    c & d\n",
    "\\end{smallmatrix}\\big)\n",
    "$ = 0, find a, b and c.\n",
    "\n",
    "**Q2.** Given that matrix \n",
    "$\\bigl[\\begin{smallmatrix}\n",
    "    c & d \\\\\n",
    "    e & f \\\\\n",
    "\\end{smallmatrix}\\bigr]$ = 0, find c, d and f."
   ]
  },
  {
   "cell_type": "markdown",
   "id": "f34f1748",
   "metadata": {},
   "source": [
    "## Array Environment\n",
    "\n",
    "It is more or less like the general method of writing Matrices and other arrays using the `\\textbf{array}` environment.\n",
    "\n",
    "```\n",
    "\\left( \\begin{array}{ccc}\n",
    "a & b & c \\\\\n",
    "d & e & f \\\\\n",
    "g & h & i\n",
    "\\end{array} \\right)\n",
    "```\n",
    "\n",
    "**N.B:** `{ccc}` represents that the entries of the column should be centered. `r` for right justified while `l` for left justified."
   ]
  },
  {
   "cell_type": "markdown",
   "id": "f5eb430b",
   "metadata": {},
   "source": [
    "$$\n",
    "\\left( \\begin{array}{ccc}\n",
    "a & b & c \\\\\n",
    "d & e & f \\\\\n",
    "g & h & i\n",
    "\\end{array} \\right)\n",
    "$$"
   ]
  },
  {
   "cell_type": "markdown",
   "id": "aeb34d9b",
   "metadata": {},
   "source": [
    "To produce a table-like matrix or array as follows:\n",
    "\n",
    "```\n",
    "\\begin{array}{lcc}\n",
    "\\mbox{Items} & \\mbox{Variable Operation} & \\mbox{Outputs} \\\\\n",
    "\\mbox{First variable} & x & 2 \\\\\n",
    "\\mbox{Second Variable} & y & 4 \\\\\n",
    "\\mbox{Sum} & x + y & 6 \\\\\n",
    "\\mbox{Difference} & x - y & -2 \\\\\n",
    "\\mbox{Multiply} & x * y & 8 \n",
    "\\end{array}\n",
    "```\n"
   ]
  },
  {
   "cell_type": "markdown",
   "id": "eff4c639",
   "metadata": {},
   "source": [
    "The output looks like:\n",
    "\n",
    "$$\\begin{array}{lcr}\n",
    "\\mbox{Items} & \\mbox{Variable Operation} & \\mbox{Outputs} \\\\\n",
    "\\mbox{First variable} & x & 2 \\\\\n",
    "\\mbox{Second Variable} & y & 4 \\\\\n",
    "\\mbox{Sum} & x + y & 6 \\\\\n",
    "\\mbox{Difference} & x - y & -2 \\\\\n",
    "\\mbox{Multiply} & x * y & 8 \n",
    "\\end{array}$$"
   ]
  },
  {
   "cell_type": "markdown",
   "id": "16eecedb",
   "metadata": {},
   "source": [
    "Using the array environment to produce multi-line formulae\n",
    "\n",
    "```\n",
    "|x| = \\left\\{ \\begin{array}{ll}\n",
    "         x-1 & \\mbox{if $x \\geq 0$}; \\\\\n",
    "         1-x & \\mbox{if $x < 0$, \\end{array} }\\right.\n",
    "```"
   ]
  },
  {
   "cell_type": "markdown",
   "id": "e1aa346e",
   "metadata": {},
   "source": [
    "It generates:\n",
    "\n",
    "$$\n",
    "|x| = \\left\\{ \\begin{array}{11}\n",
    "        x-1 & \\mbox{if $x \\geq 0$}; \\\\ \n",
    "        1-x & \\mbox{if $x < 0$, }\\end{array} \\right.\n",
    "$$"
   ]
  },
  {
   "cell_type": "markdown",
   "id": "46f027b7",
   "metadata": {},
   "source": [
    "---\n",
    "## Radical\n",
    "\n",
    "Radicals can be produced with the `sqrt[a]{b}` command. `a` - for the base (inside square bracket)\n",
    "\n",
    "i.e `sqrt[3]{8}` generates $\\sqrt[3]{8} $"
   ]
  },
  {
   "cell_type": "markdown",
   "id": "25d6f4e4",
   "metadata": {},
   "source": [
    "---\n",
    "## Sums, Limit and Integral\n",
    "\n",
    "Summation - `\\sum`, Limit - `\\lim`, Integral - `\\int`\n",
    "\n",
    "* **Typical Notation**\n",
    "\n",
    "`\\sum_{i=0}^\\infty x_i` generates $\\sum_{i=0}^\\infty x_i$\n",
    "\n",
    "`\\int_a^b x^2` generates $\\int_a^b x^2$\n",
    "\n",
    "`\\lim_{x \\to a} \\frac{f(x) - f(a)}{x - a}` generates $\\lim_{x \\to a} \\frac{f(x) - f(a)}{x - a}$\n"
   ]
  },
  {
   "cell_type": "markdown",
   "id": "a30d4432",
   "metadata": {},
   "source": [
    "* **Limit Specified** i.e adding `\\limits` (well formated)\n",
    "\n",
    "`\\sum\\limits_{i=0}^\\infty x_i` generates $\\sum\\limits_{i=0}^\\infty x_i$\n",
    "\n",
    "`\\int\\limits_a^b x^2` generates $\\int\\limits_a^b x^2$\n",
    "\n",
    "`\\lim_{x \\to a} \\frac{f(x) - f(a)}{x - a}` generates $\\lim\\limits_{x \\to a} \\frac{f(x) - f(a)}{x - a}$"
   ]
  },
  {
   "cell_type": "markdown",
   "id": "56a37d75",
   "metadata": {},
   "source": [
    "* **Display Style**\n",
    "\n",
    "Add `\\displaystyle` to display it better font.\n",
    "\n",
    "$\\displaystyle\\sum_{i=0}^\\infty x_i$,      $\\displaystyle\\int\\limits_a^b x^2$,      $\\displaystyle\\lim_{x \\to a} \\frac{f(x) - f(a)}{x - a}$"
   ]
  },
  {
   "cell_type": "markdown",
   "id": "4c7c5b2d",
   "metadata": {},
   "source": [
    "---\n",
    "## Formating\n",
    "\n",
    "* ### Resizing\n",
    "\n",
    "|Modifier | Example <img width=500;/> | Rendered |\n",
    "|:---------|:---------:|:----------|\n",
    "|\\tiny|`$\\tiny a^2$`|$\\tiny a^2$|\n",
    "|\\Tiny|`$\\Tiny a^2$`|$\\Tiny a^2$|\n",
    "|\\large|`$\\large a^x$`|$\\large a^x$|\n",
    "|\\LARGE|`$\\LARGE a^x$`|$\\LARGE a^x$|\n",
    "|\\huge|`$\\huge a^x$`|$\\huge a^x$|\n",
    "|\\Huge|`$\\Huge a^x$`|$\\Huge a^x$|\n",
    "\n",
    "**N.B:** `footnotesize` does not work in Jupyter notebook."
   ]
  },
  {
   "cell_type": "markdown",
   "id": "2b0f4e50",
   "metadata": {},
   "source": [
    "* ### Changing Fonts\n",
    "\n",
    "Table of the predefined math alphabets:\n",
    "\n",
    "|LaTeX | Font Type|\n",
    "|-----|----------|\n",
    "\\mathrm | roman\n",
    "\\mathbf | bold roman\n",
    "\\mathsf | sans serif\n",
    "\\mathlt | text italic\n",
    "\\mathtt | typewriter\n",
    "\\mathcal| caligraphic"
   ]
  },
  {
   "cell_type": "markdown",
   "id": "ec9ece01",
   "metadata": {},
   "source": [
    "* ### Changing Color\n",
    "\n",
    "It is also possible to change the colors of the formula by adding `\\color{}` at the beginning.\n",
    "\n",
    "```\n",
    "$$\\color{red}{x = {-b \\pm \\sqrt{b^2 - 4ac} \\over 2a}}$$\n",
    "$$\\color{rgb(60, 179, 113)}{x = {-b \\pm \\sqrt{b^2 - 4ac} \\over 2a}}$$\n",
    "$$\\color{#ee82ee}{x = {-b \\pm \\sqrt{b^2 - 4ac} \\over 2a}}$$\n",
    "```\n",
    "\n",
    "It generates:\n",
    "\n",
    "$$\\color{red}{x = {-b \\pm \\sqrt{b^2 - 4ac} \\over 2a}}$$\n",
    "$$\\color{rgb(60, 179, 113)}{x = {-b \\pm \\sqrt{b^2 - 4ac} \\over 2a}}$$\n",
    "$$\\color{#ee82ee}{x = {-b \\pm \\sqrt{b^2 - 4ac} \\over 2a}}$$"
   ]
  },
  {
   "cell_type": "markdown",
   "id": "e59b414b",
   "metadata": {},
   "source": [
    "* ## Formation with HTML\n",
    "\n",
    "LaTeX mathematical equations in HTML tags, and then we can format them in terms of font types, size, color and alignment.\n",
    "\n",
    "```\n",
    "<p style=\"text-align: center; font-family: Time New Roman; font-size: 2.0em; color: red;'>\n",
    "    $x = {-b \\pm \\sqrt{b^2 - 4ac} \\over 2a}$\n",
    "</p>\n",
    "```\n",
    "\n",
    "The output looks like:\n",
    "\n",
    "<p style=\"text-align: center; font-family: Time New Roman; font-size: 2.0em; color: red;\">\n",
    "    $x = {-b \\pm \\sqrt{b^2 - 4ac} \\over 2a}$</p>"
   ]
  },
  {
   "cell_type": "markdown",
   "id": "db4e0bc8",
   "metadata": {},
   "source": [
    "* ### Numbering Equations\n",
    "\n",
    "$$\n",
    "x = {-b \\pm \\sqrt{b^2 - 4ac} \\over 2a} \\tag{1.0} \\label{eq:special}\n",
    "$$\n",
    "\n",
    "It can be refered to equation \\eqref{eq:special}"
   ]
  },
  {
   "cell_type": "code",
   "execution_count": 1,
   "id": "0d16b1f4",
   "metadata": {},
   "outputs": [],
   "source": [
    "!pip install jovian --upgrade --quiet"
   ]
  },
  {
   "cell_type": "code",
   "execution_count": 2,
   "id": "860e2d00",
   "metadata": {},
   "outputs": [
    {
     "data": {
      "application/javascript": [
       "if (window.IPython && IPython.notebook.kernel) IPython.notebook.kernel.execute('jovian.utils.jupyter.get_notebook_name_saved = lambda: \"' + IPython.notebook.notebook_name + '\"')"
      ],
      "text/plain": [
       "<IPython.core.display.Javascript object>"
      ]
     },
     "metadata": {},
     "output_type": "display_data"
    }
   ],
   "source": [
    "import jovian"
   ]
  },
  {
   "cell_type": "code",
   "execution_count": null,
   "id": "506aa7f8",
   "metadata": {},
   "outputs": [
    {
     "data": {
      "application/javascript": [
       "window.require && require([\"base/js/namespace\"],function(Jupyter){Jupyter.notebook.save_checkpoint()})"
      ],
      "text/plain": [
       "<IPython.core.display.Javascript object>"
      ]
     },
     "metadata": {},
     "output_type": "display_data"
    }
   ],
   "source": [
    "jovian.commit(project=\"Latex-in-jupyter-notebook\")"
   ]
  },
  {
   "cell_type": "code",
   "execution_count": null,
   "id": "886a8a6d",
   "metadata": {},
   "outputs": [],
   "source": []
  }
 ],
 "metadata": {
  "kernelspec": {
   "display_name": "Python 3",
   "language": "python",
   "name": "python3"
  },
  "language_info": {
   "codemirror_mode": {
    "name": "ipython",
    "version": 3
   },
   "file_extension": ".py",
   "mimetype": "text/x-python",
   "name": "python",
   "nbconvert_exporter": "python",
   "pygments_lexer": "ipython3",
   "version": "3.8.8"
  }
 },
 "nbformat": 4,
 "nbformat_minor": 5
}
