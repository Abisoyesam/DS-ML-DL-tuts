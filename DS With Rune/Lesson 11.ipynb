{
 "cells": [
  {
   "cell_type": "markdown",
   "id": "7b4855b2",
   "metadata": {},
   "source": [
    "# Data Cleaning & Quality\n",
    "<hr>\n",
    "\n",
    "## Missing Data and Dealing with Outliers\n",
    "\n",
    "### Cleaning Data\n",
    "- Understand the **data quality**\n",
    "- improving the quality of data\n",
    "- Dealing with *missing data*\n",
    "    - **Replacing:** with mean or median values\n",
    "    - **Interpolation:** of the values\n",
    "- Dealing with **data outliers**\n",
    "    - Wrong values\n",
    "- Removing "
   ]
  },
  {
   "cell_type": "code",
   "execution_count": null,
   "id": "ee2f6f0c",
   "metadata": {},
   "outputs": [],
   "source": []
  }
 ],
 "metadata": {
  "kernelspec": {
   "display_name": "Python 3 (ipykernel)",
   "language": "python",
   "name": "python3"
  },
  "language_info": {
   "codemirror_mode": {
    "name": "ipython",
    "version": 3
   },
   "file_extension": ".py",
   "mimetype": "text/x-python",
   "name": "python",
   "nbconvert_exporter": "python",
   "pygments_lexer": "ipython3",
   "version": "3.9.13"
  }
 },
 "nbformat": 4,
 "nbformat_minor": 5
}
