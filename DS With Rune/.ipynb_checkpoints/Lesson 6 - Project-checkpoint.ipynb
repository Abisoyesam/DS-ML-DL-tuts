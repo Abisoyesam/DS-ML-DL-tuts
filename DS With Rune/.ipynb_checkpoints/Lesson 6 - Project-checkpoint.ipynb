{
 "cells": [
  {
   "cell_type": "markdown",
   "id": "9439091b",
   "metadata": {},
   "source": [
    "# Project: SQL Dallas Shootings\n",
    "\n",
    "<hr>\n",
    "\n",
    "**GOAL**\n",
    "\n",
    "* A newspaper wants a visualization of shooting in Dallas with focus on subjects\n",
    "* Read the data from databases and join into broader datasets\n",
    "* Explore idea to visualize it and create a map with the shootings."
   ]
  },
  {
   "cell_type": "code",
   "execution_count": 1,
   "id": "164f3641",
   "metadata": {},
   "outputs": [],
   "source": [
    "import sqlite3\n",
    "import pandas as pd"
   ]
  },
  {
   "cell_type": "code",
   "execution_count": null,
   "id": "326cc239",
   "metadata": {},
   "outputs": [],
   "source": [
    "# read db file\n",
    "conn = sqlite3.connect('data/dallas-ois.sqlite')\n",
    "cursor = conn.cursor()\n",
    "cursor.execute()"
   ]
  }
 ],
 "metadata": {
  "kernelspec": {
   "display_name": "Python 3 (ipykernel)",
   "language": "python",
   "name": "python3"
  },
  "language_info": {
   "codemirror_mode": {
    "name": "ipython",
    "version": 3
   },
   "file_extension": ".py",
   "mimetype": "text/x-python",
   "name": "python",
   "nbconvert_exporter": "python",
   "pygments_lexer": "ipython3",
   "version": "3.9.13"
  }
 },
 "nbformat": 4,
 "nbformat_minor": 5
}
