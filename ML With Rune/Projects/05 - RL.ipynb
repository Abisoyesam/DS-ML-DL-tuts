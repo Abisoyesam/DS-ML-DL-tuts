{
 "cells": [
  {
   "cell_type": "markdown",
   "id": "1af8fcd7",
   "metadata": {},
   "source": [
    "# Reinforcement Learning\n",
    "\n",
    "- Use Reinforcement Learning with Q-learning to find solutions to this field.\n",
    "\n",
    "![field](../images/field1.PNG)"
   ]
  },
  {
   "cell_type": "code",
   "execution_count": 1,
   "id": "b89b1617",
   "metadata": {},
   "outputs": [],
   "source": [
    "import random\n",
    "import numpy as np"
   ]
  },
  {
   "cell_type": "markdown",
   "id": "e5017988",
   "metadata": {},
   "source": [
    "## Step 1: Create a field\n",
    "**It is a two dimensional field (2D)**\n",
    "- **__init__**:\n",
    "    - Use a list of list with integer values to represent all the states\n",
    "        - Goal end state should be 1, illegal states -1, other states 0\n",
    "    - Set the state to be random fo the size of states\n",
    "- **done**:\n",
    "    - Check if current state has non-negative values\n",
    "- **get_possible_actions**:\n",
    "    - Set a list to all possible actions **actions = [0, 1, 2, 3]**\n",
    "        - action = 2 is up\n",
    "        - action = 4 is left\n",
    "        - action = 6 is right\n",
    "        - action = 8 is down\n",
    "    - Then check if state is in a position where a possible actions should be removed.\n",
    "    - Finally, return the remaining actions\n",
    "- **update_next_state**:\n",
    "    - Get the current state\n",
    "    - Check if move is illegal, then return current state and -10 in reward\n",
    "    - Otherwise opdate state and return the reward according to new state"
   ]
  },
  {
   "cell_type": "code",
   "execution_count": 25,
   "id": "926238a7",
   "metadata": {},
   "outputs": [],
   "source": [
    "# the goal is to find the green field and avoid the red once.\n",
    "class Field:\n",
    "    def __init__(self):\n",
    "        self.states = [\n",
    "            [-1,0,0,0,0,0,0,0,0,0,0],\n",
    "            [-1,0,0,0,0,0,0,1,0,0,0],\n",
    "            [0,0,0,0,0,0,0,0,0,0,0]]\n",
    "        self.state = (random.randrange(0,len(self.states)),random.randrange(0, len(self.states[0])))\n",
    "        \n",
    "    def done(self):\n",
    "        if self.states[self.state[0]][self.state[1]] != 0:\n",
    "            return True\n",
    "        else:\n",
    "            return False\n",
    "        \n",
    "    def get_possible_actions(self):\n",
    "        # action: 2 -> up, 4 -> left, 6 -> right, 8 -> down\n",
    "        actions = [2,4,6,8]\n",
    "        if self.state[0] == 0:\n",
    "            actions.remove(2)\n",
    "        if self.state[0] == len(self.states)-1:\n",
    "            actions.remove(8)\n",
    "        if self.state[1] == 0:\n",
    "            actions.remove(4)\n",
    "        if self.state[1] == len(self.states[0])-1:\n",
    "            actions.remove(6)\n",
    "        return actions\n",
    "    \n",
    "    def update_next_state(self, action):\n",
    "        x,y = self.state\n",
    "        if action == 4:\n",
    "            if y == 0:\n",
    "                return self.state, -10\n",
    "        if action == 6:\n",
    "            if y == len(self.state[0])-1:\n",
    "                return self.state, -10"
   ]
  },
  {
   "cell_type": "code",
   "execution_count": 27,
   "id": "03a4cfb4",
   "metadata": {},
   "outputs": [
    {
     "data": {
      "text/plain": [
       "((1, 5), False, [2, 4, 6, 8])"
      ]
     },
     "execution_count": 27,
     "metadata": {},
     "output_type": "execute_result"
    }
   ],
   "source": [
    "field = Field()\n",
    "field.state, field.done(), field.get_possible_actions()"
   ]
  },
  {
   "cell_type": "code",
   "execution_count": null,
   "id": "ca59bda0",
   "metadata": {},
   "outputs": [],
   "source": []
  },
  {
   "cell_type": "markdown",
   "id": "73f5f032",
   "metadata": {},
   "source": [
    "## Step 2: Train the model\n",
    "- Create a $q$-table initialized to all 0\n",
    "    - Use **q_table = np.zeros(...)** *(insert values for ...)*\n",
    "- Set **alpha = .5, gamma = 0.5,** and **epsilon = 0.5**\n",
    "- Create *for*-loop iterating 10000\n",
    "    - Create new field\n",
    "    - While field not done\n",
    "        - Get possible actions and assign to **actions**\n",
    "        - With probability epsilon take a random action, otherwise take the best action\n",
    "            - HINT: **random.uniform(0, 1) < epsilon**\n",
    "            - HINT: Random action: **random.choice(actions)**, and best action: **np.argmax(q_table[field.state])**\n",
    "        - Get current state and assign it to **cur_x, cur_y**\n",
    "        - Update next state and get it and the reward\n",
    "        - Update **q_table[cur_x, cur_y, action] = (1 - alpha)*q_table[cur_x, cur_y, action] + alpha*(reward + gamma*np.max(q_table[next_x, next_y]))**"
   ]
  },
  {
   "cell_type": "code",
   "execution_count": null,
   "id": "d779f3de",
   "metadata": {},
   "outputs": [],
   "source": []
  },
  {
   "cell_type": "code",
   "execution_count": null,
   "id": "c5efd3b1",
   "metadata": {},
   "outputs": [],
   "source": []
  },
  {
   "cell_type": "code",
   "execution_count": null,
   "id": "f59c9cb2",
   "metadata": {},
   "outputs": [],
   "source": []
  },
  {
   "cell_type": "code",
   "execution_count": null,
   "id": "aa957bce",
   "metadata": {},
   "outputs": [],
   "source": []
  },
  {
   "cell_type": "code",
   "execution_count": null,
   "id": "4fc15c11",
   "metadata": {},
   "outputs": [],
   "source": []
  },
  {
   "cell_type": "markdown",
   "id": "84ee2e46",
   "metadata": {},
   "source": [
    "## Step 3: Solve a task\n",
    "- To see the path make a variable **path = np.zeros((3, 11))**\n",
    "- Create a field **Field()**\n",
    "- To count steps assign **steps = 1**\n",
    "- Assign the start state in the path to **np.nan**.\n",
    "- The we begin: while not solved.\n",
    "    - Get the **action** to take\n",
    "    - Get the next **state**\n",
    "    - Update **path** with **steps**\n",
    "    - Increment **steps** with one\n",
    "- see the **path**"
   ]
  },
  {
   "cell_type": "code",
   "execution_count": null,
   "id": "c31811a9",
   "metadata": {},
   "outputs": [],
   "source": []
  }
 ],
 "metadata": {
  "kernelspec": {
   "display_name": "Python 3 (ipykernel)",
   "language": "python",
   "name": "python3"
  },
  "language_info": {
   "codemirror_mode": {
    "name": "ipython",
    "version": 3
   },
   "file_extension": ".py",
   "mimetype": "text/x-python",
   "name": "python",
   "nbconvert_exporter": "python",
   "pygments_lexer": "ipython3",
   "version": "3.9.13"
  }
 },
 "nbformat": 4,
 "nbformat_minor": 5
}
