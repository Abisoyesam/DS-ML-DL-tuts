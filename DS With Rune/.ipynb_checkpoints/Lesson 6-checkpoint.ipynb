{
 "cells": [
  {
   "cell_type": "markdown",
   "id": "682796a0",
   "metadata": {},
   "source": [
    "# Lesson 6: Databases\n",
    "\n",
    "<hr>\n",
    "\n",
    "### Databases\n",
    "\n",
    "* **Relational databases:** modes data in rows and columns in a series of table.\n",
    "* Like a collection of DataFrame/Excel sheets\n",
    "* **SQL:** Structured Query Language\n",
    "* Non-relational databases (NoSQL)\n",
    "\n",
    "### Database connector\n",
    "* The `sqlite3` is an interface for SQLite database\n",
    "* No installation needed\n",
    "\n",
    "To import and connect to a SQLite database\n",
    "\n",
    "```Python\n",
    "import sqlite3\n",
    "conn = sqlite3.connect('./filepath')\n",
    "```"
   ]
  },
  {
   "cell_type": "code",
   "execution_count": 1,
   "id": "999963b4",
   "metadata": {},
   "outputs": [],
   "source": [
    "import sqlite3"
   ]
  },
  {
   "cell_type": "code",
   "execution_count": 2,
   "id": "f1718122",
   "metadata": {},
   "outputs": [],
   "source": [
    "# connect to database\n",
    "conn = sqlite3.connect('./data/dallas-ois.sqlite')"
   ]
  },
  {
   "cell_type": "code",
   "execution_count": 3,
   "id": "abaffb1a",
   "metadata": {},
   "outputs": [],
   "source": [
    "# the interface of the database is through a `cursor`\n",
    "\n",
    "cursor = conn.cursor()"
   ]
  },
  {
   "cell_type": "markdown",
   "id": "3e5fb933",
   "metadata": {},
   "source": [
    "* The `execute` method allows to run `SQL` quaries on our databases.\n",
    "* To get a list of all the tables the following query can be applied.\n",
    "```SQL\n",
    "SELECT name FROM sqlite_master WHERE type='table' ORDER BY name\n",
    "```\n",
    "* The result is fetched with the `fetchall()` method."
   ]
  },
  {
   "cell_type": "code",
   "execution_count": 4,
   "id": "d34e4894",
   "metadata": {},
   "outputs": [
    {
     "data": {
      "text/plain": [
       "<sqlite3.Cursor at 0x2ae6a47f6c0>"
      ]
     },
     "execution_count": 4,
     "metadata": {},
     "output_type": "execute_result"
    }
   ],
   "source": [
    "cursor.execute(\"SELECT name FROM sqlite_master WHERE type='table' ORDER BY name\")"
   ]
  },
  {
   "cell_type": "code",
   "execution_count": 5,
   "id": "a8a1065f",
   "metadata": {},
   "outputs": [
    {
     "data": {
      "text/plain": [
       "[('incidents',), ('officers',), ('subjects',)]"
      ]
     },
     "execution_count": 5,
     "metadata": {},
     "output_type": "execute_result"
    }
   ],
   "source": [
    "cursor.fetchall()"
   ]
  },
  {
   "cell_type": "markdown",
   "id": "ef40d617",
   "metadata": {},
   "source": [
    "**To get the description of a table (SQLite specific)**\n",
    "\n",
    "```SQL\n",
    "PRAGMA table_info(officers)\n",
    "```"
   ]
  },
  {
   "cell_type": "code",
   "execution_count": 6,
   "id": "084127cd",
   "metadata": {},
   "outputs": [
    {
     "data": {
      "text/plain": [
       "[(0, 'case_number', 'TEXT', 0, None, 0),\n",
       " (1, 'race', 'TEXT', 0, None, 0),\n",
       " (2, 'gender', 'TEXT', 0, None, 0),\n",
       " (3, 'last_name', 'TEXT', 0, None, 0),\n",
       " (4, 'first_name', 'TEXT', 0, None, 0),\n",
       " (5, 'full_name', 'TEXT', 0, None, 0)]"
      ]
     },
     "execution_count": 6,
     "metadata": {},
     "output_type": "execute_result"
    }
   ],
   "source": [
    "cursor.execute(\"PRAGMA table_info(officers)\").fetchall()"
   ]
  },
  {
   "cell_type": "markdown",
   "id": "ed49b0e0",
   "metadata": {},
   "source": [
    "<hr>\n",
    "\n",
    "### SQL syntax\n",
    "\n",
    "**Get all data from table**\n",
    "```SQL\n",
    "SELECT * FROM table_name\n",
    "```\n",
    "\n",
    "**Limit the response**\n",
    "```SQL\n",
    "SELECT * FROM table_name LIMIT 100\n",
    "```\n",
    "\n",
    "**Filter data**\n",
    "```SQL\n",
    "SELECT * FROM table_name WHERE column_name > 1\n",
    "```\n",
    "\n",
    "### Import data into DataFrame\n",
    "```Python\n",
    "import pandas as pd\n",
    "data = pd.read_sql('SELECT * FROM tablename', conn)\n",
    "```"
   ]
  },
  {
   "cell_type": "code",
   "execution_count": 7,
   "id": "f3783f51",
   "metadata": {},
   "outputs": [],
   "source": [
    "import pandas as pd"
   ]
  },
  {
   "cell_type": "code",
   "execution_count": null,
   "id": "e3809fd3",
   "metadata": {},
   "outputs": [],
   "source": []
  }
 ],
 "metadata": {
  "kernelspec": {
   "display_name": "Python 3 (ipykernel)",
   "language": "python",
   "name": "python3"
  },
  "language_info": {
   "codemirror_mode": {
    "name": "ipython",
    "version": 3
   },
   "file_extension": ".py",
   "mimetype": "text/x-python",
   "name": "python",
   "nbconvert_exporter": "python",
   "pygments_lexer": "ipython3",
   "version": "3.9.13"
  }
 },
 "nbformat": 4,
 "nbformat_minor": 5
}
