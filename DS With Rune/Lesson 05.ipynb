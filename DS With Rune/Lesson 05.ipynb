{
 "cells": [
  {
   "cell_type": "markdown",
   "id": "c073d2c3",
   "metadata": {},
   "source": [
    "# Lesson 5: Web Scraping\n",
    "\n",
    "<hr>\n",
    "\n",
    "## Acquire Data\n",
    "**Common Data Sources are:**\n",
    "* The internet - Web Scraping\n",
    "* Database\n",
    "* CSV, Excel file\n",
    "* Parquet\n",
    "\n",
    "### Web Scraping\n",
    "Extracting data from websites.\n",
    "\n",
    "**Be ethical**\n",
    "* Do not use for commercial use\n",
    "* Only for private use"
   ]
  },
  {
   "cell_type": "code",
   "execution_count": 1,
   "id": "23209caa",
   "metadata": {},
   "outputs": [],
   "source": [
    "import pandas as pd"
   ]
  },
  {
   "cell_type": "code",
   "execution_count": 2,
   "id": "e00e6918",
   "metadata": {},
   "outputs": [],
   "source": [
    "# get the web url\n",
    "url = \"https://en.wikipedia.org/wiki/Wikipedia:Fundraising_statistics\""
   ]
  },
  {
   "cell_type": "code",
   "execution_count": 3,
   "id": "d3c6f4ab",
   "metadata": {},
   "outputs": [],
   "source": [
    "# read the data\n",
    "data = pd.read_html(url)"
   ]
  },
  {
   "cell_type": "code",
   "execution_count": 4,
   "id": "da739780",
   "metadata": {},
   "outputs": [
    {
     "data": {
      "text/plain": [
       "list"
      ]
     },
     "execution_count": 4,
     "metadata": {},
     "output_type": "execute_result"
    }
   ],
   "source": [
    "type(data)"
   ]
  },
  {
   "cell_type": "code",
   "execution_count": 5,
   "id": "7c0d4d10",
   "metadata": {},
   "outputs": [
    {
     "data": {
      "text/plain": [
       "pandas.core.frame.DataFrame"
      ]
     },
     "execution_count": 5,
     "metadata": {},
     "output_type": "execute_result"
    }
   ],
   "source": [
    "type(data[0])"
   ]
  },
  {
   "cell_type": "code",
   "execution_count": 6,
   "id": "df22415d",
   "metadata": {},
   "outputs": [
    {
     "data": {
      "text/plain": [
       "1"
      ]
     },
     "execution_count": 6,
     "metadata": {},
     "output_type": "execute_result"
    }
   ],
   "source": [
    "len(data)"
   ]
  },
  {
   "cell_type": "code",
   "execution_count": 7,
   "id": "72331541",
   "metadata": {},
   "outputs": [
    {
     "data": {
      "text/html": [
       "<div>\n",
       "<style scoped>\n",
       "    .dataframe tbody tr th:only-of-type {\n",
       "        vertical-align: middle;\n",
       "    }\n",
       "\n",
       "    .dataframe tbody tr th {\n",
       "        vertical-align: top;\n",
       "    }\n",
       "\n",
       "    .dataframe thead th {\n",
       "        text-align: right;\n",
       "    }\n",
       "</style>\n",
       "<table border=\"1\" class=\"dataframe\">\n",
       "  <thead>\n",
       "    <tr style=\"text-align: right;\">\n",
       "      <th></th>\n",
       "      <th>Year</th>\n",
       "      <th>Source</th>\n",
       "      <th>Revenue</th>\n",
       "      <th>Expenses</th>\n",
       "      <th>Asset rise</th>\n",
       "      <th>Net assets at end of year</th>\n",
       "    </tr>\n",
       "  </thead>\n",
       "  <tbody>\n",
       "    <tr>\n",
       "      <th>0</th>\n",
       "      <td>2022/2023</td>\n",
       "      <td>PDF</td>\n",
       "      <td>$180,174,103</td>\n",
       "      <td>$169,095,381</td>\n",
       "      <td>$15,619,804</td>\n",
       "      <td>$254,971,336</td>\n",
       "    </tr>\n",
       "    <tr>\n",
       "      <th>1</th>\n",
       "      <td>2021/2022</td>\n",
       "      <td>PDF</td>\n",
       "      <td>$154,686,521</td>\n",
       "      <td>$145,970,915</td>\n",
       "      <td>$8,173,996</td>\n",
       "      <td>$239,351,532</td>\n",
       "    </tr>\n",
       "    <tr>\n",
       "      <th>2</th>\n",
       "      <td>2020/2021</td>\n",
       "      <td>PDF</td>\n",
       "      <td>$162,886,686</td>\n",
       "      <td>$111,839,819</td>\n",
       "      <td>$50,861,811</td>\n",
       "      <td>$231,177,536</td>\n",
       "    </tr>\n",
       "    <tr>\n",
       "      <th>3</th>\n",
       "      <td>2019/2020</td>\n",
       "      <td>PDF</td>\n",
       "      <td>$129,234,327</td>\n",
       "      <td>$112,489,397</td>\n",
       "      <td>$14,674,300</td>\n",
       "      <td>$180,315,725</td>\n",
       "    </tr>\n",
       "    <tr>\n",
       "      <th>4</th>\n",
       "      <td>2018/2019</td>\n",
       "      <td>PDF</td>\n",
       "      <td>$120,067,266</td>\n",
       "      <td>$91,414,010</td>\n",
       "      <td>$30,691,855</td>\n",
       "      <td>$165,641,425</td>\n",
       "    </tr>\n",
       "  </tbody>\n",
       "</table>\n",
       "</div>"
      ],
      "text/plain": [
       "        Year Source       Revenue      Expenses   Asset rise  \\\n",
       "0  2022/2023    PDF  $180,174,103  $169,095,381  $15,619,804   \n",
       "1  2021/2022    PDF  $154,686,521  $145,970,915   $8,173,996   \n",
       "2  2020/2021    PDF  $162,886,686  $111,839,819  $50,861,811   \n",
       "3  2019/2020    PDF  $129,234,327  $112,489,397  $14,674,300   \n",
       "4  2018/2019    PDF  $120,067,266   $91,414,010  $30,691,855   \n",
       "\n",
       "  Net assets at end of year  \n",
       "0              $254,971,336  \n",
       "1              $239,351,532  \n",
       "2              $231,177,536  \n",
       "3              $180,315,725  \n",
       "4              $165,641,425  "
      ]
     },
     "execution_count": 7,
     "metadata": {},
     "output_type": "execute_result"
    }
   ],
   "source": [
    "data[0].head()"
   ]
  },
  {
   "cell_type": "code",
   "execution_count": 8,
   "id": "9eafcd9f",
   "metadata": {},
   "outputs": [],
   "source": [
    "fundraising = data[0]"
   ]
  },
  {
   "cell_type": "markdown",
   "id": "1711635b",
   "metadata": {},
   "source": [
    "<hr>\n",
    "\n",
    "### Data Wrangling\n",
    "* **Data wrangling:** transforming and mapping data from one 'raw' data form into another format.\n",
    "* With the intent of making it more appropriate and valuable for a variety of downstream purposes such as analytics."
   ]
  },
  {
   "cell_type": "code",
   "execution_count": 9,
   "id": "a6b46814",
   "metadata": {},
   "outputs": [
    {
     "data": {
      "text/plain": [
       "Year                         object\n",
       "Source                       object\n",
       "Revenue                      object\n",
       "Expenses                     object\n",
       "Asset rise                   object\n",
       "Net assets at end of year    object\n",
       "dtype: object"
      ]
     },
     "execution_count": 9,
     "metadata": {},
     "output_type": "execute_result"
    }
   ],
   "source": [
    "fundraising.dtypes"
   ]
  },
  {
   "cell_type": "code",
   "execution_count": 10,
   "id": "7ef29a85",
   "metadata": {},
   "outputs": [
    {
     "data": {
      "text/html": [
       "<div>\n",
       "<style scoped>\n",
       "    .dataframe tbody tr th:only-of-type {\n",
       "        vertical-align: middle;\n",
       "    }\n",
       "\n",
       "    .dataframe tbody tr th {\n",
       "        vertical-align: top;\n",
       "    }\n",
       "\n",
       "    .dataframe thead th {\n",
       "        text-align: right;\n",
       "    }\n",
       "</style>\n",
       "<table border=\"1\" class=\"dataframe\">\n",
       "  <thead>\n",
       "    <tr style=\"text-align: right;\">\n",
       "      <th></th>\n",
       "      <th>Year</th>\n",
       "      <th>Source</th>\n",
       "      <th>Revenue</th>\n",
       "      <th>Expenses</th>\n",
       "      <th>Asset rise</th>\n",
       "      <th>Net assets at end of year</th>\n",
       "      <th>Exp</th>\n",
       "    </tr>\n",
       "  </thead>\n",
       "  <tbody>\n",
       "    <tr>\n",
       "      <th>0</th>\n",
       "      <td>2022/2023</td>\n",
       "      <td>PDF</td>\n",
       "      <td>$180,174,103</td>\n",
       "      <td>$169,095,381</td>\n",
       "      <td>$15,619,804</td>\n",
       "      <td>$254,971,336</td>\n",
       "      <td>169,095,381</td>\n",
       "    </tr>\n",
       "    <tr>\n",
       "      <th>1</th>\n",
       "      <td>2021/2022</td>\n",
       "      <td>PDF</td>\n",
       "      <td>$154,686,521</td>\n",
       "      <td>$145,970,915</td>\n",
       "      <td>$8,173,996</td>\n",
       "      <td>$239,351,532</td>\n",
       "      <td>145,970,915</td>\n",
       "    </tr>\n",
       "    <tr>\n",
       "      <th>2</th>\n",
       "      <td>2020/2021</td>\n",
       "      <td>PDF</td>\n",
       "      <td>$162,886,686</td>\n",
       "      <td>$111,839,819</td>\n",
       "      <td>$50,861,811</td>\n",
       "      <td>$231,177,536</td>\n",
       "      <td>111,839,819</td>\n",
       "    </tr>\n",
       "    <tr>\n",
       "      <th>3</th>\n",
       "      <td>2019/2020</td>\n",
       "      <td>PDF</td>\n",
       "      <td>$129,234,327</td>\n",
       "      <td>$112,489,397</td>\n",
       "      <td>$14,674,300</td>\n",
       "      <td>$180,315,725</td>\n",
       "      <td>112,489,397</td>\n",
       "    </tr>\n",
       "    <tr>\n",
       "      <th>4</th>\n",
       "      <td>2018/2019</td>\n",
       "      <td>PDF</td>\n",
       "      <td>$120,067,266</td>\n",
       "      <td>$91,414,010</td>\n",
       "      <td>$30,691,855</td>\n",
       "      <td>$165,641,425</td>\n",
       "      <td>91,414,010</td>\n",
       "    </tr>\n",
       "  </tbody>\n",
       "</table>\n",
       "</div>"
      ],
      "text/plain": [
       "        Year Source       Revenue      Expenses   Asset rise  \\\n",
       "0  2022/2023    PDF  $180,174,103  $169,095,381  $15,619,804   \n",
       "1  2021/2022    PDF  $154,686,521  $145,970,915   $8,173,996   \n",
       "2  2020/2021    PDF  $162,886,686  $111,839,819  $50,861,811   \n",
       "3  2019/2020    PDF  $129,234,327  $112,489,397  $14,674,300   \n",
       "4  2018/2019    PDF  $120,067,266   $91,414,010  $30,691,855   \n",
       "\n",
       "  Net assets at end of year          Exp  \n",
       "0              $254,971,336  169,095,381  \n",
       "1              $239,351,532  145,970,915  \n",
       "2              $231,177,536  111,839,819  \n",
       "3              $180,315,725  112,489,397  \n",
       "4              $165,641,425   91,414,010  "
      ]
     },
     "execution_count": 10,
     "metadata": {},
     "output_type": "execute_result"
    }
   ],
   "source": [
    "# remove the dollar sign\n",
    "fundraising['Exp'] = fundraising['Expenses'].str[1:]\n",
    "fundraising.head()"
   ]
  },
  {
   "cell_type": "code",
   "execution_count": 11,
   "id": "36fa0282",
   "metadata": {},
   "outputs": [],
   "source": [
    "# replace the comma\n",
    "fundraising['Exp'] = fundraising['Exp'].str.replace(',','')\n",
    "# convert the object to integer\n",
    "fundraising['Exp'] = pd.to_numeric(fundraising['Exp'])"
   ]
  },
  {
   "cell_type": "code",
   "execution_count": 12,
   "id": "6a171bb0",
   "metadata": {},
   "outputs": [
    {
     "data": {
      "text/html": [
       "<div>\n",
       "<style scoped>\n",
       "    .dataframe tbody tr th:only-of-type {\n",
       "        vertical-align: middle;\n",
       "    }\n",
       "\n",
       "    .dataframe tbody tr th {\n",
       "        vertical-align: top;\n",
       "    }\n",
       "\n",
       "    .dataframe thead th {\n",
       "        text-align: right;\n",
       "    }\n",
       "</style>\n",
       "<table border=\"1\" class=\"dataframe\">\n",
       "  <thead>\n",
       "    <tr style=\"text-align: right;\">\n",
       "      <th></th>\n",
       "      <th>Year</th>\n",
       "      <th>Source</th>\n",
       "      <th>Revenue</th>\n",
       "      <th>Expenses</th>\n",
       "      <th>Asset rise</th>\n",
       "      <th>Net assets at end of year</th>\n",
       "      <th>Exp</th>\n",
       "    </tr>\n",
       "  </thead>\n",
       "  <tbody>\n",
       "    <tr>\n",
       "      <th>0</th>\n",
       "      <td>2022/2023</td>\n",
       "      <td>PDF</td>\n",
       "      <td>$180,174,103</td>\n",
       "      <td>$169,095,381</td>\n",
       "      <td>$15,619,804</td>\n",
       "      <td>$254,971,336</td>\n",
       "      <td>169095381</td>\n",
       "    </tr>\n",
       "    <tr>\n",
       "      <th>1</th>\n",
       "      <td>2021/2022</td>\n",
       "      <td>PDF</td>\n",
       "      <td>$154,686,521</td>\n",
       "      <td>$145,970,915</td>\n",
       "      <td>$8,173,996</td>\n",
       "      <td>$239,351,532</td>\n",
       "      <td>145970915</td>\n",
       "    </tr>\n",
       "    <tr>\n",
       "      <th>2</th>\n",
       "      <td>2020/2021</td>\n",
       "      <td>PDF</td>\n",
       "      <td>$162,886,686</td>\n",
       "      <td>$111,839,819</td>\n",
       "      <td>$50,861,811</td>\n",
       "      <td>$231,177,536</td>\n",
       "      <td>111839819</td>\n",
       "    </tr>\n",
       "    <tr>\n",
       "      <th>3</th>\n",
       "      <td>2019/2020</td>\n",
       "      <td>PDF</td>\n",
       "      <td>$129,234,327</td>\n",
       "      <td>$112,489,397</td>\n",
       "      <td>$14,674,300</td>\n",
       "      <td>$180,315,725</td>\n",
       "      <td>112489397</td>\n",
       "    </tr>\n",
       "    <tr>\n",
       "      <th>4</th>\n",
       "      <td>2018/2019</td>\n",
       "      <td>PDF</td>\n",
       "      <td>$120,067,266</td>\n",
       "      <td>$91,414,010</td>\n",
       "      <td>$30,691,855</td>\n",
       "      <td>$165,641,425</td>\n",
       "      <td>91414010</td>\n",
       "    </tr>\n",
       "  </tbody>\n",
       "</table>\n",
       "</div>"
      ],
      "text/plain": [
       "        Year Source       Revenue      Expenses   Asset rise  \\\n",
       "0  2022/2023    PDF  $180,174,103  $169,095,381  $15,619,804   \n",
       "1  2021/2022    PDF  $154,686,521  $145,970,915   $8,173,996   \n",
       "2  2020/2021    PDF  $162,886,686  $111,839,819  $50,861,811   \n",
       "3  2019/2020    PDF  $129,234,327  $112,489,397  $14,674,300   \n",
       "4  2018/2019    PDF  $120,067,266   $91,414,010  $30,691,855   \n",
       "\n",
       "  Net assets at end of year        Exp  \n",
       "0              $254,971,336  169095381  \n",
       "1              $239,351,532  145970915  \n",
       "2              $231,177,536  111839819  \n",
       "3              $180,315,725  112489397  \n",
       "4              $165,641,425   91414010  "
      ]
     },
     "execution_count": 12,
     "metadata": {},
     "output_type": "execute_result"
    }
   ],
   "source": [
    "fundraising.head()"
   ]
  },
  {
   "cell_type": "code",
   "execution_count": 13,
   "id": "08805d51",
   "metadata": {},
   "outputs": [
    {
     "data": {
      "text/plain": [
       "Year                         object\n",
       "Source                       object\n",
       "Revenue                      object\n",
       "Expenses                     object\n",
       "Asset rise                   object\n",
       "Net assets at end of year    object\n",
       "Exp                           int64\n",
       "dtype: object"
      ]
     },
     "execution_count": 13,
     "metadata": {},
     "output_type": "execute_result"
    }
   ],
   "source": [
    "fundraising.dtypes"
   ]
  },
  {
   "cell_type": "code",
   "execution_count": 14,
   "id": "e6beeb81",
   "metadata": {},
   "outputs": [
    {
     "data": {
      "text/html": [
       "<div>\n",
       "<style scoped>\n",
       "    .dataframe tbody tr th:only-of-type {\n",
       "        vertical-align: middle;\n",
       "    }\n",
       "\n",
       "    .dataframe tbody tr th {\n",
       "        vertical-align: top;\n",
       "    }\n",
       "\n",
       "    .dataframe thead th {\n",
       "        text-align: right;\n",
       "    }\n",
       "</style>\n",
       "<table border=\"1\" class=\"dataframe\">\n",
       "  <thead>\n",
       "    <tr style=\"text-align: right;\">\n",
       "      <th></th>\n",
       "      <th>Year</th>\n",
       "      <th>Source</th>\n",
       "      <th>Revenue</th>\n",
       "      <th>Expenses</th>\n",
       "      <th>Asset rise</th>\n",
       "      <th>Net assets at end of year</th>\n",
       "      <th>Exp</th>\n",
       "      <th>Rev</th>\n",
       "    </tr>\n",
       "  </thead>\n",
       "  <tbody>\n",
       "    <tr>\n",
       "      <th>0</th>\n",
       "      <td>2022/2023</td>\n",
       "      <td>PDF</td>\n",
       "      <td>$180,174,103</td>\n",
       "      <td>$169,095,381</td>\n",
       "      <td>$15,619,804</td>\n",
       "      <td>$254,971,336</td>\n",
       "      <td>169095381</td>\n",
       "      <td>180174103</td>\n",
       "    </tr>\n",
       "    <tr>\n",
       "      <th>1</th>\n",
       "      <td>2021/2022</td>\n",
       "      <td>PDF</td>\n",
       "      <td>$154,686,521</td>\n",
       "      <td>$145,970,915</td>\n",
       "      <td>$8,173,996</td>\n",
       "      <td>$239,351,532</td>\n",
       "      <td>145970915</td>\n",
       "      <td>154686521</td>\n",
       "    </tr>\n",
       "    <tr>\n",
       "      <th>2</th>\n",
       "      <td>2020/2021</td>\n",
       "      <td>PDF</td>\n",
       "      <td>$162,886,686</td>\n",
       "      <td>$111,839,819</td>\n",
       "      <td>$50,861,811</td>\n",
       "      <td>$231,177,536</td>\n",
       "      <td>111839819</td>\n",
       "      <td>162886686</td>\n",
       "    </tr>\n",
       "    <tr>\n",
       "      <th>3</th>\n",
       "      <td>2019/2020</td>\n",
       "      <td>PDF</td>\n",
       "      <td>$129,234,327</td>\n",
       "      <td>$112,489,397</td>\n",
       "      <td>$14,674,300</td>\n",
       "      <td>$180,315,725</td>\n",
       "      <td>112489397</td>\n",
       "      <td>129234327</td>\n",
       "    </tr>\n",
       "    <tr>\n",
       "      <th>4</th>\n",
       "      <td>2018/2019</td>\n",
       "      <td>PDF</td>\n",
       "      <td>$120,067,266</td>\n",
       "      <td>$91,414,010</td>\n",
       "      <td>$30,691,855</td>\n",
       "      <td>$165,641,425</td>\n",
       "      <td>91414010</td>\n",
       "      <td>120067266</td>\n",
       "    </tr>\n",
       "  </tbody>\n",
       "</table>\n",
       "</div>"
      ],
      "text/plain": [
       "        Year Source       Revenue      Expenses   Asset rise  \\\n",
       "0  2022/2023    PDF  $180,174,103  $169,095,381  $15,619,804   \n",
       "1  2021/2022    PDF  $154,686,521  $145,970,915   $8,173,996   \n",
       "2  2020/2021    PDF  $162,886,686  $111,839,819  $50,861,811   \n",
       "3  2019/2020    PDF  $129,234,327  $112,489,397  $14,674,300   \n",
       "4  2018/2019    PDF  $120,067,266   $91,414,010  $30,691,855   \n",
       "\n",
       "  Net assets at end of year        Exp        Rev  \n",
       "0              $254,971,336  169095381  180174103  \n",
       "1              $239,351,532  145970915  154686521  \n",
       "2              $231,177,536  111839819  162886686  \n",
       "3              $180,315,725  112489397  129234327  \n",
       "4              $165,641,425   91414010  120067266  "
      ]
     },
     "execution_count": 14,
     "metadata": {},
     "output_type": "execute_result"
    }
   ],
   "source": [
    "# revenue : remove dollar sign and replace comma\n",
    "fundraising['Rev'] = fundraising['Revenue'].str[1:]\n",
    "fundraising['Rev'] = fundraising['Rev'].str.replace(',','')\n",
    "fundraising['Rev'] = pd.to_numeric(fundraising['Rev'])\n",
    "fundraising.head()"
   ]
  },
  {
   "cell_type": "code",
   "execution_count": 15,
   "id": "9e170a0e",
   "metadata": {},
   "outputs": [
    {
     "data": {
      "text/html": [
       "<div>\n",
       "<style scoped>\n",
       "    .dataframe tbody tr th:only-of-type {\n",
       "        vertical-align: middle;\n",
       "    }\n",
       "\n",
       "    .dataframe tbody tr th {\n",
       "        vertical-align: top;\n",
       "    }\n",
       "\n",
       "    .dataframe thead th {\n",
       "        text-align: right;\n",
       "    }\n",
       "</style>\n",
       "<table border=\"1\" class=\"dataframe\">\n",
       "  <thead>\n",
       "    <tr style=\"text-align: right;\">\n",
       "      <th></th>\n",
       "      <th>Year</th>\n",
       "      <th>Source</th>\n",
       "      <th>Revenue</th>\n",
       "      <th>Expenses</th>\n",
       "      <th>Asset rise</th>\n",
       "      <th>Net assets at end of year</th>\n",
       "      <th>Exp</th>\n",
       "      <th>Rev</th>\n",
       "    </tr>\n",
       "  </thead>\n",
       "  <tbody>\n",
       "    <tr>\n",
       "      <th>0</th>\n",
       "      <td>2022/2023</td>\n",
       "      <td>PDF</td>\n",
       "      <td>$180,174,103</td>\n",
       "      <td>$169,095,381</td>\n",
       "      <td>$15,619,804</td>\n",
       "      <td>$254,971,336</td>\n",
       "      <td>169095381</td>\n",
       "      <td>spam</td>\n",
       "    </tr>\n",
       "    <tr>\n",
       "      <th>1</th>\n",
       "      <td>2021/2022</td>\n",
       "      <td>PDF</td>\n",
       "      <td>$154,686,521</td>\n",
       "      <td>$145,970,915</td>\n",
       "      <td>$8,173,996</td>\n",
       "      <td>$239,351,532</td>\n",
       "      <td>145970915</td>\n",
       "      <td>154686521</td>\n",
       "    </tr>\n",
       "    <tr>\n",
       "      <th>2</th>\n",
       "      <td>2020/2021</td>\n",
       "      <td>PDF</td>\n",
       "      <td>$162,886,686</td>\n",
       "      <td>$111,839,819</td>\n",
       "      <td>$50,861,811</td>\n",
       "      <td>$231,177,536</td>\n",
       "      <td>111839819</td>\n",
       "      <td>162886686</td>\n",
       "    </tr>\n",
       "    <tr>\n",
       "      <th>3</th>\n",
       "      <td>2019/2020</td>\n",
       "      <td>PDF</td>\n",
       "      <td>$129,234,327</td>\n",
       "      <td>$112,489,397</td>\n",
       "      <td>$14,674,300</td>\n",
       "      <td>$180,315,725</td>\n",
       "      <td>112489397</td>\n",
       "      <td>129234327</td>\n",
       "    </tr>\n",
       "    <tr>\n",
       "      <th>4</th>\n",
       "      <td>2018/2019</td>\n",
       "      <td>PDF</td>\n",
       "      <td>$120,067,266</td>\n",
       "      <td>$91,414,010</td>\n",
       "      <td>$30,691,855</td>\n",
       "      <td>$165,641,425</td>\n",
       "      <td>91414010</td>\n",
       "      <td>120067266</td>\n",
       "    </tr>\n",
       "  </tbody>\n",
       "</table>\n",
       "</div>"
      ],
      "text/plain": [
       "        Year Source       Revenue      Expenses   Asset rise  \\\n",
       "0  2022/2023    PDF  $180,174,103  $169,095,381  $15,619,804   \n",
       "1  2021/2022    PDF  $154,686,521  $145,970,915   $8,173,996   \n",
       "2  2020/2021    PDF  $162,886,686  $111,839,819  $50,861,811   \n",
       "3  2019/2020    PDF  $129,234,327  $112,489,397  $14,674,300   \n",
       "4  2018/2019    PDF  $120,067,266   $91,414,010  $30,691,855   \n",
       "\n",
       "  Net assets at end of year        Exp        Rev  \n",
       "0              $254,971,336  169095381       spam  \n",
       "1              $239,351,532  145970915  154686521  \n",
       "2              $231,177,536  111839819  162886686  \n",
       "3              $180,315,725  112489397  129234327  \n",
       "4              $165,641,425   91414010  120067266  "
      ]
     },
     "execution_count": 15,
     "metadata": {},
     "output_type": "execute_result"
    }
   ],
   "source": [
    "# manipulate\n",
    "fundraising.loc[0, \"Rev\"] = 'spam'\n",
    "fundraising.head()"
   ]
  },
  {
   "cell_type": "markdown",
   "id": "f77f147d",
   "metadata": {},
   "source": [
    "**N.B:** If you then convert from object to numeric, it will raise an error."
   ]
  },
  {
   "cell_type": "code",
   "execution_count": 16,
   "id": "e60b9664",
   "metadata": {},
   "outputs": [],
   "source": [
    "# dealing with the error\n",
    "# error='coerce' will change unparse value to NaN\n",
    "fundraising['Rev'] = pd.to_numeric(fundraising['Rev'], errors='coerce')"
   ]
  },
  {
   "cell_type": "code",
   "execution_count": 17,
   "id": "32d264d0",
   "metadata": {},
   "outputs": [
    {
     "data": {
      "text/plain": [
       "0            NaN\n",
       "1    154686521.0\n",
       "2    162886686.0\n",
       "3    129234327.0\n",
       "4    120067266.0\n",
       "Name: Rev, dtype: float64"
      ]
     },
     "execution_count": 17,
     "metadata": {},
     "output_type": "execute_result"
    }
   ],
   "source": [
    "fundraising['Rev'].head()"
   ]
  },
  {
   "cell_type": "code",
   "execution_count": 18,
   "id": "43d307b3",
   "metadata": {},
   "outputs": [
    {
     "data": {
      "text/plain": [
       "0            NaN\n",
       "1    154686521.0\n",
       "2    162886686.0\n",
       "3    129234327.0\n",
       "4    120067266.0\n",
       "Name: Rev, dtype: float64"
      ]
     },
     "execution_count": 18,
     "metadata": {},
     "output_type": "execute_result"
    }
   ],
   "source": [
    "fundraising['Rev'].iloc[0:5]"
   ]
  }
 ],
 "metadata": {
  "kernelspec": {
   "display_name": "Python 3 (ipykernel)",
   "language": "python",
   "name": "python3"
  },
  "language_info": {
   "codemirror_mode": {
    "name": "ipython",
    "version": 3
   },
   "file_extension": ".py",
   "mimetype": "text/x-python",
   "name": "python",
   "nbconvert_exporter": "python",
   "pygments_lexer": "ipython3",
   "version": "3.9.13"
  }
 },
 "nbformat": 4,
 "nbformat_minor": 5
}
