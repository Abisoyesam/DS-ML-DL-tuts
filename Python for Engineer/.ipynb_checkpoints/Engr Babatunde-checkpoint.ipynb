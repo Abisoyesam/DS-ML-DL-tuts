{
 "cells": [
  {
   "cell_type": "code",
   "execution_count": 1,
   "id": "f15a5dd8",
   "metadata": {},
   "outputs": [],
   "source": [
    "import numpy as np\n",
    "import matplotlib.pyplot as plt"
   ]
  },
  {
   "cell_type": "code",
   "execution_count": 24,
   "id": "853b43a3",
   "metadata": {},
   "outputs": [],
   "source": [
    "R_p = np.array([5,25,50])\n",
    "rho_p = 2100\n",
    "g = 9.81\n",
    "d_p = np.array([10,50,100])\n",
    "rho_f = 2710\n",
    "c_a = 0.55\n",
    "Urf = 0.25 #np.array([0.25,0.052, 0.073])\n",
    "n = 1200\n",
    "dt = np.array([0.025,0.05,0.75,1.0])\n",
    "w = np.array([200,250,300,350]) # omega\n",
    "H = 2.25\n",
    "m = 0.0125 # mue"
   ]
  },
  {
   "cell_type": "code",
   "execution_count": 4,
   "id": "9843cce0",
   "metadata": {},
   "outputs": [],
   "source": [
    "t = n*dt\n"
   ]
  },
  {
   "cell_type": "code",
   "execution_count": 62,
   "id": "105a9155",
   "metadata": {},
   "outputs": [],
   "source": [
    "Dp = np.linspace(0.1,10)"
   ]
  },
  {
   "cell_type": "code",
   "execution_count": 63,
   "id": "6afc9288",
   "metadata": {},
   "outputs": [
    {
     "data": {
      "text/plain": [
       "array([ 0.1       ,  0.30204082,  0.50408163,  0.70612245,  0.90816327,\n",
       "        1.11020408,  1.3122449 ,  1.51428571,  1.71632653,  1.91836735,\n",
       "        2.12040816,  2.32244898,  2.5244898 ,  2.72653061,  2.92857143,\n",
       "        3.13061224,  3.33265306,  3.53469388,  3.73673469,  3.93877551,\n",
       "        4.14081633,  4.34285714,  4.54489796,  4.74693878,  4.94897959,\n",
       "        5.15102041,  5.35306122,  5.55510204,  5.75714286,  5.95918367,\n",
       "        6.16122449,  6.36326531,  6.56530612,  6.76734694,  6.96938776,\n",
       "        7.17142857,  7.37346939,  7.5755102 ,  7.77755102,  7.97959184,\n",
       "        8.18163265,  8.38367347,  8.58571429,  8.7877551 ,  8.98979592,\n",
       "        9.19183673,  9.39387755,  9.59591837,  9.79795918, 10.        ])"
      ]
     },
     "execution_count": 63,
     "metadata": {},
     "output_type": "execute_result"
    }
   ],
   "source": [
    "Dp"
   ]
  },
  {
   "cell_type": "markdown",
   "id": "aab0473c",
   "metadata": {},
   "source": [
    "$${\\Large Re = \\dfrac{\\rho d_p U_{rf}}{\\mu}}$$"
   ]
  },
  {
   "cell_type": "code",
   "execution_count": 55,
   "id": "080b31ef",
   "metadata": {},
   "outputs": [],
   "source": [
    "frst = Dp*rho_f\n",
    "sec = Urf*frst\n",
    "Re = sec/m"
   ]
  },
  {
   "cell_type": "code",
   "execution_count": 47,
   "id": "d85ad31f",
   "metadata": {},
   "outputs": [],
   "source": [
    "Re = np.linspace(0.1,10,10000)"
   ]
  },
  {
   "cell_type": "markdown",
   "id": "a2b6d229",
   "metadata": {},
   "source": [
    "$${\\Large C_d = \\dfrac{24}{Re}(1 + (0.15Re^{0.687}))}$$"
   ]
  },
  {
   "cell_type": "code",
   "execution_count": 64,
   "id": "79d08769",
   "metadata": {},
   "outputs": [],
   "source": [
    "Cd = []\n",
    "for i in Re:\n",
    "    cd = (24/i) * (1 + (0.15*(i**0.687)))\n",
    "    Cd.append(cd)"
   ]
  },
  {
   "cell_type": "code",
   "execution_count": 66,
   "id": "2d54ae5f",
   "metadata": {},
   "outputs": [
    {
     "data": {
      "image/png": "[encoded data removed]",
      "text/plain": [
       "<Figure size 432x288 with 1 Axes>"
      ]
     },
     "metadata": {
      "needs_background": "light"
     },
     "output_type": "display_data"
    }
   ],
   "source": [
    "plt.plot(Re,Cd);"
   ]
  },
  {
   "cell_type": "markdown",
   "id": "b8146e7f",
   "metadata": {},
   "source": [
    "$${\\Large a = \\dfrac{4}{3}\\pi R_p^3 {\\Large \\rho}_p}$$"
   ]
  },
  {
   "cell_type": "code",
   "execution_count": null,
   "id": "27a914fd",
   "metadata": {},
   "outputs": [],
   "source": []
  },
  {
   "cell_type": "code",
   "execution_count": null,
   "id": "3499c640",
   "metadata": {},
   "outputs": [],
   "source": []
  },
  {
   "cell_type": "code",
   "execution_count": null,
   "id": "a6fbffe0",
   "metadata": {},
   "outputs": [],
   "source": []
  },
  {
   "cell_type": "code",
   "execution_count": null,
   "id": "c9d43e52",
   "metadata": {},
   "outputs": [],
   "source": []
  },
  {
   "cell_type": "code",
   "execution_count": null,
   "id": "21b7f425",
   "metadata": {},
   "outputs": [],
   "source": []
  },
  {
   "cell_type": "markdown",
   "id": "459e6c9e",
   "metadata": {},
   "source": [
    "$${\\Large b =  \\dfrac{1}{6}\\pi d_p^3 {\\Large \\rho}_f C_a}$$"
   ]
  },
  {
   "cell_type": "code",
   "execution_count": null,
   "id": "0e4b372c",
   "metadata": {},
   "outputs": [],
   "source": []
  },
  {
   "cell_type": "code",
   "execution_count": null,
   "id": "2086716c",
   "metadata": {},
   "outputs": [],
   "source": []
  },
  {
   "cell_type": "code",
   "execution_count": null,
   "id": "abd40376",
   "metadata": {},
   "outputs": [],
   "source": []
  },
  {
   "cell_type": "code",
   "execution_count": null,
   "id": "11856fd1",
   "metadata": {},
   "outputs": [],
   "source": []
  },
  {
   "cell_type": "code",
   "execution_count": null,
   "id": "75806da9",
   "metadata": {},
   "outputs": [],
   "source": []
  },
  {
   "cell_type": "markdown",
   "id": "83d1ae52",
   "metadata": {},
   "source": [
    "$${\\Large c = \\dfrac{4}{3}\\pi R_p {\\Large \\rho}_p g}$$"
   ]
  },
  {
   "cell_type": "code",
   "execution_count": null,
   "id": "59943234",
   "metadata": {},
   "outputs": [],
   "source": []
  },
  {
   "cell_type": "code",
   "execution_count": null,
   "id": "90db0135",
   "metadata": {},
   "outputs": [],
   "source": []
  },
  {
   "cell_type": "code",
   "execution_count": null,
   "id": "1aa98129",
   "metadata": {},
   "outputs": [],
   "source": []
  },
  {
   "cell_type": "code",
   "execution_count": null,
   "id": "3af1f7a9",
   "metadata": {},
   "outputs": [],
   "source": []
  },
  {
   "cell_type": "code",
   "execution_count": null,
   "id": "b057b4fb",
   "metadata": {},
   "outputs": [],
   "source": []
  },
  {
   "cell_type": "markdown",
   "id": "a7ec282b",
   "metadata": {},
   "source": [
    "$${\\Large d = \\dfrac{1}{6} \\pi d_p^3 \\left(\\dfrac{{\\large \\rho}_p}{{\\large \\rho}_f} - 1 \\right) g}$$"
   ]
  },
  {
   "cell_type": "code",
   "execution_count": null,
   "id": "473acd39",
   "metadata": {},
   "outputs": [],
   "source": []
  },
  {
   "cell_type": "code",
   "execution_count": null,
   "id": "f3d7825f",
   "metadata": {},
   "outputs": [],
   "source": []
  },
  {
   "cell_type": "code",
   "execution_count": null,
   "id": "443b804d",
   "metadata": {},
   "outputs": [],
   "source": []
  },
  {
   "cell_type": "code",
   "execution_count": null,
   "id": "c00b5ede",
   "metadata": {},
   "outputs": [],
   "source": []
  },
  {
   "cell_type": "code",
   "execution_count": null,
   "id": "33ba7679",
   "metadata": {},
   "outputs": [],
   "source": []
  },
  {
   "cell_type": "markdown",
   "id": "2c6dff25",
   "metadata": {},
   "source": [
    "$${\\Large e = \\dfrac{1}{8} \\pi d_p^2 {\\large \\rho}_f C_d U_{rf}^2 t^2}$$"
   ]
  },
  {
   "cell_type": "code",
   "execution_count": null,
   "id": "a28fb653",
   "metadata": {},
   "outputs": [],
   "source": []
  },
  {
   "cell_type": "code",
   "execution_count": null,
   "id": "3143abfe",
   "metadata": {},
   "outputs": [],
   "source": []
  },
  {
   "cell_type": "code",
   "execution_count": null,
   "id": "d24672cb",
   "metadata": {},
   "outputs": [],
   "source": []
  },
  {
   "cell_type": "code",
   "execution_count": null,
   "id": "2bb86eff",
   "metadata": {},
   "outputs": [],
   "source": []
  },
  {
   "cell_type": "code",
   "execution_count": null,
   "id": "ae19177e",
   "metadata": {},
   "outputs": [],
   "source": []
  },
  {
   "cell_type": "markdown",
   "id": "cf253bb9",
   "metadata": {},
   "source": [
    "$${\\Large f = \\pi {\\large \\rho}_f R_{pq}^2 \\omega \\dfrac{Ht}{dp}}$$"
   ]
  },
  {
   "cell_type": "code",
   "execution_count": null,
   "id": "f0f91a01",
   "metadata": {},
   "outputs": [],
   "source": []
  },
  {
   "cell_type": "code",
   "execution_count": null,
   "id": "928ef0a6",
   "metadata": {},
   "outputs": [],
   "source": []
  },
  {
   "cell_type": "code",
   "execution_count": null,
   "id": "6b89a149",
   "metadata": {},
   "outputs": [],
   "source": []
  },
  {
   "cell_type": "code",
   "execution_count": null,
   "id": "d0612149",
   "metadata": {},
   "outputs": [],
   "source": []
  },
  {
   "cell_type": "code",
   "execution_count": null,
   "id": "fc3e6ebb",
   "metadata": {},
   "outputs": [],
   "source": []
  }
 ],
 "metadata": {
  "kernelspec": {
   "display_name": "Python 3",
   "language": "python",
   "name": "python3"
  },
  "language_info": {
   "codemirror_mode": {
    "name": "ipython",
    "version": 3
   },
   "file_extension": ".py",
   "mimetype": "text/x-python",
   "name": "python",
   "nbconvert_exporter": "python",
   "pygments_lexer": "ipython3",
   "version": "3.8.8"
  }
 },
 "nbformat": 4,
 "nbformat_minor": 5
}
