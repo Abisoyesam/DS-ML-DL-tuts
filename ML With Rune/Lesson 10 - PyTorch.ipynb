{
 "cells": [
  {
   "cell_type": "markdown",
   "id": "dd7666c4",
   "metadata": {},
   "source": [
    "# PyTorch\n",
    "<hr>\n",
    "\n",
    "## PyTorch Vs Tensorflow\n",
    "- PyTorch and Tensorflow are the most popular Deep Learning framwork\n",
    "- PyTorch was released in 2016 by Facebook's AI Research Lab\n",
    "- Tensorflow was released in 2015 by Google Brain Team"
   ]
  },
  {
   "cell_type": "markdown",
   "id": "de66f6bf",
   "metadata": {},
   "source": [
    "### Look at the dataset\n",
    "\n",
    "- PyTorch comes with a long list of prepared datasets ([see all here](https://pytorch.org/vision/0.8/datasets.html)).\n",
    "- We will cover\n",
    "    - [MNIST](https://en.wikipedia.org/wiki/MNIST_database) A datasets for handwritten digit-recognition.\n",
    "    - [CIFAR10](https://en.wikipedia.org/wiki/CIFAR-10) A dataset of 32x32 images of 10 classes\n",
    "- Datasets can be downloaded with **torchvision**\n",
    "\n",
    "``` Python\n",
    "from torchvision import datasets\n",
    "\n",
    "data_path = 'downloads/'\n",
    "mnist = datasets.MNIST(data_path, train=True, download=True)\n",
    "```\n",
    "\n",
    "### Transforming and Normalizing\n",
    "- Images are PIL\n",
    "- Need to be transformed to tensor\n",
    "    - **torchvision** has transformations **transform.ToTensor()**, which turns NumPy arrays and PIL to Tensor\n",
    "- Then we need to normalize images\n",
    "    - Need to determine the **mean** value and the **standard deviation**\n",
    "- Then we can apply nomalization\n",
    "    - **torchvision** has **transform.Normalize**, which takes **mean** and **standard deviation**\n",
    "    \n",
    "### Training the model\n",
    "![img](./images/mnist_nn.PNG)\n",
    "\n",
    "###"
   ]
  }
 ],
 "metadata": {
  "kernelspec": {
   "display_name": "Python 3 (ipykernel)",
   "language": "python",
   "name": "python3"
  },
  "language_info": {
   "codemirror_mode": {
    "name": "ipython",
    "version": 3
   },
   "file_extension": ".py",
   "mimetype": "text/x-python",
   "name": "python",
   "nbconvert_exporter": "python",
   "pygments_lexer": "ipython3",
   "version": "3.9.13"
  }
 },
 "nbformat": 4,
 "nbformat_minor": 5
}
