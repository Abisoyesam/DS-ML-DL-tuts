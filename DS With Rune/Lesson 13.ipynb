{
 "cells": [
  {
   "cell_type": "markdown",
   "id": "5abae0b7",
   "metadata": {},
   "source": [
    "# Feature Scaling\n",
    "\n",
    "<hr>\n",
    "\n",
    "- **Feature Scaling:** transforms values in the similiar range for machine learnig algorithm to behave optimal.\n",
    "\n",
    "## Feature Scaling Techniques\n",
    "- **Normalization:** is a special case of **MinMaxScaler**\n",
    "    - Normalization converts values between `0 - 1`.\n",
    "    \n",
    "    $$\\dfrac{values - values.min()}{values.max()} - values.min()$$\n",
    "    - **MinMaxScaler:** Between any values.\n",
    "    \n",
    "    \n",
    "- **Stardardization (StandarddScalar** from sklearn)\n",
    "    - Mean: 0; StdDev: 1\n",
    "    \n",
    "    $$\\dfrac{values - values.mean()}{values.std()}$$\n",
    "    - Less sensitive to outliers"
   ]
  },
  {
   "cell_type": "markdown",
   "id": "84d0b8ff",
   "metadata": {},
   "source": [
    "<hr>\n",
    "\n",
    "## Machine Learning Algorithm\n",
    "- Some algorithms are more sensitive than other"
   ]
  }
 ],
 "metadata": {
  "kernelspec": {
   "display_name": "Python 3 (ipykernel)",
   "language": "python",
   "name": "python3"
  },
  "language_info": {
   "codemirror_mode": {
    "name": "ipython",
    "version": 3
   },
   "file_extension": ".py",
   "mimetype": "text/x-python",
   "name": "python",
   "nbconvert_exporter": "python",
   "pygments_lexer": "ipython3",
   "version": "3.9.13"
  }
 },
 "nbformat": 4,
 "nbformat_minor": 5
}
