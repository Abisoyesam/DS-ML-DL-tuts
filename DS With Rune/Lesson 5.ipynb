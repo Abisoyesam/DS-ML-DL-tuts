{
 "cells": [
  {
   "cell_type": "markdown",
   "id": "c073d2c3",
   "metadata": {},
   "source": [
    "# Lesson 5: Web Scraping\n",
    "\n",
    "<hr>\n",
    "\n",
    "## Acquire Data\n",
    "**Common Data Sources are:**\n",
    "* The internet - Web Scraping\n",
    "* Database\n",
    "* CSV, Excel file\n",
    "* Parquet\n",
    "\n",
    "### Web Scraping\n",
    "Extracting data from websites.\n",
    "\n",
    "**Be ethical**\n",
    "* Do not use for commercial use\n",
    "* Only for private use"
   ]
  },
  {
   "cell_type": "code",
   "execution_count": 1,
   "id": "23209caa",
   "metadata": {},
   "outputs": [],
   "source": [
    "import pandas as pd"
   ]
  },
  {
   "cell_type": "code",
   "execution_count": 2,
   "id": "e00e6918",
   "metadata": {},
   "outputs": [],
   "source": [
    "# get the web url\n",
    "url = \"https://en.wikipedia.org/wiki/Wikipedia:Fundraising_statistics\""
   ]
  },
  {
   "cell_type": "code",
   "execution_count": null,
   "id": "d3c6f4ab",
   "metadata": {},
   "outputs": [],
   "source": [
    "# read the data\n",
    "data = pd.read_html(url)"
   ]
  },
  {
   "cell_type": "code",
   "execution_count": null,
   "id": "da739780",
   "metadata": {},
   "outputs": [],
   "source": [
    "type(data)"
   ]
  },
  {
   "cell_type": "code",
   "execution_count": null,
   "id": "7c0d4d10",
   "metadata": {},
   "outputs": [],
   "source": [
    "type(data[0])"
   ]
  },
  {
   "cell_type": "code",
   "execution_count": null,
   "id": "df22415d",
   "metadata": {},
   "outputs": [],
   "source": [
    "len(data)"
   ]
  },
  {
   "cell_type": "code",
   "execution_count": null,
   "id": "72331541",
   "metadata": {},
   "outputs": [],
   "source": [
    "data[0].head()"
   ]
  },
  {
   "cell_type": "code",
   "execution_count": null,
   "id": "9eafcd9f",
   "metadata": {},
   "outputs": [],
   "source": [
    "fundraising = data[0]"
   ]
  },
  {
   "cell_type": "markdown",
   "id": "1711635b",
   "metadata": {},
   "source": [
    "<hr>\n",
    "\n",
    "### Data Wrangling\n",
    "* **Data wrangling:** transforming and mapping data from one 'raw' data form into another format.\n",
    "* With the intent of making it more appropriate and valuable for a variety of downstream purposes such as analytics."
   ]
  },
  {
   "cell_type": "code",
   "execution_count": null,
   "id": "a6b46814",
   "metadata": {},
   "outputs": [],
   "source": [
    "fundraising.dtype"
   ]
  },
  {
   "cell_type": "code",
   "execution_count": null,
   "id": "7ef29a85",
   "metadata": {},
   "outputs": [],
   "source": [
    "# remove the dollar sign\n",
    "fundraising['Exp'] = fundraising['Expenses'].str[2:]\n",
    "fundraising.head()"
   ]
  },
  {
   "cell_type": "code",
   "execution_count": null,
   "id": "36fa0282",
   "metadata": {},
   "outputs": [],
   "source": [
    "# replace the comma\n",
    "fundraising['Exp'] = fundraising['Exp'].str.replace[',','']\n",
    "# convert the object to integer\n",
    "fundraising['Exp'] = pd.to_numeric(fundraising['Exp'])"
   ]
  },
  {
   "cell_type": "code",
   "execution_count": null,
   "id": "6a171bb0",
   "metadata": {},
   "outputs": [],
   "source": [
    "fundraising.dtype"
   ]
  },
  {
   "cell_type": "code",
   "execution_count": null,
   "id": "e6beeb81",
   "metadata": {},
   "outputs": [],
   "source": [
    "# revenue\n",
    "fundraising['Rev'] = fundraising['Revenue'].str[2:]\n",
    "fundraising['Rev'] = fundraising['Revenue'].str.replace[',','']\n",
    "fundraising.head()"
   ]
  },
  {
   "cell_type": "code",
   "execution_count": null,
   "id": "9e170a0e",
   "metadata": {},
   "outputs": [],
   "source": [
    "# manipulate\n",
    "fundraising.loc[0, \"Rev\"] = 'spam'\n",
    "fundraising.head()"
   ]
  },
  {
   "cell_type": "markdown",
   "id": "f77f147d",
   "metadata": {},
   "source": [
    "**N.B:** If you then convert from object to numeric, it will raise an error."
   ]
  },
  {
   "cell_type": "code",
   "execution_count": null,
   "id": "e60b9664",
   "metadata": {},
   "outputs": [],
   "source": [
    "# dealing with the error\n",
    "# error='coerce' will change unparse value to NaN\n",
    "fundraising['Rev'] = pd.to_numeric(fundraising['Rev'], errors='coerce')"
   ]
  },
  {
   "cell_type": "code",
   "execution_count": null,
   "id": "32d264d0",
   "metadata": {},
   "outputs": [],
   "source": []
  }
 ],
 "metadata": {
  "kernelspec": {
   "display_name": "Python 3 (ipykernel)",
   "language": "python",
   "name": "python3"
  },
  "language_info": {
   "codemirror_mode": {
    "name": "ipython",
    "version": 3
   },
   "file_extension": ".py",
   "mimetype": "text/x-python",
   "name": "python",
   "nbconvert_exporter": "python",
   "pygments_lexer": "ipython3",
   "version": "3.9.13"
  }
 },
 "nbformat": 4,
 "nbformat_minor": 5
}
