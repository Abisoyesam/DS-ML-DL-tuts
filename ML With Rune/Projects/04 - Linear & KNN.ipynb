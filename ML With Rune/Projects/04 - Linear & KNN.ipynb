{
 "cells": [
  {
   "cell_type": "markdown",
   "id": "6924de2c",
   "metadata": {},
   "source": [
    "# Classify House Prices\n",
    "- Put houses in price groups and try to predict based on Latitude and Longitude\n",
    "- To show if the area is a good indicator of the house unit price"
   ]
  },
  {
   "cell_type": "code",
   "execution_count": null,
   "id": "546f00a7",
   "metadata": {},
   "outputs": [],
   "source": []
  }
 ],
 "metadata": {
  "kernelspec": {
   "display_name": "Python 3 (ipykernel)",
   "language": "python",
   "name": "python3"
  },
  "language_info": {
   "codemirror_mode": {
    "name": "ipython",
    "version": 3
   },
   "file_extension": ".py",
   "mimetype": "text/x-python",
   "name": "python",
   "nbconvert_exporter": "python",
   "pygments_lexer": "ipython3",
   "version": "3.9.13"
  }
 },
 "nbformat": 4,
 "nbformat_minor": 5
}
