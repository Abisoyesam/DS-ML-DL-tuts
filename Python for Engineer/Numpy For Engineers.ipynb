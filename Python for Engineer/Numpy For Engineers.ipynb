{
 "cells": [
  {
   "cell_type": "code",
   "execution_count": 1,
   "id": "0c4ec953",
   "metadata": {},
   "outputs": [],
   "source": [
    "import numpy as np\n",
    "import matplotlib.pyplot as plt"
   ]
  },
  {
   "cell_type": "markdown",
   "id": "e92669aa",
   "metadata": {},
   "source": [
    "## Creating an Array"
   ]
  },
  {
   "cell_type": "code",
   "execution_count": 2,
   "id": "678a5f4a",
   "metadata": {},
   "outputs": [
    {
     "data": {
      "text/plain": [
       "array([2, 4, 5, 7, 9])"
      ]
     },
     "execution_count": 2,
     "metadata": {},
     "output_type": "execute_result"
    }
   ],
   "source": [
    "arr = np.array([2,4,5,7,9])\n",
    "arr"
   ]
  },
  {
   "cell_type": "code",
   "execution_count": 3,
   "id": "21006290",
   "metadata": {},
   "outputs": [
    {
     "data": {
      "text/plain": [
       "array([0., 0., 0., 0., 0., 0., 0., 0., 0., 0.])"
      ]
     },
     "execution_count": 3,
     "metadata": {},
     "output_type": "execute_result"
    }
   ],
   "source": [
    "# array of zeros\n",
    "\n",
    "arr1 = np.zeros(10)\n",
    "arr1"
   ]
  },
  {
   "cell_type": "code",
   "execution_count": 4,
   "id": "b61556fb",
   "metadata": {},
   "outputs": [
    {
     "data": {
      "text/plain": [
       "array([1., 1., 1., 1., 1.])"
      ]
     },
     "execution_count": 4,
     "metadata": {},
     "output_type": "execute_result"
    }
   ],
   "source": [
    "# arrays of ones\n",
    "\n",
    "arr2 = np.ones(5)\n",
    "arr2"
   ]
  },
  {
   "cell_type": "code",
   "execution_count": 5,
   "id": "15fbaec6",
   "metadata": {},
   "outputs": [
    {
     "data": {
      "text/plain": [
       "array([0.35044627, 0.75208632, 0.79929864, 0.8768798 , 0.72391423,\n",
       "       0.04353564, 0.09977305, 0.45871943, 0.52657174, 0.41237338])"
      ]
     },
     "execution_count": 5,
     "metadata": {},
     "output_type": "execute_result"
    }
   ],
   "source": [
    "# random arrays between zeros and ones\n",
    "\n",
    "arr3 = np.random.random(10)\n",
    "arr3"
   ]
  },
  {
   "cell_type": "code",
   "execution_count": 6,
   "id": "2a4f9f1e",
   "metadata": {},
   "outputs": [
    {
     "data": {
      "text/plain": [
       "array([-0.23830109,  2.79388056,  0.81265724, -0.25674953, -2.24970511,\n",
       "        3.26030831, -1.59279049, -0.37841679,  1.40996924,  1.3705064 ])"
      ]
     },
     "execution_count": 6,
     "metadata": {},
     "output_type": "execute_result"
    }
   ],
   "source": [
    "# Gaussian distribution random\n",
    "\n",
    "gaus = np.random.randn(10)\n",
    "gaus"
   ]
  },
  {
   "cell_type": "code",
   "execution_count": 7,
   "id": "b99ddafa",
   "metadata": {},
   "outputs": [
    {
     "data": {
      "text/plain": [
       "array([ 1,  2,  3,  4,  5,  6,  7,  8,  9, 10])"
      ]
     },
     "execution_count": 7,
     "metadata": {},
     "output_type": "execute_result"
    }
   ],
   "source": [
    "# array from range\n",
    "\n",
    "arr4 = np.array(range(1,11))\n",
    "arr4"
   ]
  },
  {
   "cell_type": "code",
   "execution_count": 8,
   "id": "3dcc69e8",
   "metadata": {},
   "outputs": [
    {
     "data": {
      "text/plain": [
       "array([ 1,  2,  3,  4,  5,  6,  7,  8,  9, 10])"
      ]
     },
     "execution_count": 8,
     "metadata": {},
     "output_type": "execute_result"
    }
   ],
   "source": [
    "# OR\n",
    "\n",
    "range1_10 = np.arange(1,11)\n",
    "range1_10"
   ]
  },
  {
   "cell_type": "code",
   "execution_count": 9,
   "id": "cc8dbb1a",
   "metadata": {},
   "outputs": [],
   "source": [
    "# array from linspace - equally spaced\n",
    "\n",
    "arr5 = np.linspace(1,10,10)"
   ]
  },
  {
   "cell_type": "code",
   "execution_count": 10,
   "id": "4e4c4ab4",
   "metadata": {},
   "outputs": [
    {
     "data": {
      "text/plain": [
       "array([ 1.,  2.,  3.,  4.,  5.,  6.,  7.,  8.,  9., 10.])"
      ]
     },
     "execution_count": 10,
     "metadata": {},
     "output_type": "execute_result"
    }
   ],
   "source": [
    "arr5"
   ]
  },
  {
   "cell_type": "markdown",
   "id": "6bb18339",
   "metadata": {},
   "source": [
    "## Array Operation"
   ]
  },
  {
   "cell_type": "code",
   "execution_count": 11,
   "id": "7b882259",
   "metadata": {},
   "outputs": [
    {
     "data": {
      "text/plain": [
       "array([ 3.,  4.,  5.,  6.,  7.,  8.,  9., 10., 11., 12.])"
      ]
     },
     "execution_count": 11,
     "metadata": {},
     "output_type": "execute_result"
    }
   ],
   "source": [
    "# Addition: It is done element wise\n",
    "\n",
    "2 + arr5"
   ]
  },
  {
   "cell_type": "code",
   "execution_count": 12,
   "id": "af78bc8f",
   "metadata": {},
   "outputs": [
    {
     "data": {
      "text/plain": [
       "array([1.        , 0.5       , 0.33333333, 0.25      , 0.2       ,\n",
       "       0.16666667, 0.14285714, 0.125     , 0.11111111, 0.1       ])"
      ]
     },
     "execution_count": 12,
     "metadata": {},
     "output_type": "execute_result"
    }
   ],
   "source": [
    "# division\n",
    "\n",
    "1 / arr5"
   ]
  },
  {
   "cell_type": "code",
   "execution_count": 13,
   "id": "d6cfbc56",
   "metadata": {},
   "outputs": [
    {
     "data": {
      "text/plain": [
       "array([ 2.,  4.,  6.,  8., 10., 12., 14., 16., 18., 20.])"
      ]
     },
     "execution_count": 13,
     "metadata": {},
     "output_type": "execute_result"
    }
   ],
   "source": [
    "2 * arr5"
   ]
  },
  {
   "cell_type": "code",
   "execution_count": 14,
   "id": "1efea88c",
   "metadata": {},
   "outputs": [
    {
     "data": {
      "text/plain": [
       "array([  1.,   4.,   9.,  16.,  25.,  36.,  49.,  64.,  81., 100.])"
      ]
     },
     "execution_count": 14,
     "metadata": {},
     "output_type": "execute_result"
    }
   ],
   "source": [
    "arr5 * range1_10"
   ]
  },
  {
   "cell_type": "code",
   "execution_count": 15,
   "id": "81678e94",
   "metadata": {},
   "outputs": [
    {
     "data": {
      "text/plain": [
       "array([False, False, False, False, False, False,  True,  True,  True,\n",
       "        True])"
      ]
     },
     "execution_count": 15,
     "metadata": {},
     "output_type": "execute_result"
    }
   ],
   "source": [
    "arr5 > 6"
   ]
  },
  {
   "cell_type": "code",
   "execution_count": 16,
   "id": "ed08b572",
   "metadata": {},
   "outputs": [
    {
     "data": {
      "text/plain": [
       "array([False, False, False,  True,  True])"
      ]
     },
     "execution_count": 16,
     "metadata": {},
     "output_type": "execute_result"
    }
   ],
   "source": [
    "arr > 5"
   ]
  },
  {
   "cell_type": "code",
   "execution_count": 17,
   "id": "b35f3eff",
   "metadata": {},
   "outputs": [],
   "source": [
    "x = np.linspace(1,10,20)\n",
    "y = x**2"
   ]
  },
  {
   "cell_type": "code",
   "execution_count": 18,
   "id": "6461238e",
   "metadata": {},
   "outputs": [
    {
     "data": {
      "image/png": "[encoded data removed]",
      "text/plain": [
       "<Figure size 432x288 with 1 Axes>"
      ]
     },
     "metadata": {
      "needs_background": "light"
     },
     "output_type": "display_data"
    }
   ],
   "source": [
    "plt.plot(x,y);"
   ]
  },
  {
   "cell_type": "code",
   "execution_count": 19,
   "id": "edcbd7e8",
   "metadata": {},
   "outputs": [
    {
     "data": {
      "image/png": "[encoded data removed]",
      "text/plain": [
       "<Figure size 432x288 with 1 Axes>"
      ]
     },
     "metadata": {
      "needs_background": "light"
     },
     "output_type": "display_data"
    }
   ],
   "source": [
    "plt.hist(gaus);"
   ]
  },
  {
   "cell_type": "code",
   "execution_count": 20,
   "id": "35af9265",
   "metadata": {},
   "outputs": [],
   "source": [
    "x = np.linspace(0,10,100)\n",
    "\n",
    "def f(x):\n",
    "    return x**2 * np.sin(x)/np.exp(-x)\n",
    "\n",
    "y = f(x)"
   ]
  },
  {
   "cell_type": "code",
   "execution_count": 21,
   "id": "0b5d9f48",
   "metadata": {},
   "outputs": [
    {
     "data": {
      "image/png": "[encoded data removed]",
      "text/plain": [
       "<Figure size 432x288 with 1 Axes>"
      ]
     },
     "metadata": {
      "needs_background": "light"
     },
     "output_type": "display_data"
    }
   ],
   "source": [
    "plt.plot(x,y);"
   ]
  },
  {
   "cell_type": "markdown",
   "id": "8e77bc49",
   "metadata": {},
   "source": [
    "## Array Indexing/Slicing"
   ]
  },
  {
   "cell_type": "code",
   "execution_count": 22,
   "id": "498cf304",
   "metadata": {},
   "outputs": [
    {
     "data": {
      "text/plain": [
       "array([2, 3, 5, 6, 7, 9])"
      ]
     },
     "execution_count": 22,
     "metadata": {},
     "output_type": "execute_result"
    }
   ],
   "source": [
    "# Boolean indexing\n",
    "\n",
    "a1 = np.array([2,3,5,6,7,9])\n",
    "a1"
   ]
  },
  {
   "cell_type": "code",
   "execution_count": 23,
   "id": "5e21740b",
   "metadata": {},
   "outputs": [
    {
     "data": {
      "text/plain": [
       "array([5, 6, 7, 9])"
      ]
     },
     "execution_count": 23,
     "metadata": {},
     "output_type": "execute_result"
    }
   ],
   "source": [
    "a1[a1>3]"
   ]
  },
  {
   "cell_type": "code",
   "execution_count": 24,
   "id": "e29ae784",
   "metadata": {},
   "outputs": [],
   "source": [
    "names = np.array([\"Abisoye\", \"Adeola\", \"Bisola\", \"Samson\", \"Rachael\", \"Hannah\", \"Akinloye\"])"
   ]
  },
  {
   "cell_type": "code",
   "execution_count": 25,
   "id": "999522ac",
   "metadata": {},
   "outputs": [
    {
     "data": {
      "text/plain": [
       "'A'"
      ]
     },
     "execution_count": 25,
     "metadata": {},
     "output_type": "execute_result"
    }
   ],
   "source": [
    "# function to get first letter of a word\n",
    "\n",
    "f = lambda i : i[0]\n",
    "f(\"Akinloye\")"
   ]
  },
  {
   "cell_type": "code",
   "execution_count": 26,
   "id": "139d7757",
   "metadata": {},
   "outputs": [
    {
     "data": {
      "text/plain": [
       "'Abisoye'"
      ]
     },
     "execution_count": 26,
     "metadata": {},
     "output_type": "execute_result"
    }
   ],
   "source": [
    "(lambda i : i[0])(names)"
   ]
  },
  {
   "cell_type": "code",
   "execution_count": 27,
   "id": "17900824",
   "metadata": {},
   "outputs": [
    {
     "data": {
      "text/plain": [
       "array(['A', 'A', 'B', 'S', 'R', 'H', 'A'], dtype='<U1')"
      ]
     },
     "execution_count": 27,
     "metadata": {},
     "output_type": "execute_result"
    }
   ],
   "source": [
    "# np.vectorize acts like loop\n",
    "\n",
    "np.vectorize(lambda i : i[0])(names)"
   ]
  },
  {
   "cell_type": "code",
   "execution_count": 28,
   "id": "9b359545",
   "metadata": {},
   "outputs": [],
   "source": [
    "first_letter_A = np.vectorize(lambda i : i[0])(names) == \"A\""
   ]
  },
  {
   "cell_type": "code",
   "execution_count": 29,
   "id": "c7b21df7",
   "metadata": {},
   "outputs": [
    {
     "data": {
      "text/plain": [
       "array([ True,  True, False, False, False, False,  True])"
      ]
     },
     "execution_count": 29,
     "metadata": {},
     "output_type": "execute_result"
    }
   ],
   "source": [
    "first_letter_A"
   ]
  },
  {
   "cell_type": "code",
   "execution_count": 30,
   "id": "67112ab9",
   "metadata": {},
   "outputs": [
    {
     "data": {
      "text/plain": [
       "array(['Abisoye', 'Adeola', 'Akinloye'], dtype='<U8')"
      ]
     },
     "execution_count": 30,
     "metadata": {},
     "output_type": "execute_result"
    }
   ],
   "source": [
    "names[first_letter_A]"
   ]
  },
  {
   "cell_type": "code",
   "execution_count": 31,
   "id": "25914051",
   "metadata": {},
   "outputs": [
    {
     "data": {
      "text/plain": [
       "array([2, 6])"
      ]
     },
     "execution_count": 31,
     "metadata": {},
     "output_type": "execute_result"
    }
   ],
   "source": [
    "a1[a1%2 == 0]"
   ]
  },
  {
   "cell_type": "markdown",
   "id": "73380de3",
   "metadata": {},
   "source": [
    "# Calculus and Statistical Function"
   ]
  },
  {
   "cell_type": "code",
   "execution_count": 32,
   "id": "724e2b40",
   "metadata": {},
   "outputs": [],
   "source": [
    "a1 = 2 * np.random.randint(0, 100, 1000)"
   ]
  },
  {
   "cell_type": "markdown",
   "id": "7e3ccb0c",
   "metadata": {},
   "source": [
    "**Mean, Standard Deviation, and Percentile of arrays**"
   ]
  },
  {
   "cell_type": "code",
   "execution_count": 33,
   "id": "7c7bc0f7",
   "metadata": {},
   "outputs": [
    {
     "data": {
      "text/plain": [
       "97.846"
      ]
     },
     "execution_count": 33,
     "metadata": {},
     "output_type": "execute_result"
    }
   ],
   "source": [
    "np.mean(a1)"
   ]
  },
  {
   "cell_type": "code",
   "execution_count": 34,
   "id": "80931d80",
   "metadata": {},
   "outputs": [
    {
     "data": {
      "text/plain": [
       "58.11461334294499"
      ]
     },
     "execution_count": 34,
     "metadata": {},
     "output_type": "execute_result"
    }
   ],
   "source": [
    "np.std(a1)"
   ]
  },
  {
   "cell_type": "code",
   "execution_count": 35,
   "id": "d83a7540",
   "metadata": {},
   "outputs": [
    {
     "data": {
      "text/plain": [
       "158.4000000000001"
      ]
     },
     "execution_count": 35,
     "metadata": {},
     "output_type": "execute_result"
    }
   ],
   "source": [
    "np.percentile(a1, 80)"
   ]
  },
  {
   "cell_type": "markdown",
   "id": "1a92133a",
   "metadata": {},
   "source": [
    "**Integrals and Derivatives**"
   ]
  },
  {
   "cell_type": "code",
   "execution_count": 36,
   "id": "7752f7b2",
   "metadata": {},
   "outputs": [],
   "source": [
    "x = np.linspace(1,10,100)\n",
    "y = 1/x**2 * np.sin(x)"
   ]
  },
  {
   "cell_type": "code",
   "execution_count": 37,
   "id": "58c96319",
   "metadata": {},
   "outputs": [
    {
     "data": {
      "image/png": "[encoded data removed]",
      "text/plain": [
       "<Figure size 432x288 with 1 Axes>"
      ]
     },
     "metadata": {
      "needs_background": "light"
     },
     "output_type": "display_data"
    }
   ],
   "source": [
    "plt.plot(x,y);"
   ]
  },
  {
   "cell_type": "code",
   "execution_count": 38,
   "id": "6594614e",
   "metadata": {},
   "outputs": [],
   "source": [
    "# Derivative\n",
    "\n",
    "dydx = np.gradient(y,x)"
   ]
  },
  {
   "cell_type": "code",
   "execution_count": 39,
   "id": "fb9a1dcc",
   "metadata": {},
   "outputs": [
    {
     "data": {
      "image/png": "[encoded data removed]",
      "text/plain": [
       "<Figure size 432x288 with 1 Axes>"
      ]
     },
     "metadata": {
      "needs_background": "light"
     },
     "output_type": "display_data"
    }
   ],
   "source": [
    "plt.plot(x, dydx);"
   ]
  },
  {
   "cell_type": "code",
   "execution_count": 40,
   "id": "17dba814",
   "metadata": {},
   "outputs": [
    {
     "data": {
      "text/plain": [
       "array([ 1,  3,  6, 10], dtype=int32)"
      ]
     },
     "execution_count": 40,
     "metadata": {},
     "output_type": "execute_result"
    }
   ],
   "source": [
    "# Cummulative Sum\n",
    "\n",
    "np.cumsum(np.array([1,2,3,4]))"
   ]
  },
  {
   "cell_type": "code",
   "execution_count": 41,
   "id": "ba27a252",
   "metadata": {},
   "outputs": [],
   "source": [
    "# Integral\n",
    "\n",
    "y_int = np.cumsum(y) * (x[1]-x[0])"
   ]
  },
  {
   "cell_type": "code",
   "execution_count": 42,
   "id": "d70c9b8f",
   "metadata": {},
   "outputs": [
    {
     "data": {
      "image/png": "[encoded data removed]",
      "text/plain": [
       "<Figure size 432x288 with 1 Axes>"
      ]
     },
     "metadata": {
      "needs_background": "light"
     },
     "output_type": "display_data"
    }
   ],
   "source": [
    "plt.plot(x, y_int);"
   ]
  },
  {
   "cell_type": "code",
   "execution_count": 43,
   "id": "2e1aa4db",
   "metadata": {},
   "outputs": [
    {
     "data": {
      "image/png": "[encoded data removed]",
      "text/plain": [
       "<Figure size 432x288 with 1 Axes>"
      ]
     },
     "metadata": {
      "needs_background": "light"
     },
     "output_type": "display_data"
    }
   ],
   "source": [
    "# Plot all the functions\n",
    "\n",
    "plt.plot(x,y)\n",
    "plt.plot(x, dydx)\n",
    "plt.plot(x, y_int);"
   ]
  },
  {
   "cell_type": "markdown",
   "id": "62b0ffae",
   "metadata": {},
   "source": [
    "## Example\n",
    "\n",
    "### Question 1:\n",
    "\n",
    "Let y = e^(-x/10)sin(x). Consider 10000 x interval in the range [0, 10]\n",
    "\n",
    "    1. Plot the function y vs x\n",
    "    2. Compute the mean and standard deviation of y for x values in [4,7]\n",
    "    3. For x in the range [4,7] find the value of ym such that 80% of y values are less than ym\n",
    "    4. Plot dy/dx vs x\n",
    "    5. Find the loations where dy/dx = 0"
   ]
  },
  {
   "cell_type": "code",
   "execution_count": 44,
   "id": "4eae6512",
   "metadata": {},
   "outputs": [],
   "source": [
    "# interval\n",
    "n = 10000\n",
    "\n",
    "# Interval of X\n",
    "x = np.linspace(0,10, n+1)\n",
    "\n",
    "# y values\n",
    "def f(x):\n",
    "    return np.exp(-x/10)*np.sin(x)\n",
    "\n",
    "y = f(x)"
   ]
  },
  {
   "cell_type": "code",
   "execution_count": 45,
   "id": "0d2e9bcf",
   "metadata": {},
   "outputs": [
    {
     "data": {
      "text/plain": [
       "array([ 0.        ,  0.0009999 ,  0.0019996 , ..., -0.19955634,\n",
       "       -0.19984539, -0.20013418])"
      ]
     },
     "execution_count": 45,
     "metadata": {},
     "output_type": "execute_result"
    }
   ],
   "source": [
    "y"
   ]
  },
  {
   "cell_type": "code",
   "execution_count": 46,
   "id": "a5c6fce1",
   "metadata": {},
   "outputs": [
    {
     "data": {
      "image/png": "[encoded data removed]",
      "text/plain": [
       "<Figure size 432x288 with 1 Axes>"
      ]
     },
     "metadata": {
      "needs_background": "light"
     },
     "output_type": "display_data"
    }
   ],
   "source": [
    "plt.plot(x,y);"
   ]
  },
  {
   "cell_type": "code",
   "execution_count": 47,
   "id": "87646202",
   "metadata": {},
   "outputs": [],
   "source": [
    "# Q2\n",
    "# 4 < x < 7\n",
    "\n",
    "xless4_7 = y[(x >= 4) * (x <= 7)]"
   ]
  },
  {
   "cell_type": "code",
   "execution_count": 48,
   "id": "fa136dbb",
   "metadata": {},
   "outputs": [
    {
     "data": {
      "text/plain": [
       "-0.2956023068963138"
      ]
     },
     "execution_count": 48,
     "metadata": {},
     "output_type": "execute_result"
    }
   ],
   "source": [
    "np.mean(xless4_7)"
   ]
  },
  {
   "cell_type": "code",
   "execution_count": 49,
   "id": "9e026a4f",
   "metadata": {},
   "outputs": [
    {
     "data": {
      "text/plain": [
       "0.31448753875085117"
      ]
     },
     "execution_count": 49,
     "metadata": {},
     "output_type": "execute_result"
    }
   ],
   "source": [
    "np.std(xless4_7)"
   ]
  },
  {
   "cell_type": "code",
   "execution_count": 50,
   "id": "621da271",
   "metadata": {},
   "outputs": [
    {
     "data": {
      "text/plain": [
       "0.06145551274590662"
      ]
     },
     "execution_count": 50,
     "metadata": {},
     "output_type": "execute_result"
    }
   ],
   "source": [
    "# Q3\n",
    "\n",
    "np.percentile(xless4_7, 80)"
   ]
  },
  {
   "cell_type": "code",
   "execution_count": 51,
   "id": "3de717f9",
   "metadata": {},
   "outputs": [
    {
     "data": {
      "image/png": "[encoded data removed]",
      "text/plain": [
       "<Figure size 432x288 with 1 Axes>"
      ]
     },
     "metadata": {
      "needs_background": "light"
     },
     "output_type": "display_data"
    }
   ],
   "source": [
    "# Q4\n",
    "\n",
    "# derivative of x\n",
    "dydx = np.gradient(y,x)\n",
    "\n",
    "# plot y against x\n",
    "plt.plot(x, dydx);"
   ]
  },
  {
   "cell_type": "code",
   "execution_count": 52,
   "id": "66d4e482",
   "metadata": {},
   "outputs": [
    {
     "data": {
      "text/plain": [
       "array([1.472, 4.613, 7.755])"
      ]
     },
     "execution_count": 52,
     "metadata": {},
     "output_type": "execute_result"
    }
   ],
   "source": [
    "#Q5\n",
    "\n",
    "x[1:][dydx[1:] * dydx[:-1] < 0]"
   ]
  },
  {
   "cell_type": "markdown",
   "id": "165813ea",
   "metadata": {},
   "source": [
    "### Question 2:\n",
    "\n",
    "Sum together every number from 0 to 10000 except for those that can be divided by 4 or 7. Do this in one line of code"
   ]
  },
  {
   "cell_type": "code",
   "execution_count": 53,
   "id": "6c6367bf",
   "metadata": {},
   "outputs": [
    {
     "data": {
      "text/plain": [
       "32147142"
      ]
     },
     "execution_count": 53,
     "metadata": {},
     "output_type": "execute_result"
    }
   ],
   "source": [
    "# sum of 0 - 10000\n",
    "num = np.arange(0,10001)\n",
    "np.sum(num[(num % 4 != 0) * (num % 7 != 0)])"
   ]
  },
  {
   "cell_type": "markdown",
   "id": "18acb513",
   "metadata": {},
   "source": [
    "### Question 3:\n",
    "\n",
    "Consider the flower petal r()"
   ]
  },
  {
   "cell_type": "code",
   "execution_count": 54,
   "id": "601a6538",
   "metadata": {},
   "outputs": [],
   "source": [
    "# 1\n",
    "theta = np.linspace(0, 2*np.pi, 1000)\n",
    "r = 1 + 3/4*np.sin(3*theta)\n",
    "\n",
    "# convert polar to cartesian cordinate\n",
    "\n",
    "x = r * np.cos(theta)\n",
    "y = r * np.sin(theta)"
   ]
  },
  {
   "cell_type": "code",
   "execution_count": 55,
   "id": "ce05bfeb",
   "metadata": {},
   "outputs": [
    {
     "data": {
      "image/png": "[encoded data removed]",
      "text/plain": [
       "<Figure size 432x288 with 1 Axes>"
      ]
     },
     "metadata": {
      "needs_background": "light"
     },
     "output_type": "display_data"
    }
   ],
   "source": [
    "plt.plot(x,y);"
   ]
  },
  {
   "cell_type": "code",
   "execution_count": 56,
   "id": "5776550a",
   "metadata": {},
   "outputs": [
    {
     "data": {
      "text/plain": [
       "4.028310324802908"
      ]
     },
     "execution_count": 56,
     "metadata": {},
     "output_type": "execute_result"
    }
   ],
   "source": [
    "# 2\n",
    "A = 1/2 * sum(r**2) * (theta[1] - theta[0])\n",
    "A"
   ]
  },
  {
   "cell_type": "code",
   "execution_count": 57,
   "id": "00078552",
   "metadata": {},
   "outputs": [
    {
     "data": {
      "text/plain": [
       "11.640021569013872"
      ]
     },
     "execution_count": 57,
     "metadata": {},
     "output_type": "execute_result"
    }
   ],
   "source": [
    "# 3 \n",
    "\n",
    "sum(np.sqrt(r**2 + np.gradient(r, theta)**2)) * (theta[1] - theta[0])"
   ]
  },
  {
   "cell_type": "markdown",
   "id": "d14c2eef",
   "metadata": {},
   "source": [
    "### Question 4:\n",
    "\n",
    "The power emitted by a blackbody is P = "
   ]
  },
  {
   "cell_type": "markdown",
   "id": "cb3e6ee6",
   "metadata": {},
   "source": [
    "$$ \\dfrac {P} {(A \\sigma \\epsilon T_0^4)} = \\left(\\frac{1}{1 + e^{-kt}} \\right)^4 $$"
   ]
  },
  {
   "cell_type": "code",
   "execution_count": 58,
   "id": "a3b7eda7",
   "metadata": {},
   "outputs": [],
   "source": [
    "kt = np.linspace(0,3, 100)\n",
    "P = (1/(1+np.exp(-kt))) ** 4\n",
    "E = np.cumsum(P) * (kt[1] - kt[0])"
   ]
  },
  {
   "cell_type": "code",
   "execution_count": 59,
   "id": "852b2541",
   "metadata": {},
   "outputs": [
    {
     "data": {
      "image/png": "[encoded data removed]",
      "text/plain": [
       "<Figure size 432x288 with 1 Axes>"
      ]
     },
     "metadata": {
      "needs_background": "light"
     },
     "output_type": "display_data"
    }
   ],
   "source": [
    "plt.plot(kt, P)\n",
    "plt.plot(kt, E);"
   ]
  },
  {
   "cell_type": "markdown",
   "id": "5a48eb39",
   "metadata": {},
   "source": [
    "# Multi-Dimensional Arrays"
   ]
  },
  {
   "cell_type": "markdown",
   "id": "201ab125",
   "metadata": {},
   "source": [
    "Creating multi dimensional arrays"
   ]
  },
  {
   "cell_type": "code",
   "execution_count": 60,
   "id": "b6805fe2",
   "metadata": {},
   "outputs": [
    {
     "data": {
      "text/plain": [
       "array([[1, 2, 3, 4],\n",
       "       [5, 6, 7, 8]])"
      ]
     },
     "execution_count": 60,
     "metadata": {},
     "output_type": "execute_result"
    }
   ],
   "source": [
    "arr = np.array([[1,2,3,4],\n",
    "                [5,6,7,8]])\n",
    "\n",
    "arr"
   ]
  },
  {
   "cell_type": "code",
   "execution_count": 61,
   "id": "631180c4",
   "metadata": {},
   "outputs": [
    {
     "data": {
      "text/plain": [
       "(2, 4)"
      ]
     },
     "execution_count": 61,
     "metadata": {},
     "output_type": "execute_result"
    }
   ],
   "source": [
    "arr.shape"
   ]
  },
  {
   "cell_type": "code",
   "execution_count": 62,
   "id": "e3992dd3",
   "metadata": {},
   "outputs": [
    {
     "data": {
      "text/plain": [
       "2"
      ]
     },
     "execution_count": 62,
     "metadata": {},
     "output_type": "execute_result"
    }
   ],
   "source": [
    "arr.ndim"
   ]
  },
  {
   "cell_type": "markdown",
   "id": "f382494f",
   "metadata": {},
   "source": [
    "Operations of multi-dimensional array"
   ]
  },
  {
   "cell_type": "code",
   "execution_count": 63,
   "id": "60964b1e",
   "metadata": {},
   "outputs": [
    {
     "data": {
      "text/plain": [
       "array([[ 2,  4,  6,  8],\n",
       "       [10, 12, 14, 16]])"
      ]
     },
     "execution_count": 63,
     "metadata": {},
     "output_type": "execute_result"
    }
   ],
   "source": [
    "arr * 2"
   ]
  },
  {
   "cell_type": "code",
   "execution_count": 64,
   "id": "7c4d411e",
   "metadata": {},
   "outputs": [
    {
     "data": {
      "text/plain": [
       "array([[ 3,  4,  5,  6],\n",
       "       [ 7,  8,  9, 10]])"
      ]
     },
     "execution_count": 64,
     "metadata": {},
     "output_type": "execute_result"
    }
   ],
   "source": [
    "arr + 2"
   ]
  },
  {
   "cell_type": "code",
   "execution_count": 65,
   "id": "bda2bf84",
   "metadata": {},
   "outputs": [
    {
     "data": {
      "text/plain": [
       "array([[ 1,  4,  9, 16],\n",
       "       [25, 36, 49, 64]], dtype=int32)"
      ]
     },
     "execution_count": 65,
     "metadata": {},
     "output_type": "execute_result"
    }
   ],
   "source": [
    "arr ** 2"
   ]
  },
  {
   "cell_type": "markdown",
   "id": "036ad035",
   "metadata": {},
   "source": [
    "**NB: You can turn any n-dimensional array to a 1d array using `ravel()` method**"
   ]
  },
  {
   "cell_type": "code",
   "execution_count": 66,
   "id": "75ec1d28",
   "metadata": {},
   "outputs": [
    {
     "data": {
      "text/plain": [
       "array([[1, 2, 3, 4],\n",
       "       [5, 6, 7, 8]])"
      ]
     },
     "execution_count": 66,
     "metadata": {},
     "output_type": "execute_result"
    }
   ],
   "source": [
    "arr"
   ]
  },
  {
   "cell_type": "code",
   "execution_count": 67,
   "id": "c9a70eb0",
   "metadata": {
    "scrolled": true
   },
   "outputs": [
    {
     "data": {
      "text/plain": [
       "array([1, 2, 3, 4, 5, 6, 7, 8])"
      ]
     },
     "execution_count": 67,
     "metadata": {},
     "output_type": "execute_result"
    }
   ],
   "source": [
    "arr.ravel()"
   ]
  },
  {
   "cell_type": "code",
   "execution_count": 68,
   "id": "3c3e0922",
   "metadata": {},
   "outputs": [
    {
     "data": {
      "text/plain": [
       "array([[False, False, False, False],\n",
       "       [False,  True,  True,  True]])"
      ]
     },
     "execution_count": 68,
     "metadata": {},
     "output_type": "execute_result"
    }
   ],
   "source": [
    "arr > 5"
   ]
  },
  {
   "cell_type": "code",
   "execution_count": 69,
   "id": "d8bf0c79",
   "metadata": {},
   "outputs": [
    {
     "data": {
      "text/plain": [
       "array([6, 7, 8])"
      ]
     },
     "execution_count": 69,
     "metadata": {},
     "output_type": "execute_result"
    }
   ],
   "source": [
    "arr[arr > 5]"
   ]
  },
  {
   "cell_type": "code",
   "execution_count": 70,
   "id": "7db6bb2d",
   "metadata": {},
   "outputs": [],
   "source": [
    "a2 = np.random.randn(2,4)"
   ]
  },
  {
   "cell_type": "code",
   "execution_count": 71,
   "id": "8cb563ea",
   "metadata": {},
   "outputs": [
    {
     "data": {
      "text/plain": [
       "array([[ 0.73887851, -0.26786904,  0.130022  ,  0.20753296],\n",
       "       [ 0.66825265,  1.9176641 , -0.70015716, -0.11231278]])"
      ]
     },
     "execution_count": 71,
     "metadata": {},
     "output_type": "execute_result"
    }
   ],
   "source": [
    "a2"
   ]
  },
  {
   "cell_type": "code",
   "execution_count": 72,
   "id": "9d3acd76",
   "metadata": {},
   "outputs": [
    {
     "data": {
      "text/plain": [
       "array([ 1.9176641 , -0.70015716, -0.11231278])"
      ]
     },
     "execution_count": 72,
     "metadata": {},
     "output_type": "execute_result"
    }
   ],
   "source": [
    "a2[arr > 5]"
   ]
  },
  {
   "cell_type": "markdown",
   "id": "1ddf3b8a",
   "metadata": {},
   "source": [
    "Element Indexing"
   ]
  },
  {
   "cell_type": "code",
   "execution_count": 73,
   "id": "12f05444",
   "metadata": {},
   "outputs": [
    {
     "data": {
      "text/plain": [
       "array([1, 2, 3, 4])"
      ]
     },
     "execution_count": 73,
     "metadata": {},
     "output_type": "execute_result"
    }
   ],
   "source": [
    "arr[0]"
   ]
  },
  {
   "cell_type": "code",
   "execution_count": 74,
   "id": "3c97edb7",
   "metadata": {},
   "outputs": [
    {
     "data": {
      "text/plain": [
       "array([5, 6, 7, 8])"
      ]
     },
     "execution_count": 74,
     "metadata": {},
     "output_type": "execute_result"
    }
   ],
   "source": [
    "arr[1]"
   ]
  },
  {
   "cell_type": "code",
   "execution_count": 75,
   "id": "04f2bb56",
   "metadata": {},
   "outputs": [
    {
     "data": {
      "text/plain": [
       "array([[1, 2, 3, 4],\n",
       "       [5, 6, 7, 8]])"
      ]
     },
     "execution_count": 75,
     "metadata": {},
     "output_type": "execute_result"
    }
   ],
   "source": [
    "arr"
   ]
  },
  {
   "cell_type": "code",
   "execution_count": 76,
   "id": "67b8f477",
   "metadata": {},
   "outputs": [
    {
     "data": {
      "text/plain": [
       "array([1, 5])"
      ]
     },
     "execution_count": 76,
     "metadata": {},
     "output_type": "execute_result"
    }
   ],
   "source": [
    "arr[:,0]"
   ]
  },
  {
   "cell_type": "code",
   "execution_count": 77,
   "id": "e1701129",
   "metadata": {},
   "outputs": [],
   "source": [
    "arr1 = np.array([[1,2,3],\n",
    "                 [4,5,6],\n",
    "                 [7,8,9]])"
   ]
  },
  {
   "cell_type": "code",
   "execution_count": 78,
   "id": "d81d1ce2",
   "metadata": {},
   "outputs": [
    {
     "data": {
      "text/plain": [
       "array([1, 4, 7])"
      ]
     },
     "execution_count": 78,
     "metadata": {},
     "output_type": "execute_result"
    }
   ],
   "source": [
    "arr1[:, 0]"
   ]
  },
  {
   "cell_type": "code",
   "execution_count": 79,
   "id": "05511335",
   "metadata": {},
   "outputs": [
    {
     "data": {
      "text/plain": [
       "array([[4, 5],\n",
       "       [7, 8]])"
      ]
     },
     "execution_count": 79,
     "metadata": {},
     "output_type": "execute_result"
    }
   ],
   "source": [
    "arr1[1:,:2]"
   ]
  },
  {
   "cell_type": "markdown",
   "id": "792c4d98",
   "metadata": {},
   "source": [
    "# Dealing with 2D functions"
   ]
  },
  {
   "cell_type": "markdown",
   "id": "894049c9",
   "metadata": {},
   "source": [
    "Function in 2 dimensions"
   ]
  },
  {
   "cell_type": "code",
   "execution_count": 80,
   "id": "674b74b3",
   "metadata": {},
   "outputs": [],
   "source": [
    "x = np.linspace(0, 10, 1000)\n",
    "y = np.linspace(0,5,500)"
   ]
  },
  {
   "cell_type": "markdown",
   "id": "61f60bb9",
   "metadata": {},
   "source": [
    "**Need to use Meshgrids**"
   ]
  },
  {
   "cell_type": "code",
   "execution_count": 81,
   "id": "61ffbe8a",
   "metadata": {},
   "outputs": [],
   "source": [
    "xv, yv = np.meshgrid(x,y)"
   ]
  },
  {
   "cell_type": "code",
   "execution_count": 82,
   "id": "45e58191",
   "metadata": {},
   "outputs": [
    {
     "data": {
      "text/plain": [
       "array([[ 0.        ,  0.01001001,  0.02002002, ...,  9.97997998,\n",
       "         9.98998999, 10.        ],\n",
       "       [ 0.        ,  0.01001001,  0.02002002, ...,  9.97997998,\n",
       "         9.98998999, 10.        ],\n",
       "       [ 0.        ,  0.01001001,  0.02002002, ...,  9.97997998,\n",
       "         9.98998999, 10.        ],\n",
       "       ...,\n",
       "       [ 0.        ,  0.01001001,  0.02002002, ...,  9.97997998,\n",
       "         9.98998999, 10.        ],\n",
       "       [ 0.        ,  0.01001001,  0.02002002, ...,  9.97997998,\n",
       "         9.98998999, 10.        ],\n",
       "       [ 0.        ,  0.01001001,  0.02002002, ...,  9.97997998,\n",
       "         9.98998999, 10.        ]])"
      ]
     },
     "execution_count": 82,
     "metadata": {},
     "output_type": "execute_result"
    }
   ],
   "source": [
    "xv"
   ]
  },
  {
   "cell_type": "code",
   "execution_count": 83,
   "id": "8737d654",
   "metadata": {},
   "outputs": [
    {
     "data": {
      "text/plain": [
       "array([[0.        , 0.        , 0.        , ..., 0.        , 0.        ,\n",
       "        0.        ],\n",
       "       [0.01002004, 0.01002004, 0.01002004, ..., 0.01002004, 0.01002004,\n",
       "        0.01002004],\n",
       "       [0.02004008, 0.02004008, 0.02004008, ..., 0.02004008, 0.02004008,\n",
       "        0.02004008],\n",
       "       ...,\n",
       "       [4.97995992, 4.97995992, 4.97995992, ..., 4.97995992, 4.97995992,\n",
       "        4.97995992],\n",
       "       [4.98997996, 4.98997996, 4.98997996, ..., 4.98997996, 4.98997996,\n",
       "        4.98997996],\n",
       "       [5.        , 5.        , 5.        , ..., 5.        , 5.        ,\n",
       "        5.        ]])"
      ]
     },
     "execution_count": 83,
     "metadata": {},
     "output_type": "execute_result"
    }
   ],
   "source": [
    "yv"
   ]
  },
  {
   "cell_type": "code",
   "execution_count": 84,
   "id": "dcd48973",
   "metadata": {},
   "outputs": [],
   "source": [
    "zv = xv**2 + yv**2"
   ]
  },
  {
   "cell_type": "code",
   "execution_count": 85,
   "id": "8d3ff18b",
   "metadata": {},
   "outputs": [
    {
     "data": {
      "image/png": "[encoded data removed]",
      "text/plain": [
       "<Figure size 432x288 with 2 Axes>"
      ]
     },
     "metadata": {
      "needs_background": "light"
     },
     "output_type": "display_data"
    }
   ],
   "source": [
    "plt.contourf(xv, yv, zv, levels=30)\n",
    "plt.colorbar();"
   ]
  },
  {
   "cell_type": "markdown",
   "id": "b2c054d2",
   "metadata": {},
   "source": [
    "# Basic Linear Algebra\n",
    "\n",
    "### Matrix Operations"
   ]
  },
  {
   "cell_type": "code",
   "execution_count": 86,
   "id": "bb39ba40",
   "metadata": {},
   "outputs": [],
   "source": [
    "# Scipy is mostly used for linear algebra but can also be done using numpy\n",
    "\n",
    "A = np.array([[3,2,1],[5,-5,4],[6,0,1]])\n",
    "b1 = np.array([1,2,3])\n",
    "b2 = np.array([-1,2,-5])"
   ]
  },
  {
   "cell_type": "code",
   "execution_count": 87,
   "id": "fb9add4c",
   "metadata": {},
   "outputs": [
    {
     "data": {
      "text/plain": [
       "array([[ 3,  2,  1],\n",
       "       [ 5, -5,  4],\n",
       "       [ 6,  0,  1]])"
      ]
     },
     "execution_count": 87,
     "metadata": {},
     "output_type": "execute_result"
    }
   ],
   "source": [
    "A"
   ]
  },
  {
   "cell_type": "code",
   "execution_count": 88,
   "id": "fd2ff27c",
   "metadata": {},
   "outputs": [
    {
     "data": {
      "text/plain": [
       "array([1, 2, 3])"
      ]
     },
     "execution_count": 88,
     "metadata": {},
     "output_type": "execute_result"
    }
   ],
   "source": [
    "b1"
   ]
  },
  {
   "cell_type": "code",
   "execution_count": 89,
   "id": "b9640956",
   "metadata": {},
   "outputs": [
    {
     "data": {
      "text/plain": [
       "array([10,  7,  9])"
      ]
     },
     "execution_count": 89,
     "metadata": {},
     "output_type": "execute_result"
    }
   ],
   "source": [
    "A @ b1"
   ]
  },
  {
   "cell_type": "code",
   "execution_count": 90,
   "id": "6633c948",
   "metadata": {},
   "outputs": [
    {
     "data": {
      "text/plain": [
       "array([[ 3,  5,  6],\n",
       "       [ 2, -5,  0],\n",
       "       [ 1,  4,  1]])"
      ]
     },
     "execution_count": 90,
     "metadata": {},
     "output_type": "execute_result"
    }
   ],
   "source": [
    "# Transpose\n",
    "\n",
    "A.T"
   ]
  },
  {
   "cell_type": "code",
   "execution_count": 91,
   "id": "aec2fa44",
   "metadata": {},
   "outputs": [
    {
     "data": {
      "text/plain": [
       "-12"
      ]
     },
     "execution_count": 91,
     "metadata": {},
     "output_type": "execute_result"
    }
   ],
   "source": [
    "# dot product\n",
    "\n",
    "np.dot(b1,b2)"
   ]
  },
  {
   "cell_type": "code",
   "execution_count": 92,
   "id": "ea6b217e",
   "metadata": {},
   "outputs": [
    {
     "data": {
      "text/plain": [
       "array([-16,   2,   4])"
      ]
     },
     "execution_count": 92,
     "metadata": {},
     "output_type": "execute_result"
    }
   ],
   "source": [
    "# cross product\n",
    "\n",
    "np.cross(b1,b2)"
   ]
  },
  {
   "cell_type": "markdown",
   "id": "20b22e42",
   "metadata": {},
   "source": [
    "### Systems of Equations\n",
    "\n",
    "3x + 2y + z = 4\n",
    "\n",
    "5x - 5y + 4z = 3\n",
    "\n",
    "6x + z = 0"
   ]
  },
  {
   "cell_type": "code",
   "execution_count": 93,
   "id": "5e490d20",
   "metadata": {},
   "outputs": [],
   "source": [
    "A = np.array([[3,2,1],[5,-5,4],[6,0,1]])\n",
    "b = np.array([4,3,0])"
   ]
  },
  {
   "cell_type": "code",
   "execution_count": 94,
   "id": "79b17a34",
   "metadata": {},
   "outputs": [
    {
     "data": {
      "text/plain": [
       "array([-0.49056604,  1.26415094,  2.94339623])"
      ]
     },
     "execution_count": 94,
     "metadata": {},
     "output_type": "execute_result"
    }
   ],
   "source": [
    "np.linalg.solve(A,b)"
   ]
  },
  {
   "cell_type": "markdown",
   "id": "d3bab64e",
   "metadata": {},
   "source": [
    "### Finding Eigenvalues"
   ]
  },
  {
   "cell_type": "code",
   "execution_count": 95,
   "id": "1137bc09",
   "metadata": {},
   "outputs": [],
   "source": [
    "A = np.array([[4,2,2],[2,4,2],[2,2,4]])\n",
    "\n",
    "# eigenvalues\n",
    "w, v = np.linalg.eig(A)"
   ]
  },
  {
   "cell_type": "code",
   "execution_count": 96,
   "id": "28ed9d7d",
   "metadata": {},
   "outputs": [
    {
     "data": {
      "text/plain": [
       "array([2., 8., 2.])"
      ]
     },
     "execution_count": 96,
     "metadata": {},
     "output_type": "execute_result"
    }
   ],
   "source": [
    "w"
   ]
  },
  {
   "cell_type": "code",
   "execution_count": 97,
   "id": "dbd4d30b",
   "metadata": {},
   "outputs": [
    {
     "data": {
      "text/plain": [
       "array([[-0.81649658,  0.57735027, -0.23513651],\n",
       "       [ 0.40824829,  0.57735027, -0.55958248],\n",
       "       [ 0.40824829,  0.57735027,  0.79471899]])"
      ]
     },
     "execution_count": 97,
     "metadata": {},
     "output_type": "execute_result"
    }
   ],
   "source": [
    "v"
   ]
  },
  {
   "cell_type": "code",
   "execution_count": 98,
   "id": "9d68aee3",
   "metadata": {},
   "outputs": [
    {
     "data": {
      "text/plain": [
       "array([-0.81649658,  0.40824829,  0.40824829])"
      ]
     },
     "execution_count": 98,
     "metadata": {},
     "output_type": "execute_result"
    }
   ],
   "source": [
    "# eigen vector\n",
    "\n",
    "v1 = v[:,0]\n",
    "v1"
   ]
  },
  {
   "cell_type": "code",
   "execution_count": 99,
   "id": "b5be7989",
   "metadata": {},
   "outputs": [
    {
     "data": {
      "text/plain": [
       "array([-1.63299316,  0.81649658,  0.81649658])"
      ]
     },
     "execution_count": 99,
     "metadata": {},
     "output_type": "execute_result"
    }
   ],
   "source": [
    "A @ v1"
   ]
  },
  {
   "cell_type": "code",
   "execution_count": 100,
   "id": "67e71bda",
   "metadata": {},
   "outputs": [
    {
     "data": {
      "text/plain": [
       "array([-1.63299316,  0.81649658,  0.81649658])"
      ]
     },
     "execution_count": 100,
     "metadata": {},
     "output_type": "execute_result"
    }
   ],
   "source": [
    "w[0] * v1"
   ]
  },
  {
   "cell_type": "markdown",
   "id": "9cbac604",
   "metadata": {},
   "source": [
    "## Examples\n",
    "\n",
    "### Question 1\n",
    "\n",
    "Let $$ f(x,y) = e^{-x^2+y^2} * sin(x) for -2 <= x <= 2 and -2 <= y <= 2 $$\n",
    "\n",
    "1. Make a contour plot of f"
   ]
  },
  {
   "cell_type": "code",
   "execution_count": 101,
   "id": "3a9999da",
   "metadata": {},
   "outputs": [
    {
     "data": {
      "image/png": "[encoded data removed]",
      "text/plain": [
       "<Figure size 432x288 with 2 Axes>"
      ]
     },
     "metadata": {
      "needs_background": "light"
     },
     "output_type": "display_data"
    }
   ],
   "source": [
    "# 1\n",
    "\n",
    "x = np.linspace(-2,2,1000)\n",
    "y = np.linspace(-2, 2, 1000)\n",
    "\n",
    "xv, yv = np.meshgrid(x,y)\n",
    "f = np.exp(-(xv**2 + yv**2)) + np.sin(xv)\n",
    "plt.contourf(xv, yv, f, levels=100)\n",
    "plt.colorbar();"
   ]
  },
  {
   "cell_type": "code",
   "execution_count": 102,
   "id": "f79b3792",
   "metadata": {},
   "outputs": [
    {
     "data": {
      "text/plain": [
       "12.343150362426519"
      ]
     },
     "execution_count": 102,
     "metadata": {},
     "output_type": "execute_result"
    }
   ],
   "source": [
    "# 2\n",
    "\n",
    "np.abs(f.ravel()).sum() * np.diff(x)[0] * np.diff(y)[0]"
   ]
  },
  {
   "cell_type": "code",
   "execution_count": 103,
   "id": "f3c720f2",
   "metadata": {},
   "outputs": [
    {
     "data": {
      "text/plain": [
       "11.648298120071404"
      ]
     },
     "execution_count": 103,
     "metadata": {},
     "output_type": "execute_result"
    }
   ],
   "source": [
    "# 3\n",
    "\n",
    "np.abs(f[xv**2 + yv**2 > 0.5**2].ravel()).sum() * np.diff(x)[0] * np.diff(y)[0]\n"
   ]
  },
  {
   "cell_type": "markdown",
   "id": "c2f9eeea",
   "metadata": {},
   "source": [
    "### Question 2:\n",
    "\n",
    "After examining a circuit full of resistors, you find that the voltage at 4 specified points is given by:\n",
    "$ 3V_1 + 2V_2 + 3V_3 + 10V_4 = 4 \\\\\n",
    "2V_1 - 2V_2 + 5V_3 + 8V_4 = 1 \\\\\n",
    "3V_1 + 3V_2 + 4V_3 + 9V_4 = 3 \\\\\n",
    "3V_1 + 4V_2 - 3V_3 - 7V_4 = 2\n",
    "$\n",
    "\n",
    "Find all the voltage"
   ]
  },
  {
   "cell_type": "code",
   "execution_count": 104,
   "id": "bf0a40f3",
   "metadata": {},
   "outputs": [
    {
     "data": {
      "text/plain": [
       "array([ 0.78378378,  0.03603604, -0.67567568,  0.36036036])"
      ]
     },
     "execution_count": 104,
     "metadata": {},
     "output_type": "execute_result"
    }
   ],
   "source": [
    "xyzw = np.array([[3,2,3,10],[2,-2,5,8],[3,3,4,9],[3,4,-3,-7]])\n",
    "v = np.array([4,1,3,2])\n",
    "\n",
    "np.linalg.solve(xyzw, v)"
   ]
  },
  {
   "cell_type": "markdown",
   "id": "75c45c21",
   "metadata": {},
   "source": [
    "### Question 3:\n",
    "\n",
    "An electric field is given by $\\vec{E}{z,t} = E_0 \\cos(z-t) \\hat{x} + 2E_0 \\cos(z-t+\\pi/2) \\hat{y}$.\n",
    "\n",
    "1. Find the magnetic field of all $ z \\in [0,4\\pi]$ and $t \\in [0,10]$ using $\\vec {B}(z,t) = \\hat{z} \\times \\vec{E}(z,t)$\n",
    "2. Compute the poynting vector $\\vec{S} = \\vec{E} \\times \\vec{B}$ for all $z$ and $t$"
   ]
  },
  {
   "cell_type": "code",
   "execution_count": 105,
   "id": "f1d86189",
   "metadata": {},
   "outputs": [],
   "source": [
    "# 1\n",
    "\n",
    "z = np.linspace(0, 4*np.pi, 100)\n",
    "t = np.linspace(0, 10, 100)\n",
    "\n",
    "tv, zv = np.meshgrid(t,z)\n",
    "\n",
    "Ex = np.cos(zv-tv)\n",
    "Ey = 2*np.cos(zv-tv + np.pi/2)\n",
    "Ez = 0*tv"
   ]
  },
  {
   "cell_type": "markdown",
   "id": "674fbd85",
   "metadata": {},
   "source": [
    "$ E_x as function$ of $ z $ at $t$ = 0 "
   ]
  },
  {
   "cell_type": "code",
   "execution_count": 106,
   "id": "fa799db2",
   "metadata": {
    "scrolled": true
   },
   "outputs": [
    {
     "data": {
      "image/png": "[encoded data removed]",
      "text/plain": [
       "<Figure size 432x288 with 1 Axes>"
      ]
     },
     "metadata": {
      "needs_background": "light"
     },
     "output_type": "display_data"
    }
   ],
   "source": [
    "plt.plot(t, Ex[0]);"
   ]
  },
  {
   "cell_type": "code",
   "execution_count": 107,
   "id": "1302b07e",
   "metadata": {},
   "outputs": [
    {
     "data": {
      "image/png": "[encoded data removed]",
      "text/plain": [
       "<Figure size 432x288 with 1 Axes>"
      ]
     },
     "metadata": {
      "needs_background": "light"
     },
     "output_type": "display_data"
    }
   ],
   "source": [
    "plt.plot(t, Ex[:,0]);"
   ]
  },
  {
   "cell_type": "code",
   "execution_count": 108,
   "id": "60420257",
   "metadata": {},
   "outputs": [],
   "source": [
    "E = np.array([Ex, Ey, Ez])\n",
    "E = np.swapaxes(E, 0, -1)"
   ]
  },
  {
   "cell_type": "code",
   "execution_count": 109,
   "id": "10c8399d",
   "metadata": {},
   "outputs": [],
   "source": [
    "B = np.cross(np.array([0,0,1]), E)"
   ]
  },
  {
   "cell_type": "code",
   "execution_count": 110,
   "id": "236c4f43",
   "metadata": {},
   "outputs": [],
   "source": [
    "B = np.swapaxes(B, 0, -1)"
   ]
  },
  {
   "cell_type": "code",
   "execution_count": 111,
   "id": "41b4a653",
   "metadata": {},
   "outputs": [
    {
     "data": {
      "image/png": "[encoded data removed]",
      "text/plain": [
       "<Figure size 432x288 with 1 Axes>"
      ]
     },
     "metadata": {
      "needs_background": "light"
     },
     "output_type": "display_data"
    }
   ],
   "source": [
    "Bx, By, Bz = B\n",
    "\n",
    "plt.plot(t, Ey[0])\n",
    "plt.plot(t, Bx[0]);"
   ]
  },
  {
   "cell_type": "code",
   "execution_count": 112,
   "id": "95c839c6",
   "metadata": {},
   "outputs": [],
   "source": [
    "# 3\n",
    "\n",
    "B = np.swapaxes(B, 0, -1)"
   ]
  },
  {
   "cell_type": "code",
   "execution_count": 113,
   "id": "0a1d6aa5",
   "metadata": {},
   "outputs": [],
   "source": [
    "S = np.cross(E,B)\n",
    "S = np.swapaxes(S, 0, -1)"
   ]
  },
  {
   "cell_type": "code",
   "execution_count": 114,
   "id": "94f8b3ca",
   "metadata": {},
   "outputs": [],
   "source": [
    "Sx, Sy, Sz = S"
   ]
  },
  {
   "cell_type": "code",
   "execution_count": 115,
   "id": "d06a36b4",
   "metadata": {},
   "outputs": [
    {
     "data": {
      "text/plain": [
       "array([[0., 0., 0., ..., 0., 0., 0.],\n",
       "       [0., 0., 0., ..., 0., 0., 0.],\n",
       "       [0., 0., 0., ..., 0., 0., 0.],\n",
       "       ...,\n",
       "       [0., 0., 0., ..., 0., 0., 0.],\n",
       "       [0., 0., 0., ..., 0., 0., 0.],\n",
       "       [0., 0., 0., ..., 0., 0., 0.]])"
      ]
     },
     "execution_count": 115,
     "metadata": {},
     "output_type": "execute_result"
    }
   ],
   "source": [
    "Sx"
   ]
  },
  {
   "cell_type": "code",
   "execution_count": 116,
   "id": "56272159",
   "metadata": {},
   "outputs": [
    {
     "data": {
      "text/plain": [
       "array([[-0., -0., -0., ...,  0.,  0.,  0.],\n",
       "       [ 0.,  0., -0., ...,  0.,  0.,  0.],\n",
       "       [ 0.,  0.,  0., ...,  0.,  0.,  0.],\n",
       "       ...,\n",
       "       [-0., -0., -0., ...,  0.,  0.,  0.],\n",
       "       [-0., -0., -0., ...,  0.,  0.,  0.],\n",
       "       [-0., -0., -0., ...,  0.,  0.,  0.]])"
      ]
     },
     "execution_count": 116,
     "metadata": {},
     "output_type": "execute_result"
    }
   ],
   "source": [
    "Sy"
   ]
  },
  {
   "cell_type": "code",
   "execution_count": 117,
   "id": "215cb043",
   "metadata": {},
   "outputs": [
    {
     "data": {
      "text/plain": [
       "array([[1.        , 1.03050516, 1.12077989, ..., 1.39879671, 1.62555339,\n",
       "        1.88787691],\n",
       "       [1.04807695, 1.00201554, 1.01688248, ..., 1.17829636, 1.3474948 ,\n",
       "        1.5635697 ],\n",
       "       [1.18922593, 1.06955062, 1.00805676, ..., 1.04252065, 1.14331478,\n",
       "        1.29929012],\n",
       "       ...,\n",
       "       [1.18922593, 1.36221508, 1.58148197, ..., 2.03290773, 2.32841596,\n",
       "        2.63090312],\n",
       "       [1.04807695, 1.15319321, 1.31308889, ..., 1.68988705, 1.95966627,\n",
       "        2.25142279],\n",
       "       [1.        , 1.03050516, 1.12077989, ..., 1.39879671, 1.62555339,\n",
       "        1.88787691]])"
      ]
     },
     "execution_count": 117,
     "metadata": {},
     "output_type": "execute_result"
    }
   ],
   "source": [
    "Sz"
   ]
  },
  {
   "cell_type": "markdown",
   "id": "db090012",
   "metadata": {},
   "source": [
    "### Question 4:\n",
    "\n",
    "Find the solution to $(\\frac{d^2}{dx^2} + (10x)^2) f = \\lambda f $ with boundary conditions $f(0) = f(1) = 0$\n",
    "\n",
    "* Use the eigenvalue method and fact that $ \\dfrac{d^2f}{dx^2} = \\dfrac{f_{i+1} + f_{i-1} - 2f_i}{\\Delta x^2} where f_i = f(i\\Delta x) $ and $i$ is an integer."
   ]
  },
  {
   "cell_type": "code",
   "execution_count": 118,
   "id": "352818ce",
   "metadata": {},
   "outputs": [],
   "source": [
    "N = 1000\n",
    "x = np.linspace(0,1,N+1)\n",
    "dx = x[1] - x[0]"
   ]
  },
  {
   "cell_type": "code",
   "execution_count": 124,
   "id": "6e564fb7",
   "metadata": {},
   "outputs": [],
   "source": [
    "main_diag = -2*np.ones(N-1 )\n",
    "off_diag = np.ones(N-2)\n",
    "derivative_matrix = (np.diag(main_diag) + np.diag(off_diag, -1) + + np.diag(off_diag, 1))  / dx**2\n",
    "x2_matrix = np.diag((10*x[1:-1])**2)\n",
    "LHS_matrix = derivative_matrix + x2_matrix"
   ]
  },
  {
   "cell_type": "code",
   "execution_count": 125,
   "id": "fd578a15",
   "metadata": {},
   "outputs": [],
   "source": [
    "w, v = np.linalg.eigh(LHS_matrix)"
   ]
  },
  {
   "cell_type": "code",
   "execution_count": 126,
   "id": "0060445a",
   "metadata": {},
   "outputs": [
    {
     "data": {
      "image/png": "[encoded data removed]",
      "text/plain": [
       "<Figure size 432x288 with 1 Axes>"
      ]
     },
     "metadata": {
      "needs_background": "light"
     },
     "output_type": "display_data"
    }
   ],
   "source": [
    "plt.plot(v[:,-1])\n",
    "plt.plot(v[:,-2])\n",
    "plt.plot(v[:,-3])\n",
    "plt.plot(v[:,-4]);"
   ]
  },
  {
   "cell_type": "code",
   "execution_count": null,
   "id": "cd9e7e47",
   "metadata": {},
   "outputs": [],
   "source": []
  }
 ],
 "metadata": {
  "kernelspec": {
   "display_name": "Python 3",
   "language": "python",
   "name": "python3"
  },
  "language_info": {
   "codemirror_mode": {
    "name": "ipython",
    "version": 3
   },
   "file_extension": ".py",
   "mimetype": "text/x-python",
   "name": "python",
   "nbconvert_exporter": "python",
   "pygments_lexer": "ipython3",
   "version": "3.8.8"
  }
 },
 "nbformat": 4,
 "nbformat_minor": 5
}
